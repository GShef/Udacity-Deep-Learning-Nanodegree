{
 "cells": [
  {
   "cell_type": "markdown",
   "metadata": {},
   "source": [
    "# Creating a Sentiment Analysis Web App\n",
    "## Using PyTorch and SageMaker\n",
    "\n",
    "_Deep Learning Nanodegree Program | Deployment_\n",
    "\n",
    "---\n",
    "\n",
    "Now that we have a basic understanding of how SageMaker works we will try to use it to construct a complete project from end to end. Our goal will be to have a simple web page which a user can use to enter a movie review. The web page will then send the review off to our deployed model which will predict the sentiment of the entered review.\n",
    "\n",
    "## Instructions\n",
    "\n",
    "Some template code has already been provided for you, and you will need to implement additional functionality to successfully complete this notebook. You will not need to modify the included code beyond what is requested. Sections that begin with '**TODO**' in the header indicate that you need to complete or implement some portion within them. Instructions will be provided for each section and the specifics of the implementation are marked in the code block with a `# TODO: ...` comment. Please be sure to read the instructions carefully!\n",
    "\n",
    "In addition to implementing code, there will be questions for you to answer which relate to the task and your implementation. Each section where you will answer a question is preceded by a '**Question:**' header. Carefully read each question and provide your answer below the '**Answer:**' header by editing the Markdown cell.\n",
    "\n",
    "> **Note**: Code and Markdown cells can be executed using the **Shift+Enter** keyboard shortcut. In addition, a cell can be edited by typically clicking it (double-click for Markdown cells) or by pressing **Enter** while it is highlighted.\n",
    "\n",
    "## General Outline\n",
    "\n",
    "Recall the general outline for SageMaker projects using a notebook instance.\n",
    "\n",
    "1. Download or otherwise retrieve the data.\n",
    "2. Process / Prepare the data.\n",
    "3. Upload the processed data to S3.\n",
    "4. Train a chosen model.\n",
    "5. Test the trained model (typically using a batch transform job).\n",
    "6. Deploy the trained model.\n",
    "7. Use the deployed model.\n",
    "\n",
    "For this project, you will be following the steps in the general outline with some modifications. \n",
    "\n",
    "First, you will not be testing the model in its own step. You will still be testing the model, however, you will do it by deploying your model and then using the deployed model by sending the test data to it. One of the reasons for doing this is so that you can make sure that your deployed model is working correctly before moving forward.\n",
    "\n",
    "In addition, you will deploy and use your trained model a second time. In the second iteration you will customize the way that your trained model is deployed by including some of your own code. In addition, your newly deployed model will be used in the sentiment analysis web app."
   ]
  },
  {
   "cell_type": "markdown",
   "metadata": {},
   "source": [
    "## Step 1: Downloading the data\n",
    "\n",
    "As in the XGBoost in SageMaker notebook, we will be using the [IMDb dataset](http://ai.stanford.edu/~amaas/data/sentiment/)\n",
    "\n",
    "> Maas, Andrew L., et al. [Learning Word Vectors for Sentiment Analysis](http://ai.stanford.edu/~amaas/data/sentiment/). In _Proceedings of the 49th Annual Meeting of the Association for Computational Linguistics: Human Language Technologies_. Association for Computational Linguistics, 2011."
   ]
  },
  {
   "cell_type": "code",
   "execution_count": 1,
   "metadata": {},
   "outputs": [
    {
     "name": "stdout",
     "output_type": "stream",
     "text": [
      "--2019-12-26 15:45:00--  http://ai.stanford.edu/~amaas/data/sentiment/aclImdb_v1.tar.gz\n",
      "Resolving ai.stanford.edu (ai.stanford.edu)... 171.64.68.10\n",
      "Connecting to ai.stanford.edu (ai.stanford.edu)|171.64.68.10|:80... connected.\n",
      "HTTP request sent, awaiting response... 200 OK\n",
      "Length: 84125825 (80M) [application/x-gzip]\n",
      "Saving to: ‘../data/aclImdb_v1.tar.gz’\n",
      "\n",
      "../data/aclImdb_v1. 100%[===================>]  80.23M   352KB/s    in 4m 32s  \n",
      "\n",
      "2019-12-26 15:49:33 (302 KB/s) - ‘../data/aclImdb_v1.tar.gz’ saved [84125825/84125825]\n",
      "\n"
     ]
    }
   ],
   "source": [
    "%mkdir ../data\n",
    "!wget -O ../data/aclImdb_v1.tar.gz http://ai.stanford.edu/~amaas/data/sentiment/aclImdb_v1.tar.gz\n",
    "!tar -zxf ../data/aclImdb_v1.tar.gz -C ../data"
   ]
  },
  {
   "cell_type": "markdown",
   "metadata": {},
   "source": [
    "## Step 2: Preparing and Processing the data\n",
    "\n",
    "Also, as in the XGBoost notebook, we will be doing some initial data processing. The first few steps are the same as in the XGBoost example. To begin with, we will read in each of the reviews and combine them into a single input structure. Then, we will split the dataset into a training set and a testing set."
   ]
  },
  {
   "cell_type": "code",
   "execution_count": 2,
   "metadata": {},
   "outputs": [],
   "source": [
    "import os\n",
    "import glob\n",
    "\n",
    "def read_imdb_data(data_dir='../data/aclImdb'):\n",
    "    data = {}\n",
    "    labels = {}\n",
    "    \n",
    "    for data_type in ['train', 'test']:\n",
    "        data[data_type] = {}\n",
    "        labels[data_type] = {}\n",
    "        \n",
    "        for sentiment in ['pos', 'neg']:\n",
    "            data[data_type][sentiment] = []\n",
    "            labels[data_type][sentiment] = []\n",
    "            \n",
    "            path = os.path.join(data_dir, data_type, sentiment, '*.txt')\n",
    "            files = glob.glob(path)\n",
    "            \n",
    "            for f in files:\n",
    "                with open(f) as review:\n",
    "                    data[data_type][sentiment].append(review.read())\n",
    "                    # Here we represent a positive review by '1' and a negative review by '0'\n",
    "                    labels[data_type][sentiment].append(1 if sentiment == 'pos' else 0)\n",
    "                    \n",
    "            assert len(data[data_type][sentiment]) == len(labels[data_type][sentiment]), \\\n",
    "                    \"{}/{} data size does not match labels size\".format(data_type, sentiment)\n",
    "                \n",
    "    return data, labels"
   ]
  },
  {
   "cell_type": "code",
   "execution_count": 3,
   "metadata": {},
   "outputs": [
    {
     "name": "stdout",
     "output_type": "stream",
     "text": [
      "IMDB reviews: train = 12500 pos / 12500 neg, test = 12500 pos / 12500 neg\n"
     ]
    }
   ],
   "source": [
    "data, labels = read_imdb_data()\n",
    "print(\"IMDB reviews: train = {} pos / {} neg, test = {} pos / {} neg\".format(\n",
    "            len(data['train']['pos']), len(data['train']['neg']),\n",
    "            len(data['test']['pos']), len(data['test']['neg'])))"
   ]
  },
  {
   "cell_type": "markdown",
   "metadata": {},
   "source": [
    "Now that we've read the raw training and testing data from the downloaded dataset, we will combine the positive and negative reviews and shuffle the resulting records."
   ]
  },
  {
   "cell_type": "code",
   "execution_count": 5,
   "metadata": {},
   "outputs": [],
   "source": [
    "from sklearn.utils import shuffle\n",
    "\n",
    "def prepare_imdb_data(data, labels):\n",
    "    \"\"\"Prepare training and test sets from IMDb movie reviews.\"\"\"\n",
    "    \n",
    "    #Combine positive and negative reviews and labels\n",
    "    data_train = data['train']['pos'] + data['train']['neg']\n",
    "    data_test = data['test']['pos'] + data['test']['neg']\n",
    "    labels_train = labels['train']['pos'] + labels['train']['neg']\n",
    "    labels_test = labels['test']['pos'] + labels['test']['neg']\n",
    "    \n",
    "    #Shuffle reviews and corresponding labels within training and test sets\n",
    "    data_train, labels_train = shuffle(data_train, labels_train)\n",
    "    data_test, labels_test = shuffle(data_test, labels_test)\n",
    "    \n",
    "    # Return a unified training data, test data, training labels, test labets\n",
    "    return data_train, data_test, labels_train, labels_test"
   ]
  },
  {
   "cell_type": "code",
   "execution_count": 6,
   "metadata": {},
   "outputs": [
    {
     "name": "stdout",
     "output_type": "stream",
     "text": [
      "IMDb reviews (combined): train = 25000, test = 25000\n"
     ]
    }
   ],
   "source": [
    "train_X, test_X, train_y, test_y = prepare_imdb_data(data, labels)\n",
    "print(\"IMDb reviews (combined): train = {}, test = {}\".format(len(train_X), len(test_X)))"
   ]
  },
  {
   "cell_type": "markdown",
   "metadata": {},
   "source": [
    "Now that we have our training and testing sets unified and prepared, we should do a quick check and see an example of the data our model will be trained on. This is generally a good idea as it allows you to see how each of the further processing steps affects the reviews and it also ensures that the data has been loaded correctly."
   ]
  },
  {
   "cell_type": "code",
   "execution_count": 7,
   "metadata": {},
   "outputs": [
    {
     "name": "stdout",
     "output_type": "stream",
     "text": [
      "The only reason I elected to give this flick a shot was due to the presence of Oscar winner Ernest Borgnine. All I can say is, it was the greatest waste of a good actor ever put to film. As far as I could tell, Borgnine was the ONLY actor in it. The other performances were so uniformly terrible, I am amazed a studio would actually pay the \"performers\" to appear. Couple this level of talent in the acting department with a story so plodding and insipid that I thought my eyes were going to start bleeding by the time the credits rolled, and you have a perfect cinematic disaster. Obviously the movie was made to appeal to an audience of children, and to its credit, it was better than most of the original programing on the Disney Channel and similar kid-focused networks. But honestly, that is not saying much.\n",
      "0\n"
     ]
    }
   ],
   "source": [
    "print(train_X[123])\n",
    "\n",
    "print(train_y[123])"
   ]
  },
  {
   "cell_type": "markdown",
   "metadata": {},
   "source": [
    "The first step in processing the reviews is to make sure that any html tags that appear should be removed. In addition we wish to tokenize our input, that way words such as *entertained* and *entertaining* are considered the same with regard to sentiment analysis."
   ]
  },
  {
   "cell_type": "code",
   "execution_count": 9,
   "metadata": {},
   "outputs": [],
   "source": [
    "import nltk\n",
    "from nltk.corpus import stopwords\n",
    "from nltk.stem.porter import *\n",
    "\n",
    "import re\n",
    "from bs4 import BeautifulSoup\n",
    "\n",
    "def review_to_words(review):\n",
    "    nltk.download(\"stopwords\", quiet=True)\n",
    "    stemmer = PorterStemmer()\n",
    "    \n",
    "    text = BeautifulSoup(review, \"html.parser\").get_text() # Remove HTML tags\n",
    "    text = re.sub(r\"[^a-zA-Z0-9]\", \" \", text.lower()) # Convert to lower case\n",
    "    words = text.split() # Split string into words\n",
    "    words = [w for w in words if w not in stopwords.words(\"english\")] # Remove stopwords\n",
    "    words = [PorterStemmer().stem(w) for w in words] # stem\n",
    "    \n",
    "    return words"
   ]
  },
  {
   "cell_type": "markdown",
   "metadata": {},
   "source": [
    "The `review_to_words` method defined above uses `BeautifulSoup` to remove any html tags that appear and uses the `nltk` package to tokenize the reviews. As a check to ensure we know how everything is working, try applying `review_to_words` to one of the reviews in the training set."
   ]
  },
  {
   "cell_type": "code",
   "execution_count": 10,
   "metadata": {},
   "outputs": [
    {
     "name": "stdout",
     "output_type": "stream",
     "text": [
      "['reason', 'elect', 'give', 'flick', 'shot', 'due', 'presenc', 'oscar', 'winner', 'ernest', 'borgnin', 'say', 'greatest', 'wast', 'good', 'actor', 'ever', 'put', 'film', 'far', 'could', 'tell', 'borgnin', 'actor', 'perform', 'uniformli', 'terribl', 'amaz', 'studio', 'would', 'actual', 'pay', 'perform', 'appear', 'coupl', 'level', 'talent', 'act', 'depart', 'stori', 'plod', 'insipid', 'thought', 'eye', 'go', 'start', 'bleed', 'time', 'credit', 'roll', 'perfect', 'cinemat', 'disast', 'obvious', 'movi', 'made', 'appeal', 'audienc', 'children', 'credit', 'better', 'origin', 'program', 'disney', 'channel', 'similar', 'kid', 'focus', 'network', 'honestli', 'say', 'much']\n"
     ]
    }
   ],
   "source": [
    "# TODO: Apply review_to_words to a review (train_X[100] or any other review)\n",
    "review = review_to_words(train_X[123])\n",
    "\n",
    "print(review)"
   ]
  },
  {
   "cell_type": "markdown",
   "metadata": {},
   "source": [
    "**Question:** Above we mentioned that `review_to_words` method removes html formatting and allows us to tokenize the words found in a review, for example, converting *entertained* and *entertaining* into *entertain* so that they are treated as though they are the same word. What else, if anything, does this method do to the input?"
   ]
  },
  {
   "cell_type": "markdown",
   "metadata": {},
   "source": [
    "**Answer:**\n",
    "\n",
    "- removes HTML\n",
    "- removes upper/lowercase difference\n",
    "- removes any unnecessary characters\n",
    "- removes stop words"
   ]
  },
  {
   "cell_type": "markdown",
   "metadata": {},
   "source": [
    "The method below applies the `review_to_words` method to each of the reviews in the training and testing datasets. In addition it caches the results. This is because performing this processing step can take a long time. This way if you are unable to complete the notebook in the current session, you can come back without needing to process the data a second time."
   ]
  },
  {
   "cell_type": "code",
   "execution_count": 11,
   "metadata": {},
   "outputs": [],
   "source": [
    "import pickle\n",
    "\n",
    "cache_dir = os.path.join(\"../cache\", \"sentiment_analysis\")  # where to store cache files\n",
    "os.makedirs(cache_dir, exist_ok=True)  # ensure cache directory exists\n",
    "\n",
    "def preprocess_data(data_train, data_test, labels_train, labels_test,\n",
    "                    cache_dir=cache_dir, cache_file=\"preprocessed_data.pkl\"):\n",
    "    \"\"\"Convert each review to words; read from cache if available.\"\"\"\n",
    "\n",
    "    # If cache_file is not None, try to read from it first\n",
    "    cache_data = None\n",
    "    if cache_file is not None:\n",
    "        try:\n",
    "            with open(os.path.join(cache_dir, cache_file), \"rb\") as f:\n",
    "                cache_data = pickle.load(f)\n",
    "            print(\"Read preprocessed data from cache file:\", cache_file)\n",
    "        except:\n",
    "            pass  # unable to read from cache, but that's okay\n",
    "    \n",
    "    # If cache is missing, then do the heavy lifting\n",
    "    if cache_data is None:\n",
    "        # Preprocess training and test data to obtain words for each review\n",
    "        #words_train = list(map(review_to_words, data_train))\n",
    "        #words_test = list(map(review_to_words, data_test))\n",
    "        words_train = [review_to_words(review) for review in data_train]\n",
    "        words_test = [review_to_words(review) for review in data_test]\n",
    "        \n",
    "        # Write to cache file for future runs\n",
    "        if cache_file is not None:\n",
    "            cache_data = dict(words_train=words_train, words_test=words_test,\n",
    "                              labels_train=labels_train, labels_test=labels_test)\n",
    "            with open(os.path.join(cache_dir, cache_file), \"wb\") as f:\n",
    "                pickle.dump(cache_data, f)\n",
    "            print(\"Wrote preprocessed data to cache file:\", cache_file)\n",
    "    else:\n",
    "        # Unpack data loaded from cache file\n",
    "        words_train, words_test, labels_train, labels_test = (cache_data['words_train'],\n",
    "                cache_data['words_test'], cache_data['labels_train'], cache_data['labels_test'])\n",
    "    \n",
    "    return words_train, words_test, labels_train, labels_test"
   ]
  },
  {
   "cell_type": "code",
   "execution_count": 12,
   "metadata": {},
   "outputs": [
    {
     "name": "stdout",
     "output_type": "stream",
     "text": [
      "Wrote preprocessed data to cache file: preprocessed_data.pkl\n"
     ]
    }
   ],
   "source": [
    "# Preprocess data\n",
    "train_X, test_X, train_y, test_y = preprocess_data(train_X, test_X, train_y, test_y)"
   ]
  },
  {
   "cell_type": "markdown",
   "metadata": {},
   "source": [
    "## Transform the data\n",
    "\n",
    "In the XGBoost notebook we transformed the data from its word representation to a bag-of-words feature representation. For the model we are going to construct in this notebook we will construct a feature representation which is very similar. To start, we will represent each word as an integer. Of course, some of the words that appear in the reviews occur very infrequently and so likely don't contain much information for the purposes of sentiment analysis. The way we will deal with this problem is that we will fix the size of our working vocabulary and we will only include the words that appear most frequently. We will then combine all of the infrequent words into a single category and, in our case, we will label it as `1`.\n",
    "\n",
    "Since we will be using a recurrent neural network, it will be convenient if the length of each review is the same. To do this, we will fix a size for our reviews and then pad short reviews with the category 'no word' (which we will label `0`) and truncate long reviews."
   ]
  },
  {
   "cell_type": "markdown",
   "metadata": {},
   "source": [
    "### (TODO) Create a word dictionary\n",
    "\n",
    "To begin with, we need to construct a way to map words that appear in the reviews to integers. Here we fix the size of our vocabulary (including the 'no word' and 'infrequent' categories) to be `5000` but you may wish to change this to see how it affects the model.\n",
    "\n",
    "> **TODO:** Complete the implementation for the `build_dict()` method below. Note that even though the vocab_size is set to `5000`, we only want to construct a mapping for the most frequently appearing `4998` words. This is because we want to reserve the special labels `0` for 'no word' and `1` for 'infrequent word'."
   ]
  },
  {
   "cell_type": "code",
   "execution_count": 13,
   "metadata": {},
   "outputs": [],
   "source": [
    "import numpy as np\n",
    "from collections import Counter\n",
    "\n",
    "def get_word_count(data):\n",
    "    \n",
    "    # TODO: Determine how often each word appears in `data`. Note that `data` is a list of sentences and that a\n",
    "    #       sentence is a list of words.\n",
    "    \n",
    "    # A dict storing the words that appear in the reviews along with how often they occur\n",
    "    word_count = {} \n",
    "    \n",
    "    # Go through all the review in the data provided\n",
    "    for review in data:\n",
    "        # go through all the data/word in the review\n",
    "        for word in review:\n",
    "            if word in word_count:\n",
    "                word_count[word] += 1\n",
    "            else: \n",
    "                word_count[word] = 1\n",
    "    return word_count\n",
    "\n",
    "\n",
    "def build_dict(data, vocab_size = 5000):\n",
    "    \"\"\"Construct and return a dictionary mapping each of the most frequently appearing words to a unique integer.\"\"\"\n",
    "    \n",
    "    word_count = get_word_count(data)\n",
    "    # TODO: Sort the words found in `data` so that sorted_words[0] is the most frequently appearing word and\n",
    "    #       sorted_words[-1] is the least frequently appearing word.\n",
    "    \n",
    "    sorted_words = [v[0] for v in sorted(word_count.items(), key=lambda kv: kv[1], reverse=True)] \n",
    "    \n",
    "    word_dict = {} # This is what we are building, a dictionary that translates words into integers\n",
    "    for idx, word in enumerate(sorted_words[:vocab_size - 2]): # The -2 is so that we save room for the 'no word'\n",
    "        word_dict[word] = idx + 2                              # 'infrequent' labels\n",
    "        \n",
    "    return word_dict"
   ]
  },
  {
   "cell_type": "code",
   "execution_count": 14,
   "metadata": {},
   "outputs": [],
   "source": [
    "word_dict = build_dict(train_X)"
   ]
  },
  {
   "cell_type": "code",
   "execution_count": 15,
   "metadata": {},
   "outputs": [
    {
     "name": "stdout",
     "output_type": "stream",
     "text": [
      "{'movi': 2, 'film': 3, 'one': 4, 'like': 5, 'time': 6, 'good': 7, 'make': 8, 'charact': 9, 'get': 10, 'see': 11, 'watch': 12, 'stori': 13, 'even': 14, 'would': 15, 'realli': 16, 'well': 17, 'scene': 18, 'look': 19, 'show': 20, 'much': 21, 'end': 22, 'peopl': 23, 'bad': 24, 'go': 25, 'great': 26, 'also': 27, 'first': 28, 'love': 29, 'think': 30, 'way': 31, 'act': 32, 'play': 33, 'made': 34, 'thing': 35, 'could': 36, 'know': 37, 'say': 38, 'seem': 39, 'work': 40, 'plot': 41, 'two': 42, 'actor': 43, 'year': 44, 'come': 45, 'mani': 46, 'seen': 47, 'take': 48, 'life': 49, 'want': 50, 'never': 51, 'littl': 52, 'best': 53, 'tri': 54, 'man': 55, 'ever': 56, 'give': 57, 'better': 58, 'still': 59, 'perform': 60, 'find': 61, 'feel': 62, 'part': 63, 'back': 64, 'use': 65, 'someth': 66, 'director': 67, 'actual': 68, 'interest': 69, 'lot': 70, 'real': 71, 'old': 72, 'cast': 73, 'though': 74, 'live': 75, 'star': 76, 'enjoy': 77, 'guy': 78, 'anoth': 79, 'new': 80, 'role': 81, 'noth': 82, '10': 83, 'funni': 84, 'music': 85, 'point': 86, 'start': 87, 'set': 88, 'girl': 89, 'origin': 90, 'day': 91, 'world': 92, 'everi': 93, 'believ': 94, 'turn': 95, 'quit': 96, 'us': 97, 'direct': 98, 'thought': 99, 'fact': 100, 'minut': 101, 'horror': 102, 'kill': 103, 'action': 104, 'comedi': 105, 'pretti': 106, 'young': 107, 'wonder': 108, 'happen': 109, 'around': 110, 'got': 111, 'effect': 112, 'right': 113, 'long': 114, 'howev': 115, 'big': 116, 'line': 117, 'famili': 118, 'enough': 119, 'seri': 120, 'may': 121, 'need': 122, 'fan': 123, 'bit': 124, 'script': 125, 'beauti': 126, 'person': 127, 'becom': 128, 'without': 129, 'must': 130, 'alway': 131, 'friend': 132, 'tell': 133, 'reason': 134, 'saw': 135, 'last': 136, 'final': 137, 'kid': 138, 'almost': 139, 'put': 140, 'least': 141, 'sure': 142, 'done': 143, 'whole': 144, 'place': 145, 'complet': 146, 'kind': 147, 'differ': 148, 'expect': 149, 'shot': 150, 'far': 151, 'mean': 152, 'anyth': 153, 'book': 154, 'laugh': 155, 'might': 156, 'name': 157, 'sinc': 158, 'begin': 159, '2': 160, 'probabl': 161, 'woman': 162, 'help': 163, 'entertain': 164, 'let': 165, 'screen': 166, 'call': 167, 'tv': 168, 'moment': 169, 'away': 170, 'read': 171, 'yet': 172, 'rather': 173, 'worst': 174, 'run': 175, 'fun': 176, 'lead': 177, 'hard': 178, 'audienc': 179, 'idea': 180, 'anyon': 181, 'episod': 182, 'american': 183, 'found': 184, 'appear': 185, 'bore': 186, 'especi': 187, 'although': 188, 'hope': 189, 'cours': 190, 'keep': 191, 'anim': 192, 'job': 193, 'goe': 194, 'move': 195, 'sens': 196, 'dvd': 197, 'version': 198, 'war': 199, 'money': 200, 'someon': 201, 'mind': 202, 'mayb': 203, 'problem': 204, 'true': 205, 'hous': 206, 'everyth': 207, 'nice': 208, 'second': 209, 'rate': 210, 'three': 211, 'night': 212, 'follow': 213, 'face': 214, 'recommend': 215, 'main': 216, 'product': 217, 'worth': 218, 'leav': 219, 'human': 220, 'special': 221, 'excel': 222, 'togeth': 223, 'wast': 224, 'everyon': 225, 'sound': 226, 'john': 227, 'hand': 228, '1': 229, 'father': 230, 'later': 231, 'eye': 232, 'said': 233, 'view': 234, 'instead': 235, 'review': 236, 'boy': 237, 'high': 238, 'hour': 239, 'miss': 240, 'classic': 241, 'talk': 242, 'wife': 243, 'understand': 244, 'left': 245, 'care': 246, 'black': 247, 'death': 248, 'open': 249, 'murder': 250, 'write': 251, 'half': 252, 'head': 253, 'rememb': 254, 'chang': 255, 'viewer': 256, 'fight': 257, 'gener': 258, 'surpris': 259, 'includ': 260, 'short': 261, 'die': 262, 'fall': 263, 'less': 264, 'els': 265, 'entir': 266, 'piec': 267, 'involv': 268, 'pictur': 269, 'simpli': 270, 'home': 271, 'power': 272, 'top': 273, 'total': 274, 'usual': 275, 'budget': 276, 'attempt': 277, 'suppos': 278, 'releas': 279, 'hollywood': 280, 'terribl': 281, 'song': 282, 'men': 283, 'possibl': 284, 'featur': 285, 'portray': 286, 'disappoint': 287, '3': 288, 'poor': 289, 'coupl': 290, 'camera': 291, 'stupid': 292, 'dead': 293, 'wrong': 294, 'produc': 295, 'low': 296, 'either': 297, 'video': 298, 'aw': 299, 'definit': 300, 'except': 301, 'rest': 302, 'given': 303, 'absolut': 304, 'women': 305, 'lack': 306, 'word': 307, 'writer': 308, 'titl': 309, 'talent': 310, 'decid': 311, 'full': 312, 'perfect': 313, 'along': 314, 'style': 315, 'close': 316, 'truli': 317, 'school': 318, 'emot': 319, 'save': 320, 'age': 321, 'sex': 322, 'next': 323, 'bring': 324, 'mr': 325, 'case': 326, 'killer': 327, 'heart': 328, 'comment': 329, 'sort': 330, 'creat': 331, 'perhap': 332, 'came': 333, 'brother': 334, 'sever': 335, 'joke': 336, 'art': 337, 'dialogu': 338, 'game': 339, 'small': 340, 'base': 341, 'flick': 342, 'written': 343, 'sequenc': 344, 'meet': 345, 'earli': 346, 'often': 347, 'other': 348, 'mother': 349, 'develop': 350, 'humor': 351, 'actress': 352, 'consid': 353, 'dark': 354, 'guess': 355, 'amaz': 356, 'unfortun': 357, 'light': 358, 'lost': 359, 'exampl': 360, 'cinema': 361, 'drama': 362, 'white': 363, 'ye': 364, 'experi': 365, 'imagin': 366, 'mention': 367, 'stop': 368, 'natur': 369, 'forc': 370, 'manag': 371, 'felt': 372, 'present': 373, 'cut': 374, 'children': 375, 'fail': 376, 'son': 377, 'qualiti': 378, 'support': 379, 'car': 380, 'ask': 381, 'hit': 382, 'side': 383, 'voic': 384, 'extrem': 385, 'impress': 386, 'wors': 387, 'evil': 388, 'stand': 389, 'went': 390, 'certainli': 391, 'basic': 392, 'oh': 393, 'overal': 394, 'favorit': 395, 'horribl': 396, 'mysteri': 397, 'number': 398, 'type': 399, 'danc': 400, 'wait': 401, 'hero': 402, 'alreadi': 403, '5': 404, 'learn': 405, 'matter': 406, '4': 407, 'michael': 408, 'genr': 409, 'fine': 410, 'despit': 411, 'throughout': 412, 'walk': 413, 'success': 414, 'histori': 415, 'question': 416, 'zombi': 417, 'town': 418, 'relationship': 419, 'realiz': 420, 'past': 421, 'child': 422, 'daughter': 423, 'late': 424, 'b': 425, 'wish': 426, 'credit': 427, 'hate': 428, 'event': 429, 'theme': 430, 'touch': 431, 'citi': 432, 'today': 433, 'sometim': 434, 'behind': 435, 'god': 436, 'twist': 437, 'sit': 438, 'stay': 439, 'deal': 440, 'annoy': 441, 'abl': 442, 'rent': 443, 'pleas': 444, 'edit': 445, 'blood': 446, 'deserv': 447, 'anyway': 448, 'comic': 449, 'appar': 450, 'soon': 451, 'gave': 452, 'etc': 453, 'level': 454, 'slow': 455, 'chanc': 456, 'score': 457, 'bodi': 458, 'brilliant': 459, 'incred': 460, 'figur': 461, 'situat': 462, 'self': 463, 'major': 464, 'stuff': 465, 'decent': 466, 'element': 467, 'return': 468, 'dream': 469, 'obvious': 470, 'continu': 471, 'order': 472, 'pace': 473, 'ridicul': 474, 'happi': 475, 'add': 476, 'group': 477, 'highli': 478, 'thank': 479, 'ladi': 480, 'novel': 481, 'pain': 482, 'speak': 483, 'career': 484, 'shoot': 485, 'strang': 486, 'heard': 487, 'sad': 488, 'husband': 489, 'polic': 490, 'import': 491, 'break': 492, 'took': 493, 'cannot': 494, 'strong': 495, 'predict': 496, 'robert': 497, 'violenc': 498, 'hilari': 499, 'recent': 500, 'countri': 501, 'known': 502, 'particularli': 503, 'pick': 504, 'documentari': 505, 'season': 506, 'critic': 507, 'jame': 508, 'compar': 509, 'obviou': 510, 'alon': 511, 'told': 512, 'state': 513, 'visual': 514, 'rock': 515, 'offer': 516, 'theater': 517, 'exist': 518, 'opinion': 519, 'gore': 520, 'hold': 521, 'crap': 522, 'result': 523, 'realiti': 524, 'hear': 525, 'room': 526, 'effort': 527, 'clich': 528, 'thriller': 529, 'caus': 530, 'explain': 531, 'serious': 532, 'sequel': 533, 'king': 534, 'local': 535, 'ago': 536, 'none': 537, 'hell': 538, 'note': 539, 'allow': 540, 'sister': 541, 'david': 542, 'simpl': 543, 'femal': 544, 'deliv': 545, 'ok': 546, 'class': 547, 'convinc': 548, 'check': 549, 'suspens': 550, 'win': 551, 'oscar': 552, 'buy': 553, 'huge': 554, 'valu': 555, 'sexual': 556, 'cool': 557, 'scari': 558, 'similar': 559, 'excit': 560, 'provid': 561, 'apart': 562, 'exactli': 563, 'avoid': 564, 'shown': 565, 'seriou': 566, 'english': 567, 'taken': 568, 'whose': 569, 'cinematographi': 570, 'shock': 571, 'polit': 572, 'spoiler': 573, 'offic': 574, 'across': 575, 'middl': 576, 'pass': 577, 'street': 578, 'messag': 579, 'silli': 580, 'charm': 581, 'somewhat': 582, 'modern': 583, 'filmmak': 584, 'confus': 585, 'form': 586, 'tale': 587, 'singl': 588, 'jack': 589, 'mostli': 590, 'carri': 591, 'attent': 592, 'william': 593, 'sing': 594, 'subject': 595, 'five': 596, 'prove': 597, 'richard': 598, 'team': 599, 'stage': 600, 'cop': 601, 'unlik': 602, 'georg': 603, 'monster': 604, 'televis': 605, 'earth': 606, 'villain': 607, 'cover': 608, 'pay': 609, 'marri': 610, 'toward': 611, 'build': 612, 'pull': 613, 'parent': 614, 'due': 615, 'respect': 616, 'fill': 617, 'dialog': 618, 'four': 619, 'remind': 620, 'futur': 621, 'weak': 622, 'typic': 623, '7': 624, 'cheap': 625, 'intellig': 626, 'atmospher': 627, 'british': 628, 'clearli': 629, '80': 630, 'non': 631, 'paul': 632, 'dog': 633, 'knew': 634, '8': 635, 'artist': 636, 'fast': 637, 'crime': 638, 'easili': 639, 'escap': 640, 'doubt': 641, 'adult': 642, 'detail': 643, 'date': 644, 'member': 645, 'romant': 646, 'fire': 647, 'gun': 648, 'drive': 649, 'straight': 650, 'fit': 651, 'beyond': 652, 'attack': 653, 'imag': 654, 'upon': 655, 'posit': 656, 'whether': 657, 'fantast': 658, 'peter': 659, 'aspect': 660, 'appreci': 661, 'captur': 662, 'ten': 663, 'plan': 664, 'discov': 665, 'remain': 666, 'near': 667, 'period': 668, 'air': 669, 'realist': 670, 'mark': 671, 'red': 672, 'dull': 673, 'adapt': 674, 'within': 675, 'spend': 676, 'lose': 677, 'color': 678, 'materi': 679, 'chase': 680, 'mari': 681, 'storylin': 682, 'forget': 683, 'bunch': 684, 'clear': 685, 'lee': 686, 'victim': 687, 'nearli': 688, 'box': 689, 'york': 690, 'inspir': 691, 'match': 692, 'mess': 693, 'finish': 694, 'standard': 695, 'easi': 696, 'truth': 697, 'busi': 698, 'suffer': 699, 'dramat': 700, 'space': 701, 'bill': 702, 'western': 703, 'e': 704, 'list': 705, 'battl': 706, 'notic': 707, 'de': 708, 'french': 709, 'ad': 710, '9': 711, 'tom': 712, 'larg': 713, 'among': 714, 'eventu': 715, 'train': 716, 'accept': 717, 'agre': 718, 'soundtrack': 719, 'spirit': 720, 'third': 721, 'teenag': 722, 'adventur': 723, 'soldier': 724, 'famou': 725, 'suggest': 726, 'sorri': 727, 'drug': 728, 'cri': 729, 'normal': 730, 'babi': 731, 'troubl': 732, 'ultim': 733, 'contain': 734, 'certain': 735, 'cultur': 736, 'romanc': 737, 'rare': 738, 'lame': 739, 'somehow': 740, 'mix': 741, 'disney': 742, 'gone': 743, 'cartoon': 744, 'student': 745, 'fear': 746, 'reveal': 747, 'kept': 748, 'suck': 749, 'attract': 750, 'appeal': 751, 'premis': 752, 'secret': 753, 'greatest': 754, 'design': 755, 'shame': 756, 'throw': 757, 'copi': 758, 'scare': 759, 'wit': 760, 'admit': 761, 'america': 762, 'particular': 763, 'relat': 764, 'brought': 765, 'screenplay': 766, 'whatev': 767, 'pure': 768, '70': 769, 'harri': 770, 'averag': 771, 'master': 772, 'describ': 773, 'treat': 774, 'male': 775, '20': 776, 'issu': 777, 'fantasi': 778, 'warn': 779, 'inde': 780, 'background': 781, 'forward': 782, 'free': 783, 'project': 784, 'memor': 785, 'japanes': 786, 'poorli': 787, 'award': 788, 'locat': 789, 'amus': 790, 'potenti': 791, 'struggl': 792, 'magic': 793, 'weird': 794, 'societi': 795, 'okay': 796, 'imdb': 797, 'doctor': 798, 'accent': 799, 'hot': 800, 'water': 801, '30': 802, 'alien': 803, 'express': 804, 'dr': 805, 'odd': 806, 'crazi': 807, 'choic': 808, 'fiction': 809, 'studio': 810, 'control': 811, 'becam': 812, 'masterpiec': 813, 'difficult': 814, 'fli': 815, 'joe': 816, 'scream': 817, 'costum': 818, 'lover': 819, 'uniqu': 820, 'refer': 821, 'remak': 822, 'girlfriend': 823, 'vampir': 824, 'prison': 825, 'execut': 826, 'wear': 827, 'jump': 828, 'wood': 829, 'unless': 830, 'creepi': 831, 'cheesi': 832, 'superb': 833, 'otherwis': 834, 'parti': 835, 'roll': 836, 'ghost': 837, 'mad': 838, 'public': 839, 'depict': 840, 'week': 841, 'earlier': 842, 'badli': 843, 'jane': 844, 'moral': 845, 'fi': 846, 'dumb': 847, 'grow': 848, 'flaw': 849, 'sci': 850, 'deep': 851, 'maker': 852, 'cat': 853, 'connect': 854, 'older': 855, 'footag': 856, 'plenti': 857, 'bother': 858, 'outsid': 859, 'stick': 860, 'gay': 861, 'catch': 862, 'plu': 863, 'co': 864, 'popular': 865, 'equal': 866, 'social': 867, 'disturb': 868, 'quickli': 869, 'perfectli': 870, 'dress': 871, 'era': 872, '90': 873, 'mistak': 874, 'lie': 875, 'ride': 876, 'previou': 877, 'combin': 878, 'concept': 879, 'band': 880, 'rich': 881, 'surviv': 882, 'answer': 883, 'front': 884, 'sweet': 885, 'christma': 886, 'insid': 887, 'concern': 888, 'eat': 889, 'bare': 890, 'listen': 891, 'ben': 892, 'beat': 893, 'c': 894, 'term': 895, 'serv': 896, 'la': 897, 'meant': 898, 'german': 899, 'hardli': 900, 'stereotyp': 901, 'innoc': 902, 'law': 903, 'desper': 904, 'promis': 905, 'memori': 906, 'intent': 907, 'cute': 908, 'inform': 909, 'variou': 910, 'steal': 911, 'brain': 912, 'post': 913, 'tone': 914, 'island': 915, 'amount': 916, 'compani': 917, 'nuditi': 918, 'track': 919, 'claim': 920, 'store': 921, '50': 922, 'flat': 923, 'hair': 924, 'land': 925, 'univers': 926, 'danger': 927, 'fairli': 928, 'kick': 929, 'scott': 930, 'player': 931, 'crew': 932, 'step': 933, 'plain': 934, 'toni': 935, 'share': 936, 'tast': 937, 'centuri': 938, 'engag': 939, 'achiev': 940, 'cold': 941, 'travel': 942, 'record': 943, 'suit': 944, 'rip': 945, 'manner': 946, 'sadli': 947, 'tension': 948, 'wrote': 949, 'spot': 950, 'fascin': 951, 'intens': 952, 'familiar': 953, 'remark': 954, 'depth': 955, 'burn': 956, 'histor': 957, 'destroy': 958, 'sleep': 959, 'purpos': 960, 'languag': 961, 'ignor': 962, 'ruin': 963, 'delight': 964, 'italian': 965, 'unbeliev': 966, 'collect': 967, 'abil': 968, 'soul': 969, 'detect': 970, 'clever': 971, 'violent': 972, 'rape': 973, 'reach': 974, 'door': 975, 'scienc': 976, 'liter': 977, 'trash': 978, 'caught': 979, 'commun': 980, 'reveng': 981, 'creatur': 982, 'approach': 983, 'trip': 984, 'fashion': 985, 'intrigu': 986, 'skill': 987, 'paint': 988, 'introduc': 989, 'channel': 990, 'complex': 991, 'camp': 992, 'christian': 993, 'extra': 994, 'hole': 995, 'immedi': 996, 'limit': 997, 'ann': 998, 'mental': 999, 'mere': 1000, 'comput': 1001, '6': 1002, 'slightli': 1003, 'million': 1004, 'conclus': 1005, 'slasher': 1006, 'imposs': 1007, 'suddenli': 1008, 'neither': 1009, 'crimin': 1010, 'teen': 1011, 'spent': 1012, 'nation': 1013, 'physic': 1014, 'respons': 1015, 'planet': 1016, 'fake': 1017, 'receiv': 1018, 'blue': 1019, 'sick': 1020, 'bizarr': 1021, 'embarrass': 1022, 'indian': 1023, 'ring': 1024, '15': 1025, 'pop': 1026, 'drop': 1027, 'drag': 1028, 'haunt': 1029, 'pointless': 1030, 'suspect': 1031, 'search': 1032, 'edg': 1033, 'handl': 1034, 'common': 1035, 'biggest': 1036, 'hurt': 1037, 'faith': 1038, 'arriv': 1039, 'technic': 1040, 'angel': 1041, 'genuin': 1042, 'dad': 1043, 'solid': 1044, 'awesom': 1045, 'f': 1046, 'former': 1047, 'colleg': 1048, 'focu': 1049, 'van': 1050, 'count': 1051, 'heavi': 1052, 'tear': 1053, 'wall': 1054, 'rais': 1055, 'visit': 1056, 'laughabl': 1057, 'younger': 1058, 'sign': 1059, 'excus': 1060, 'fair': 1061, 'cult': 1062, 'tough': 1063, 'key': 1064, 'motion': 1065, 'desir': 1066, 'super': 1067, 'addit': 1068, 'stun': 1069, 'exploit': 1070, 'cloth': 1071, 'smith': 1072, 'tortur': 1073, 'davi': 1074, 'race': 1075, 'cross': 1076, 'author': 1077, 'jim': 1078, 'compel': 1079, 'consist': 1080, 'focus': 1081, 'minor': 1082, 'chemistri': 1083, 'commit': 1084, 'pathet': 1085, 'park': 1086, 'tradit': 1087, 'frank': 1088, 'obsess': 1089, 'grade': 1090, '60': 1091, 'asid': 1092, 'brutal': 1093, 'steve': 1094, 'somewher': 1095, 'grant': 1096, 'explor': 1097, 'u': 1098, 'rule': 1099, 'depress': 1100, 'opportun': 1101, 'besid': 1102, 'honest': 1103, 'anti': 1104, 'dub': 1105, 'intend': 1106, 'trailer': 1107, 'bar': 1108, 'longer': 1109, 'regard': 1110, 'scientist': 1111, 'west': 1112, 'judg': 1113, 'decad': 1114, 'silent': 1115, 'creativ': 1116, 'armi': 1117, 'wild': 1118, 'stewart': 1119, 'g': 1120, 'south': 1121, 'draw': 1122, 'road': 1123, 'govern': 1124, 'ex': 1125, 'boss': 1126, 'practic': 1127, 'motiv': 1128, 'surprisingli': 1129, 'festiv': 1130, 'gang': 1131, 'club': 1132, 'london': 1133, 'green': 1134, 'redeem': 1135, 'page': 1136, 'militari': 1137, 'idiot': 1138, 'machin': 1139, 'display': 1140, 'aliv': 1141, 'repeat': 1142, 'thrill': 1143, 'folk': 1144, '100': 1145, 'yeah': 1146, 'nobodi': 1147, '40': 1148, 'garbag': 1149, 'journey': 1150, 'ground': 1151, 'tire': 1152, 'smile': 1153, 'mood': 1154, 'bought': 1155, 'sam': 1156, 'cost': 1157, 'stone': 1158, 'noir': 1159, 'mouth': 1160, 'terrif': 1161, 'agent': 1162, 'requir': 1163, 'utterli': 1164, 'sexi': 1165, 'honestli': 1166, 'area': 1167, 'geniu': 1168, 'report': 1169, 'investig': 1170, 'glad': 1171, 'enter': 1172, 'humour': 1173, 'serial': 1174, 'narr': 1175, 'passion': 1176, 'occasion': 1177, 'climax': 1178, 'marriag': 1179, 'studi': 1180, 'industri': 1181, 'ship': 1182, 'nowher': 1183, 'center': 1184, 'demon': 1185, 'charli': 1186, 'hors': 1187, 'bear': 1188, 'loos': 1189, 'wow': 1190, 'hang': 1191, 'graphic': 1192, 'admir': 1193, 'giant': 1194, 'send': 1195, 'loud': 1196, 'damn': 1197, 'profession': 1198, 'nake': 1199, 'rel': 1200, 'subtl': 1201, 'blow': 1202, 'bottom': 1203, 'batman': 1204, 'insult': 1205, 'r': 1206, 'doubl': 1207, 'boyfriend': 1208, 'kelli': 1209, 'initi': 1210, 'frame': 1211, 'opera': 1212, 'gem': 1213, 'cinemat': 1214, 'affect': 1215, 'drawn': 1216, 'challeng': 1217, 'church': 1218, 'nightmar': 1219, 'seek': 1220, 'evid': 1221, 'j': 1222, 'l': 1223, 'fulli': 1224, 'arm': 1225, 'essenti': 1226, 'conflict': 1227, 'wind': 1228, 'henri': 1229, 'christoph': 1230, 'grace': 1231, 'assum': 1232, 'witch': 1233, 'narrat': 1234, 'hunt': 1235, 'push': 1236, 'wise': 1237, 'chri': 1238, 'repres': 1239, 'month': 1240, 'nomin': 1241, 'hide': 1242, 'sceneri': 1243, 'affair': 1244, 'avail': 1245, 'smart': 1246, 'thu': 1247, 'bond': 1248, 'justic': 1249, 'outstand': 1250, 'flashback': 1251, 'interview': 1252, 'presenc': 1253, 'satisfi': 1254, 'constantli': 1255, 'bed': 1256, 'central': 1257, 'content': 1258, 'iron': 1259, 'sell': 1260, 'everybodi': 1261, 'gag': 1262, 'slowli': 1263, 'hotel': 1264, 'hire': 1265, 'system': 1266, 'thrown': 1267, 'hey': 1268, 'charl': 1269, 'individu': 1270, 'adam': 1271, 'mediocr': 1272, 'jone': 1273, 'allen': 1274, 'ray': 1275, 'billi': 1276, 'lesson': 1277, 'cameo': 1278, 'photographi': 1279, 'fellow': 1280, 'pari': 1281, 'strike': 1282, 'absurd': 1283, 'brief': 1284, 'rise': 1285, 'independ': 1286, 'neg': 1287, 'phone': 1288, 'impact': 1289, 'born': 1290, 'model': 1291, 'ill': 1292, 'angl': 1293, 'fresh': 1294, 'spoil': 1295, 'likabl': 1296, 'abus': 1297, 'discuss': 1298, 'hill': 1299, 'sight': 1300, 'ahead': 1301, 'photograph': 1302, 'sent': 1303, 'occur': 1304, 'logic': 1305, 'blame': 1306, 'shine': 1307, 'mainli': 1308, 'bruce': 1309, 'commerci': 1310, 'forev': 1311, 'skip': 1312, 'held': 1313, 'surround': 1314, 'segment': 1315, 'teacher': 1316, 'zero': 1317, 'blond': 1318, 'resembl': 1319, 'trap': 1320, 'satir': 1321, 'summer': 1322, 'fool': 1323, 'six': 1324, 'queen': 1325, 'ball': 1326, 'sub': 1327, 'twice': 1328, 'tragedi': 1329, 'reaction': 1330, 'pack': 1331, 'bomb': 1332, 'protagonist': 1333, 'will': 1334, 'hospit': 1335, 'sport': 1336, 'mile': 1337, 'drink': 1338, 'trust': 1339, 'vote': 1340, 'mom': 1341, 'jerri': 1342, 'encount': 1343, 'plane': 1344, 'station': 1345, 'al': 1346, 'program': 1347, 'current': 1348, 'celebr': 1349, 'martin': 1350, 'choos': 1351, 'join': 1352, 'field': 1353, 'round': 1354, 'tragic': 1355, 'lord': 1356, 'favourit': 1357, 'jean': 1358, 'robot': 1359, 'vision': 1360, 'tie': 1361, 'arthur': 1362, 'fortun': 1363, 'random': 1364, 'roger': 1365, 'intern': 1366, 'dread': 1367, 'psycholog': 1368, 'epic': 1369, 'nonsens': 1370, 'prefer': 1371, 'improv': 1372, 'legend': 1373, 'pleasur': 1374, 'formula': 1375, 'highlight': 1376, 'dollar': 1377, '11': 1378, 'tape': 1379, 'object': 1380, 'porn': 1381, 'wide': 1382, 'fox': 1383, 'gorgeou': 1384, 'thin': 1385, 'influenc': 1386, 'ugli': 1387, 'buddi': 1388, 'prepar': 1389, 'nasti': 1390, 'ii': 1391, 'warm': 1392, 'reflect': 1393, 'progress': 1394, 'supposedli': 1395, 'youth': 1396, 'worthi': 1397, 'latter': 1398, 'length': 1399, 'unusu': 1400, 'crash': 1401, 'shop': 1402, 'superior': 1403, 'seven': 1404, 'childhood': 1405, 'theatr': 1406, 'remot': 1407, 'funniest': 1408, 'paid': 1409, 'disgust': 1410, 'pilot': 1411, 'fell': 1412, 'trick': 1413, 'castl': 1414, 'convers': 1415, 'establish': 1416, 'disast': 1417, 'gangster': 1418, 'rob': 1419, 'disappear': 1420, 'ident': 1421, 'heaven': 1422, 'mine': 1423, 'suicid': 1424, 'singer': 1425, 'decis': 1426, 'forgotten': 1427, 'heroin': 1428, 'mask': 1429, 'tend': 1430, 'partner': 1431, 'brian': 1432, 'recogn': 1433, 'alan': 1434, 'desert': 1435, 'sky': 1436, 'p': 1437, 'thoroughli': 1438, 'stuck': 1439, 'ms': 1440, 'accur': 1441, 'replac': 1442, 'market': 1443, 'uncl': 1444, 'commentari': 1445, 'seemingli': 1446, 'andi': 1447, 'eddi': 1448, 'danni': 1449, 'clue': 1450, 'jackson': 1451, 'devil': 1452, 'therefor': 1453, 'pair': 1454, 'that': 1455, 'refus': 1456, 'fate': 1457, 'unit': 1458, 'ed': 1459, 'fault': 1460, 'river': 1461, 'accid': 1462, 'afraid': 1463, 'tune': 1464, 'clean': 1465, 'stephen': 1466, 'hidden': 1467, 'russian': 1468, 'captain': 1469, 'irrit': 1470, 'convey': 1471, 'test': 1472, 'readi': 1473, 'quick': 1474, 'instanc': 1475, 'european': 1476, 'insan': 1477, 'frustrat': 1478, 'daniel': 1479, 'food': 1480, 'wed': 1481, 'chines': 1482, 'rescu': 1483, '1950': 1484, 'lock': 1485, 'dirti': 1486, 'angri': 1487, 'joy': 1488, 'steven': 1489, 'price': 1490, 'cage': 1491, 'bland': 1492, 'rang': 1493, 'anymor': 1494, 'wooden': 1495, 'jason': 1496, 'rush': 1497, 'n': 1498, 'news': 1499, 'martial': 1500, 'worri': 1501, 'board': 1502, 'twenti': 1503, '12': 1504, 'led': 1505, 'hunter': 1506, 'cgi': 1507, 'symbol': 1508, 'transform': 1509, 'sentiment': 1510, 'x': 1511, 'johnni': 1512, 'invent': 1513, 'onto': 1514, 'piti': 1515, 'process': 1516, 'attitud': 1517, 'explan': 1518, 'awar': 1519, 'owner': 1520, 'aim': 1521, 'favor': 1522, 'necessari': 1523, 'target': 1524, 'floor': 1525, 'energi': 1526, 'religi': 1527, 'opposit': 1528, 'insight': 1529, 'window': 1530, 'blind': 1531, 'chick': 1532, 'movement': 1533, 'deepli': 1534, 'comparison': 1535, 'mountain': 1536, 'research': 1537, 'possess': 1538, 'comed': 1539, 'whatsoev': 1540, 'grand': 1541, 'rain': 1542, 'mid': 1543, 'bank': 1544, 'shadow': 1545, 'began': 1546, 'princ': 1547, 'parodi': 1548, 'pre': 1549, 'taylor': 1550, 'credibl': 1551, 'friendship': 1552, 'weapon': 1553, 'flesh': 1554, 'dougla': 1555, 'teach': 1556, 'protect': 1557, 'terror': 1558, 'hint': 1559, 'bloodi': 1560, 'marvel': 1561, 'drunk': 1562, 'watchabl': 1563, 'load': 1564, 'superman': 1565, 'leader': 1566, 'anybodi': 1567, 'accord': 1568, 'freddi': 1569, 'brown': 1570, 'appropri': 1571, 'seat': 1572, 'tim': 1573, 'hitler': 1574, 'jeff': 1575, 'unknown': 1576, 'charg': 1577, 'villag': 1578, 'keaton': 1579, 'knock': 1580, 'empti': 1581, 'media': 1582, 'enemi': 1583, 'unnecessari': 1584, 'england': 1585, 'craft': 1586, 'strength': 1587, 'perspect': 1588, 'wave': 1589, 'buck': 1590, 'utter': 1591, 'dare': 1592, 'contrast': 1593, 'correct': 1594, 'ford': 1595, 'kiss': 1596, 'nativ': 1597, 'anywher': 1598, 'nazi': 1599, 'knowledg': 1600, 'magnific': 1601, 'chill': 1602, 'soap': 1603, 'speed': 1604, 'distract': 1605, 'breath': 1606, 'ice': 1607, 'fred': 1608, 'mission': 1609, '1980': 1610, 'crowd': 1611, 'jr': 1612, 'joan': 1613, 'moon': 1614, '000': 1615, 'kate': 1616, 'frighten': 1617, 'soft': 1618, 'nick': 1619, 'dan': 1620, 'hundr': 1621, 'dick': 1622, 'dozen': 1623, 'radio': 1624, 'somebodi': 1625, 'simon': 1626, 'thousand': 1627, 'shakespear': 1628, 'andrew': 1629, 'loss': 1630, 'academi': 1631, 'root': 1632, 'sum': 1633, 'vehicl': 1634, 'quot': 1635, 'account': 1636, 'leg': 1637, '1970': 1638, 'convent': 1639, 'behavior': 1640, 'gold': 1641, 'regular': 1642, 'demand': 1643, 'compet': 1644, 'worker': 1645, 'pretenti': 1646, 'japan': 1647, 'stretch': 1648, 'notabl': 1649, 'privat': 1650, 'lynch': 1651, 'interpret': 1652, 'explos': 1653, 'candi': 1654, 'constant': 1655, 'tarzan': 1656, 'debut': 1657, 'revolv': 1658, 'spi': 1659, 'translat': 1660, 'prais': 1661, 'sea': 1662, 'franc': 1663, 'failur': 1664, 'quiet': 1665, 'threaten': 1666, 'ass': 1667, 'jesu': 1668, 'technolog': 1669, 'sat': 1670, 'aid': 1671, 'kevin': 1672, 'met': 1673, 'toy': 1674, 'higher': 1675, 'punch': 1676, 'abandon': 1677, 'interact': 1678, 'mike': 1679, 'vh': 1680, 'bet': 1681, 'confront': 1682, 'command': 1683, 'separ': 1684, 'servic': 1685, 'site': 1686, 'recal': 1687, 'belong': 1688, 'gotten': 1689, 'techniqu': 1690, 'stunt': 1691, 'cabl': 1692, 'freak': 1693, 'foot': 1694, 'bug': 1695, 'african': 1696, 'jimmi': 1697, 'bright': 1698, 'fu': 1699, 'capabl': 1700, 'boat': 1701, 'fat': 1702, 'succeed': 1703, 'stock': 1704, 'clark': 1705, 'presid': 1706, 'spanish': 1707, 'structur': 1708, 'gene': 1709, 'kidnap': 1710, 'paper': 1711, 'factor': 1712, 'belief': 1713, 'whilst': 1714, 'bob': 1715, 'witti': 1716, 'tree': 1717, 'complic': 1718, 'attend': 1719, 'realis': 1720, 'educ': 1721, 'realism': 1722, 'finest': 1723, 'santa': 1724, 'assist': 1725, 'broken': 1726, 'up': 1727, 'depart': 1728, 'observ': 1729, 'v': 1730, 'smoke': 1731, 'determin': 1732, 'hat': 1733, 'oper': 1734, 'domin': 1735, 'fame': 1736, 'lewi': 1737, 'rubbish': 1738, 'routin': 1739, 'lone': 1740, 'morgan': 1741, 'safe': 1742, 'advanc': 1743, 'hook': 1744, 'kinda': 1745, 'foreign': 1746, 'rank': 1747, 'numer': 1748, 'civil': 1749, 'shape': 1750, 'washington': 1751, 'rose': 1752, 'vs': 1753, 'werewolf': 1754, 'shallow': 1755, 'morn': 1756, 'gari': 1757, 'accomplish': 1758, 'winner': 1759, 'kong': 1760, 'ordinari': 1761, 'peac': 1762, 'whenev': 1763, 'grab': 1764, 'virtual': 1765, 'offens': 1766, 'h': 1767, 'luck': 1768, 'contriv': 1769, 'welcom': 1770, 'unfunni': 1771, 'activ': 1772, 'bigger': 1773, 'complain': 1774, 'patient': 1775, 'pretend': 1776, 'dimension': 1777, 'trek': 1778, 'con': 1779, 'flash': 1780, 'code': 1781, 'wake': 1782, 'lesbian': 1783, 'dri': 1784, 'cain': 1785, 'eric': 1786, 'manipul': 1787, 'guard': 1788, 'dancer': 1789, 'corrupt': 1790, 'statu': 1791, 'albert': 1792, 'sourc': 1793, 'speech': 1794, 'signific': 1795, 'awkward': 1796, 'context': 1797, 'gain': 1798, 'anthoni': 1799, 'corni': 1800, 'psycho': 1801, 'clip': 1802, '13': 1803, 'sean': 1804, 'curiou': 1805, 'reli': 1806, 'w': 1807, 'advic': 1808, 'theatric': 1809, 'religion': 1810, 'priest': 1811, 'addict': 1812, 'flow': 1813, 'asian': 1814, 'secur': 1815, 'howard': 1816, 'specif': 1817, 'skin': 1818, 'jennif': 1819, 'comfort': 1820, 'promot': 1821, 'core': 1822, 'organ': 1823, 'golden': 1824, 'luke': 1825, 'cash': 1826, 'lucki': 1827, 'cheat': 1828, 'associ': 1829, 'lower': 1830, 'dislik': 1831, 'devic': 1832, 'contribut': 1833, 'degre': 1834, 'wing': 1835, 'regret': 1836, 'frequent': 1837, 'balanc': 1838, 'frankli': 1839, 'spell': 1840, 'forgiv': 1841, 'sake': 1842, 'print': 1843, 'lake': 1844, 'mass': 1845, 'thoma': 1846, 'betti': 1847, 'unexpect': 1848, 'gordon': 1849, 'crack': 1850, 'invit': 1851, 'depend': 1852, 'categori': 1853, 'construct': 1854, 'amateur': 1855, 'unfold': 1856, 'grown': 1857, 'honor': 1858, 'grew': 1859, 'matur': 1860, 'condit': 1861, 'walter': 1862, 'intellectu': 1863, 'anna': 1864, 'sole': 1865, 'veteran': 1866, 'spectacular': 1867, 'mirror': 1868, 'sudden': 1869, 'freedom': 1870, 'meanwhil': 1871, 'overli': 1872, 'liner': 1873, 'demonstr': 1874, 'gift': 1875, 'card': 1876, 'grip': 1877, 'experienc': 1878, 'robin': 1879, 'section': 1880, 'theori': 1881, 'drew': 1882, 'crappi': 1883, 'unabl': 1884, 'brilliantli': 1885, 'oliv': 1886, 'circumst': 1887, 'subtitl': 1888, 'sheriff': 1889, 'colour': 1890, 'laughter': 1891, 'matt': 1892, 'cook': 1893, 'pile': 1894, 'altern': 1895, 'sheer': 1896, 'path': 1897, 'parker': 1898, 'hall': 1899, 'lawyer': 1900, 'relief': 1901, 'treatment': 1902, 'accident': 1903, 'sinatra': 1904, 'defin': 1905, 'wander': 1906, 'hank': 1907, 'dragon': 1908, 'captiv': 1909, 'gratuit': 1910, 'moor': 1911, 'halloween': 1912, 'wound': 1913, 'barbara': 1914, 'wayn': 1915, 'cowboy': 1916, 'k': 1917, 'broadway': 1918, 'kung': 1919, 'jacki': 1920, 'unintent': 1921, 'statement': 1922, 'winter': 1923, 'canadian': 1924, 'surreal': 1925, 'spoof': 1926, 'treasur': 1927, 'fish': 1928, 'cheer': 1929, 'gonna': 1930, 'fare': 1931, 'compos': 1932, 'emerg': 1933, 'victor': 1934, 'sensit': 1935, 'woodi': 1936, 'unrealist': 1937, 'driven': 1938, 'neighbor': 1939, 'ran': 1940, 'sympathet': 1941, 'glass': 1942, 'overlook': 1943, 'menac': 1944, 'expos': 1945, 'topic': 1946, 'authent': 1947, 'ancient': 1948, 'handsom': 1949, 'michel': 1950, 'gross': 1951, 'chief': 1952, 'nevertheless': 1953, 'network': 1954, 'stranger': 1955, 'feet': 1956, 'pleasant': 1957, 'comedian': 1958, 'russel': 1959, 'cinderella': 1960, 'contemporari': 1961, 'built': 1962, 'endless': 1963, 'letter': 1964, 'blockbust': 1965, 'earn': 1966, 'miser': 1967, 'gori': 1968, 'consider': 1969, 'underr': 1970, 'brook': 1971, 'switch': 1972, 'solv': 1973, 'edward': 1974, 'convict': 1975, 'virgin': 1976, 'bullet': 1977, 'joseph': 1978, 'victoria': 1979, 'scale': 1980, 'cynic': 1981, 'scenario': 1982, 'alex': 1983, 'chosen': 1984, '0': 1985, 'outrag': 1986, 'com': 1987, 'curs': 1988, 'gut': 1989, 'sword': 1990, 'uk': 1991, 'substanc': 1992, 'wrap': 1993, 'monkey': 1994, 'juli': 1995, 'screenwrit': 1996, 'proper': 1997, 'driver': 1998, 'court': 1999, 'remov': 2000, 'indic': 2001, 'bird': 2002, 'par': 2003, 'consequ': 2004, 'grave': 2005, 'inevit': 2006, 'naiv': 2007, 'advertis': 2008, 'roy': 2009, 'loser': 2010, 'rental': 2011, 'nanci': 2012, 'slap': 2013, 'brave': 2014, 'fatal': 2015, 'bridg': 2016, 'germani': 2017, 'le': 2018, 'invis': 2019, 'ador': 2020, 'provok': 2021, 'loui': 2022, 'footbal': 2023, 'anger': 2024, 'alcohol': 2025, 'anderson': 2026, 'chan': 2027, 'stumbl': 2028, 'professor': 2029, 'willi': 2030, 'ryan': 2031, 'sharp': 2032, 'bat': 2033, '1930': 2034, 'assassin': 2035, 'patrick': 2036, 'australian': 2037, 'eight': 2038, 'trilog': 2039, 'refresh': 2040, 'liber': 2041, 'ape': 2042, 'strongli': 2043, 'heck': 2044, 'lousi': 2045, 'amateurish': 2046, 'deni': 2047, 'cell': 2048, 'saturday': 2049, 'sin': 2050, 'san': 2051, 'vagu': 2052, 'justifi': 2053, 'resid': 2054, 'mini': 2055, 'reput': 2056, 'indi': 2057, 'creator': 2058, 'sympathi': 2059, 'defeat': 2060, 'terrifi': 2061, 'expert': 2062, 'endur': 2063, 'tabl': 2064, 'tediou': 2065, 'prevent': 2066, 'task': 2067, 'employ': 2068, 'offend': 2069, 'basebal': 2070, 'trial': 2071, 'rival': 2072, 'imit': 2073, 'che': 2074, 'weekend': 2075, 'dig': 2076, 'complaint': 2077, 'europ': 2078, 'max': 2079, 'beach': 2080, 'pitch': 2081, 'fairi': 2082, 'risk': 2083, 'format': 2084, 'purchas': 2085, 'murphi': 2086, 'reminisc': 2087, 'nois': 2088, 'bite': 2089, 'hype': 2090, 'tini': 2091, 'titan': 2092, 'harsh': 2093, 'glimps': 2094, 'powel': 2095, 'north': 2096, 'strip': 2097, '14': 2098, 'prime': 2099, 'asleep': 2100, 'fals': 2101, 'till': 2102, 'texa': 2103, 'africa': 2104, 'descript': 2105, 'destruct': 2106, 'revel': 2107, 'semi': 2108, 'sitcom': 2109, 'arrest': 2110, 'uninterest': 2111, 'excess': 2112, 'inner': 2113, 'surfac': 2114, 'spin': 2115, 'maintain': 2116, 'argu': 2117, 'massiv': 2118, 'hitchcock': 2119, 'twin': 2120, 'controversi': 2121, 'makeup': 2122, 'dinosaur': 2123, 'ideal': 2124, 'melodrama': 2125, 'ludicr': 2126, 'stare': 2127, 'expens': 2128, 'kim': 2129, 'reject': 2130, 'insist': 2131, 'press': 2132, 'ala': 2133, 'ga': 2134, 'nail': 2135, 'supernatur': 2136, 'erot': 2137, 'subplot': 2138, 'host': 2139, 'atroci': 2140, 'forest': 2141, 'columbo': 2142, 'presum': 2143, 'identifi': 2144, 'dude': 2145, 'notch': 2146, 'cant': 2147, 'closer': 2148, 'crude': 2149, 'method': 2150, 'guest': 2151, 'plagu': 2152, 'forgett': 2153, 'character': 2154, 'foster': 2155, 'princess': 2156, 'border': 2157, 'landscap': 2158, 'ear': 2159, 'lion': 2160, 'beast': 2161, 'birth': 2162, 'urban': 2163, 'previous': 2164, 'aunt': 2165, 'storytel': 2166, 'bound': 2167, 'accus': 2168, 'pacino': 2169, 'jungl': 2170, 'damag': 2171, 'chose': 2172, 'guid': 2173, 'emma': 2174, 'propaganda': 2175, 'jess': 2176, 'nude': 2177, 'doll': 2178, 'thirti': 2179, 'whoever': 2180, '25': 2181, 'warrior': 2182, 'mainstream': 2183, 'pet': 2184, 'mate': 2185, 'exact': 2186, 'deadli': 2187, 'latest': 2188, 'gritti': 2189, 'poster': 2190, 'size': 2191, 'upset': 2192, 'merit': 2193, 'friday': 2194, 'cooper': 2195, 'warner': 2196, 'popul': 2197, 'buff': 2198, 'sun': 2199, 'ton': 2200, 'citizen': 2201, 'contact': 2202, 'blend': 2203, 'rough': 2204, 'corps': 2205, 'contest': 2206, '1990': 2207, 'wilson': 2208, 'settl': 2209, 'mgm': 2210, 'environ': 2211, 'alic': 2212, 'bu': 2213, 'overcom': 2214, 'metal': 2215, 'widow': 2216, 'select': 2217, 'rat': 2218, 'pitt': 2219, 'link': 2220, 'guilti': 2221, 'particip': 2222, 'revolut': 2223, 'ted': 2224, 'lift': 2225, 'moron': 2226, 'corner': 2227, 'matrix': 2228, 'accompani': 2229, 'johnson': 2230, '1960': 2231, 'corpor': 2232, 'afternoon': 2233, 'prostitut': 2234, 'exagger': 2235, 'sincer': 2236, 'friendli': 2237, 'clair': 2238, 'multipl': 2239, 'leagu': 2240, 'doom': 2241, 'hood': 2242, 'instal': 2243, 'holm': 2244, 'examin': 2245, 'defend': 2246, 'hip': 2247, 'blah': 2248, 'string': 2249, 'advis': 2250, 'grim': 2251, 'campi': 2252, 'irish': 2253, 'sunday': 2254, 'junk': 2255, 'aka': 2256, 'lugosi': 2257, 'icon': 2258, 'pro': 2259, 'confid': 2260, 'rachel': 2261, 'varieti': 2262, 'shut': 2263, 'shake': 2264, 'tight': 2265, 'mexican': 2266, 'attach': 2267, 'medic': 2268, 'goal': 2269, 'sullivan': 2270, 'jaw': 2271, 'denni': 2272, 'directli': 2273, 'bourn': 2274, 'sentenc': 2275, 'courag': 2276, 'vietnam': 2277, 'truck': 2278, 'sarah': 2279, 'terrorist': 2280, 'legendari': 2281, 'duke': 2282, 'breast': 2283, 'dean': 2284, 'prior': 2285, 'nose': 2286, 'yell': 2287, 'proceed': 2288, 'donald': 2289, 'entri': 2290, 'hong': 2291, 'split': 2292, 'behav': 2293, 'un': 2294, 'confess': 2295, 'crush': 2296, 'lifetim': 2297, 'forth': 2298, 'jerk': 2299, 'swim': 2300, 'everywher': 2301, 'concentr': 2302, 'borrow': 2303, 'buri': 2304, 'gather': 2305, 'unconvinc': 2306, 'stolen': 2307, 'deliveri': 2308, 'julia': 2309, 'spite': 2310, 'lip': 2311, 'turkey': 2312, 'pan': 2313, 'california': 2314, 'downright': 2315, 'quest': 2316, 'china': 2317, 'hoffman': 2318, 'offici': 2319, 'reward': 2320, 'flight': 2321, 'proud': 2322, 'freeman': 2323, 'jail': 2324, 'inept': 2325, 'notori': 2326, 'jon': 2327, 'betray': 2328, 'lazi': 2329, 'sink': 2330, 'encourag': 2331, 'worthwhil': 2332, 'fabul': 2333, 'fade': 2334, 'sir': 2335, 'storm': 2336, 'cousin': 2337, 'survivor': 2338, 'bag': 2339, 'bell': 2340, 'lisa': 2341, 'relev': 2342, 'susan': 2343, 'imageri': 2344, 'shower': 2345, 'retard': 2346, 'branagh': 2347, 'teeth': 2348, 'trade': 2349, 'bride': 2350, 'tremend': 2351, 'finger': 2352, 'hugh': 2353, 'facial': 2354, 'stab': 2355, 'mexico': 2356, 'shark': 2357, 'alright': 2358, 'quirki': 2359, 'summari': 2360, 'toler': 2361, 'ha': 2362, 'pose': 2363, 'von': 2364, 'hyster': 2365, 'bitter': 2366, 'blown': 2367, 'address': 2368, 'christ': 2369, 'bone': 2370, 'ron': 2371, 'cruel': 2372, 'ned': 2373, 'scheme': 2374, 'afterward': 2375, 'larri': 2376, 'swear': 2377, 'distinct': 2378, 'traci': 2379, 'thumb': 2380, 'beg': 2381, 'screw': 2382, 'snake': 2383, 'pursu': 2384, 'feed': 2385, 'tour': 2386, 'photo': 2387, 'stomach': 2388, 'obscur': 2389, 'raw': 2390, 'occas': 2391, 'mechan': 2392, 'chair': 2393, 'resist': 2394, 'holiday': 2395, 'cabin': 2396, 'render': 2397, 'heavili': 2398, 'argument': 2399, 'sidney': 2400, 'southern': 2401, 'hardi': 2402, 'gruesom': 2403, 'chain': 2404, 'necessarili': 2405, 'understood': 2406, 'philip': 2407, 'india': 2408, 'indulg': 2409, 'satan': 2410, 'racist': 2411, 'integr': 2412, 'midnight': 2413, 'tongu': 2414, 'belov': 2415, 'lay': 2416, 'stalk': 2417, 'fourth': 2418, 'forgot': 2419, 'obnoxi': 2420, 'outfit': 2421, 'pregnant': 2422, 'deeper': 2423, 'slapstick': 2424, 'garden': 2425, 'inhabit': 2426, '17': 2427, 'restor': 2428, 'carol': 2429, 'magazin': 2430, 'ticket': 2431, 'devot': 2432, 'incid': 2433, 'shoe': 2434, 'lincoln': 2435, 'brad': 2436, 'anticip': 2437, 'elizabeth': 2438, 'benefit': 2439, 'divorc': 2440, 'disbelief': 2441, 'lili': 2442, 'maria': 2443, 'guarante': 2444, 'sandler': 2445, 'underground': 2446, 'greater': 2447, 'capit': 2448, 'cring': 2449, 'slave': 2450, 'mildli': 2451, 'bbc': 2452, 'amazingli': 2453, 'creation': 2454, 'princip': 2455, 'explod': 2456, 'funnier': 2457, 'introduct': 2458, 'halfway': 2459, 'lesli': 2460, 'extraordinari': 2461, 'advantag': 2462, 'wreck': 2463, 'transfer': 2464, 'punish': 2465, 'enhanc': 2466, 'overwhelm': 2467, 'extent': 2468, 'tap': 2469, 'text': 2470, 'east': 2471, 'horrif': 2472, 'error': 2473, 'preview': 2474, 'plant': 2475, 'lane': 2476, 'deliber': 2477, 'lo': 2478, 'jessica': 2479, 'dynam': 2480, 'basi': 2481, 'appli': 2482, 'miller': 2483, 'miscast': 2484, 'vincent': 2485, 'sophist': 2486, 'homosexu': 2487, 'ensu': 2488, '2000': 2489, 'vacat': 2490, 'spoken': 2491, 'extend': 2492, 'uncomfort': 2493, 'elev': 2494, 'measur': 2495, 'bollywood': 2496, 'via': 2497, 'mansion': 2498, 'reed': 2499, 'steel': 2500, 'sleazi': 2501, 'breathtak': 2502, 'goofi': 2503, 'blair': 2504, 'fix': 2505, 'melt': 2506, 'stanley': 2507, 'conceiv': 2508, 'dentist': 2509, 'mous': 2510, 'assign': 2511, 'beer': 2512, 'daili': 2513, 'savag': 2514, 'alter': 2515, 'overact': 2516, 'cathol': 2517, 'hippi': 2518, 'subsequ': 2519, 'succe': 2520, 'inspector': 2521, 'oppos': 2522, 'nowaday': 2523, 'everyday': 2524, 'burt': 2525, 'carpent': 2526, 'sacrific': 2527, 'properli': 2528, 'neck': 2529, 'circl': 2530, 'massacr': 2531, 'block': 2532, 'laura': 2533, 'grey': 2534, 'access': 2535, 'fallen': 2536, 'concert': 2537, 'portrait': 2538, 'mob': 2539, 'christi': 2540, 'lesser': 2541, 'pool': 2542, 'seagal': 2543, 'fay': 2544, 'jake': 2545, 'relax': 2546, 'usa': 2547, 'competit': 2548, 'react': 2549, 'sinist': 2550, 'jewish': 2551, 'chees': 2552, 'isol': 2553, 'appal': 2554, 'lyric': 2555, 'immens': 2556, 'creep': 2557, 'spiritu': 2558, '2006': 2559, 'nonetheless': 2560, 'chop': 2561, 'nine': 2562, 'suitabl': 2563, 'ironi': 2564, 'stink': 2565, 'reduc': 2566, 'luci': 2567, 'retir': 2568, 'rage': 2569, 'user': 2570, 'showcas': 2571, 'spring': 2572, 'adopt': 2573, 'sold': 2574, 'navi': 2575, 'franchis': 2576, 'needless': 2577, 'nut': 2578, 'shirt': 2579, 'zone': 2580, 'nurs': 2581, 'stanwyck': 2582, 'asham': 2583, 'uninspir': 2584, 'bulli': 2585, 'jay': 2586, 'bath': 2587, 'digit': 2588, 'per': 2589, 'broadcast': 2590, 'amongst': 2591, '1940': 2592, 'laid': 2593, 'oddli': 2594, 'upper': 2595, 'illustr': 2596, 'sutherland': 2597, '2001': 2598, 'disguis': 2599, 'baker': 2600, 'aspir': 2601, 'throat': 2602, 'stylish': 2603, 'brando': 2604, 'fulfil': 2605, 'impli': 2606, 'nobl': 2607, 'em': 2608, 'wwii': 2609, 'pound': 2610, 'endear': 2611, '18': 2612, 'thief': 2613, 'neighborhood': 2614, 'pride': 2615, 'wanna': 2616, 'albeit': 2617, 'diseas': 2618, 'coher': 2619, 'prop': 2620, 'dinner': 2621, 'shoulder': 2622, 'tens': 2623, '16': 2624, 'distribut': 2625, 'dawn': 2626, 'shift': 2627, 'bett': 2628, 'bo': 2629, 'cinematograph': 2630, 'rochest': 2631, 'contract': 2632, 'shout': 2633, 'function': 2634, 'rebel': 2635, 'poignant': 2636, 'silenc': 2637, 'snow': 2638, 'knife': 2639, 'surf': 2640, 'forti': 2641, 'matthau': 2642, 'wash': 2643, 'duti': 2644, 'proof': 2645, 'eeri': 2646, 'cannib': 2647, 'mindless': 2648, 'cancel': 2649, 'henc': 2650, 'horrend': 2651, 'elvira': 2652, 'heat': 2653, 'silver': 2654, 'reunion': 2655, 'chuck': 2656, 'instinct': 2657, 'internet': 2658, 'derek': 2659, 'height': 2660, 'widmark': 2661, 'alik': 2662, 'torn': 2663, 'innov': 2664, 'repetit': 2665, 'pie': 2666, 'premier': 2667, 'incoher': 2668, 'greatli': 2669, 'etern': 2670, 'glori': 2671, 'mill': 2672, 'musician': 2673, 'elvi': 2674, 'neat': 2675, 'absorb': 2676, 'spielberg': 2677, 'precis': 2678, 'announc': 2679, 'redempt': 2680, 'trite': 2681, 'nelson': 2682, 'itali': 2683, 'diamond': 2684, 'racism': 2685, 'lovabl': 2686, 'infam': 2687, 'wealthi': 2688, 'fbi': 2689, 'crisi': 2690, 'homag': 2691, 'burton': 2692, 'bang': 2693, 'horrifi': 2694, 'blank': 2695, 'britain': 2696, 'resolut': 2697, 'happili': 2698, 'ensembl': 2699, 'parallel': 2700, 'dedic': 2701, 'wilder': 2702, 'pat': 2703, 'hammer': 2704, 'chaplin': 2705, 'flop': 2706, 'helen': 2707, 'streisand': 2708, 'broke': 2709, 'conclud': 2710, 'oil': 2711, 'st': 2712, 'carter': 2713, 'factori': 2714, 'disagre': 2715, 'triumph': 2716, 'cube': 2717, 'plastic': 2718, 'mar': 2719, 'own': 2720, 'march': 2721, 'rocket': 2722, 'weight': 2723, 'vega': 2724, 'row': 2725, 'bush': 2726, 'fighter': 2727, 'climb': 2728, 'chuckl': 2729, 'meaning': 2730, 'luca': 2731, 'sensibl': 2732, 'dump': 2733, 'unforgett': 2734, 'spare': 2735, 'wherea': 2736, 'lust': 2737, 'kurt': 2738, 'enorm': 2739, 'thug': 2740, 'mst3k': 2741, 'dane': 2742, 'boot': 2743, 'threat': 2744, 'fifti': 2745, 'caricatur': 2746, 'arnold': 2747, 'butt': 2748, 'difficulti': 2749, 'adequ': 2750, 'stress': 2751, 'dear': 2752, 'engin': 2753, 'bobbi': 2754, 'rap': 2755, 'brand': 2756, 'karloff': 2757, 'swing': 2758, 'ego': 2759, 'ralph': 2760, 'journalist': 2761, 'barri': 2762, 'hamlet': 2763, 'elabor': 2764, 'homeless': 2765, 'fest': 2766, 'arrog': 2767, 'polish': 2768, 'secretari': 2769, 'flynn': 2770, 'tool': 2771, 'float': 2772, 'unbear': 2773, 'induc': 2774, 'resort': 2775, 'arrang': 2776, 'fanci': 2777, 'puppet': 2778, 'simpson': 2779, 'spike': 2780, 'grate': 2781, 'conspiraci': 2782, 'guilt': 2783, 'pig': 2784, 'boll': 2785, 'exercis': 2786, 'cruis': 2787, 'choreograph': 2788, 'phillip': 2789, 'basement': 2790, 'tribut': 2791, 'muppet': 2792, 'item': 2793, 'ham': 2794, 'korean': 2795, 'toilet': 2796, 'editor': 2797, '24': 2798, 'slip': 2799, 'document': 2800, 'scarecrow': 2801, 'puzzl': 2802, 'fianc': 2803, 'file': 2804, 'layer': 2805, 'ward': 2806, 'tower': 2807, 'babe': 2808, 'medium': 2809, 'stan': 2810, 'philosoph': 2811, 'orient': 2812, 'portion': 2813, 'transit': 2814, 'glover': 2815, 'minim': 2816, 'spark': 2817, 'territori': 2818, 'persona': 2819, 'inexplic': 2820, 'denzel': 2821, 'catherin': 2822, 'doc': 2823, 'librari': 2824, 'slaughter': 2825, 'assur': 2826, 'superfici': 2827, 'larger': 2828, 'financi': 2829, 'owe': 2830, 'boredom': 2831, 'wolf': 2832, 'sneak': 2833, 'pg': 2834, 'shi': 2835, 'dorothi': 2836, 'walken': 2837, 'jet': 2838, 'curti': 2839, 'ban': 2840, 'jeremi': 2841, 'whale': 2842, 'ambigu': 2843, 'backdrop': 2844, 'profound': 2845, 'hudson': 2846, 'cusack': 2847, 'eleph': 2848, 'multi': 2849, 'metaphor': 2850, 'rave': 2851, 'elsewher': 2852, '2005': 2853, 'notion': 2854, 'implaus': 2855, 'stiff': 2856, 'birthday': 2857, 'ultra': 2858, 'viru': 2859, 'union': 2860, 'gadget': 2861, 'hack': 2862, 'lloyd': 2863, 'canada': 2864, 'bibl': 2865, 'urg': 2866, 'afford': 2867, 'newspap': 2868, 'hawk': 2869, 'deriv': 2870, 'distanc': 2871, 'eastwood': 2872, 'pad': 2873, 'squar': 2874, '1st': 2875, 'poison': 2876, 'slight': 2877, 'reader': 2878, 'disc': 2879, 'eva': 2880, 'superhero': 2881, 'drown': 2882, 'essenc': 2883, 'health': 2884, 'button': 2885, 'cure': 2886, 'huh': 2887, 'sadist': 2888, 'spread': 2889, 'montag': 2890, 'skit': 2891, 'restaur': 2892, 'heston': 2893, 'charisma': 2894, 'peak': 2895, 'lab': 2896, 'maniac': 2897, 'dealt': 2898, 'estat': 2899, 'fetch': 2900, 'invest': 2901, 'companion': 2902, 'gradual': 2903, 'godfath': 2904, 'scoobi': 2905, 'muslim': 2906, 'cup': 2907, 'tea': 2908, 'alli': 2909, 'countless': 2910, 'subtleti': 2911, 'ritter': 2912, 'servant': 2913, 'kane': 2914, 'gothic': 2915, 'miik': 2916, 'iii': 2917, 'briefli': 2918, 'heroic': 2919, 'charismat': 2920, 'elect': 2921, 'electr': 2922, 'salli': 2923, 'resourc': 2924, 'neil': 2925, 'tender': 2926, 'wannab': 2927, 'admittedli': 2928, 'toss': 2929, 'grandmoth': 2930, 'ingredi': 2931, 'reel': 2932, 'bud': 2933, 'nuanc': 2934, 'cole': 2935, 'shall': 2936, 'label': 2937, 'poverti': 2938, 'stood': 2939, 'reev': 2940, 'gate': 2941, 'mafia': 2942, 'mild': 2943, 'carrey': 2944, 'pauli': 2945, 'stronger': 2946, 'pit': 2947, 'kubrick': 2948, 'dawson': 2949, 'punk': 2950, 'terri': 2951, 'assault': 2952, 'useless': 2953, 'smooth': 2954, 'smash': 2955, 'fond': 2956, 'outcom': 2957, 'burst': 2958, 'cox': 2959, 'cardboard': 2960, 'tag': 2961, 'easier': 2962, 'updat': 2963, 'ian': 2964, 'astair': 2965, 'bakshi': 2966, 'divers': 2967, 'increasingli': 2968, 'qualifi': 2969, 'melodramat': 2970, 'coincid': 2971, 'sketch': 2972, '2002': 2973, 'vulner': 2974, 'vari': 2975, 'fist': 2976, 'exchang': 2977, 'rex': 2978, 'resolv': 2979, 'samurai': 2980, 'insert': 2981, 'tame': 2982, 'brillianc': 2983, 'templ': 2984, 'be': 2985, 'luckili': 2986, 'reynold': 2987, 'conveni': 2988, 'suspend': 2989, 'blast': 2990, 'scratch': 2991, 'strictli': 2992, 'hamilton': 2993, 'coach': 2994, 'seventi': 2995, 'meat': 2996, 'soprano': 2997, 'matthew': 2998, 'walker': 2999, 'fisher': 3000, 'gotta': 3001, 'nuclear': 3002, 'jami': 3003, 'farm': 3004, 'pin': 3005, 'ambiti': 3006, 'struck': 3007, 'empir': 3008, 'cave': 3009, 'brosnan': 3010, 'clock': 3011, 'closet': 3012, 'revers': 3013, 'monk': 3014, 'grasp': 3015, 'discoveri': 3016, 'timeless': 3017, 'kudo': 3018, 'instantli': 3019, 'spooki': 3020, 'recreat': 3021, 'butcher': 3022, 'convolut': 3023, 'ninja': 3024, 'eccentr': 3025, 'joey': 3026, 'worthless': 3027, 'selfish': 3028, 'bleak': 3029, 'evok': 3030, 'importantli': 3031, 'miracl': 3032, 'pal': 3033, 'inconsist': 3034, 'partli': 3035, 'wipe': 3036, 'norman': 3037, 'gray': 3038, 'clown': 3039, 'cliff': 3040, 'sloppi': 3041, 'eighti': 3042, 'mitchel': 3043, 'sidekick': 3044, 'declar': 3045, 'seller': 3046, 'communist': 3047, 'fifteen': 3048, 'australia': 3049, 'destin': 3050, 'ho': 3051, 'lifestyl': 3052, 'superbl': 3053, 'debat': 3054, 'aforement': 3055, 'enthusiast': 3056, 'flawless': 3057, 'chew': 3058, 'websit': 3059, 'psychiatrist': 3060, '45': 3061, 'cheek': 3062, 'stoog': 3063, 'seed': 3064, 'piano': 3065, 'farc': 3066, 'wick': 3067, 'bash': 3068, 'anni': 3069, 'dire': 3070, 'regardless': 3071, 'akshay': 3072, 'pressur': 3073, 'slice': 3074, 'abc': 3075, 'splatter': 3076, 'soviet': 3077, 'drivel': 3078, 'kitchen': 3079, 'directori': 3080, 'wrestl': 3081, 'emili': 3082, 'dash': 3083, 'incompet': 3084, 'mann': 3085, 'suppli': 3086, 'artifici': 3087, 'cagney': 3088, 'chapter': 3089, 'helicopt': 3090, 'duo': 3091, 'pleasantli': 3092, 'distant': 3093, 'seduc': 3094, 'ken': 3095, 'beaten': 3096, 'jar': 3097, 'recov': 3098, 'curios': 3099, 'flower': 3100, 'cameron': 3101, 'lou': 3102, 'increas': 3103, 'boil': 3104, 'dave': 3105, 'cia': 3106, 'glow': 3107, 'prize': 3108, 'judi': 3109, 'doo': 3110, 'blob': 3111, 'eleg': 3112, 'splendid': 3113, 'web': 3114, 'craven': 3115, 'glenn': 3116, 'craig': 3117, 'combat': 3118, 'hop': 3119, 'ellen': 3120, 'panic': 3121, 'psychot': 3122, 'ranger': 3123, 'drunken': 3124, 'favour': 3125, 'laurel': 3126, 'francisco': 3127, 'goldberg': 3128, 'perri': 3129, 'turner': 3130, 'hatr': 3131, '20th': 3132, 'philosophi': 3133, 'rid': 3134, 'slightest': 3135, 'min': 3136, 'shortli': 3137, 'plausibl': 3138, 'graduat': 3139, 'gentl': 3140, 'alexand': 3141, 'fx': 3142, 'greek': 3143, 'flip': 3144, 'wizard': 3145, 'falk': 3146, 'ruth': 3147, 'modesti': 3148, 'gandhi': 3149, 'jealou': 3150, 'preciou': 3151, 'lend': 3152, 'futurist': 3153, 'felix': 3154, 'fund': 3155, 'we': 3156, 'legal': 3157, 'manhattan': 3158, 'unpleas': 3159, 'ocean': 3160, 'harm': 3161, 'holi': 3162, 'tall': 3163, 'dracula': 3164, 'knight': 3165, 'scientif': 3166, 'overdon': 3167, 'tank': 3168, 'mock': 3169, 'reviv': 3170, 'bless': 3171, 'digniti': 3172, 'ami': 3173, 'forbidden': 3174, 'childish': 3175, 'nod': 3176, 'explicit': 3177, 'giallo': 3178, 'thread': 3179, 'awaken': 3180, 'margaret': 3181, 'mel': 3182, 'elderli': 3183, 'fever': 3184, 'repeatedli': 3185, 'nerv': 3186, 'eve': 3187, 'awe': 3188, 'yesterday': 3189, 'broad': 3190, '99': 3191, 'thick': 3192, 'torment': 3193, 'unwatch': 3194, '2004': 3195, 'pirat': 3196, 'verhoeven': 3197, 'absenc': 3198, 'bin': 3199, 'politician': 3200, 'launch': 3201, 'rivet': 3202, 'custom': 3203, 'publish': 3204, 'uniform': 3205, 'ambit': 3206, 'kay': 3207, 'acclaim': 3208, 'eas': 3209, 'royal': 3210, 'roman': 3211, 'automat': 3212, 'romero': 3213, 'griffith': 3214, 'timothi': 3215, 'stiller': 3216, 'ah': 3217, 'lean': 3218, 'crook': 3219, 'darker': 3220, 'stinker': 3221, 'pierc': 3222, 'transport': 3223, 'antic': 3224, 'phrase': 3225, 'homicid': 3226, 'warren': 3227, 'sunshin': 3228, 'pulp': 3229, 'tomato': 3230, 'bathroom': 3231, 'purpl': 3232, 'wallac': 3233, 'foul': 3234, 'termin': 3235, 'gabriel': 3236, 'brazil': 3237, 'ought': 3238, 'karen': 3239, 'li': 3240, 'choreographi': 3241, 'sixti': 3242, 'horrid': 3243, 'pray': 3244, 'packag': 3245, 'album': 3246, 'rambo': 3247, 'viciou': 3248, 'kenneth': 3249, 'hollow': 3250, 'evolv': 3251, 'contrari': 3252, 'q': 3253, 'revolutionari': 3254, 'saint': 3255, 'awak': 3256, 'prom': 3257, 'coloni': 3258, '2003': 3259, 'juvenil': 3260, 'marin': 3261, 'donna': 3262, 'eyr': 3263, 'nerd': 3264, 'option': 3265, 'mummi': 3266, 'overr': 3267, 'candid': 3268, 'dose': 3269, 'twelv': 3270, 'ireland': 3271, 'defi': 3272, 'beatti': 3273, 'stole': 3274, 'blade': 3275, 'conserv': 3276, 'mildr': 3277, 'ramon': 3278, 'kapoor': 3279, 'boast': 3280, 'detract': 3281, 'global': 3282, 'funer': 3283, 'confirm': 3284, 'protest': 3285, 'altman': 3286, 'astonish': 3287, 'collabor': 3288, 'natali': 3289, 'kirk': 3290, 'trio': 3291, 'flame': 3292, 'jazz': 3293, 'fulci': 3294, 'mystic': 3295, 'blake': 3296, 'leap': 3297, 'destini': 3298, 'bull': 3299, 'yellow': 3300, 'bottl': 3301, 'nicholson': 3302, 'audio': 3303, 'racial': 3304, 'delici': 3305, 'enterpris': 3306, 'whip': 3307, 'tommi': 3308, 'shade': 3309, 'spit': 3310, 'neo': 3311, 'staff': 3312, 'merci': 3313, 'meaningless': 3314, 'bedroom': 3315, 'enchant': 3316, 'inherit': 3317, 'altogeth': 3318, 'threw': 3319, 'reunit': 3320, 'popcorn': 3321, 'adolesc': 3322, 'fonda': 3323, 'harder': 3324, 'pseudo': 3325, 'swedish': 3326, 'visibl': 3327, 'vivid': 3328, 'todd': 3329, 'fanat': 3330, 'exhibit': 3331, 'synopsi': 3332, 'await': 3333, 'ruthless': 3334, 'crocodil': 3335, 'jew': 3336, 'voight': 3337, 'moodi': 3338, 'wire': 3339, 'reserv': 3340, 'decor': 3341, 'kennedi': 3342, 'uneven': 3343, 'tip': 3344, 'atlanti': 3345, 'lemmon': 3346, 'bust': 3347, 'lawrenc': 3348, 'edi': 3349, 'roommat': 3350, 'suspici': 3351, 'madonna': 3352, 'respond': 3353, 'befriend': 3354, 'leonard': 3355, 'centr': 3356, 'incident': 3357, 'chao': 3358, 'audit': 3359, 'rural': 3360, 'garner': 3361, 'carl': 3362, 'clumsi': 3363, '2007': 3364, 'abysm': 3365, 'bargain': 3366, 'unsettl': 3367, 'voyag': 3368, 'bradi': 3369, 'palma': 3370, 'clint': 3371, 'holli': 3372, 'ventur': 3373, 'bold': 3374, 'dimens': 3375, 'troop': 3376, 'neglect': 3377, 'elimin': 3378, 'versu': 3379, 'poetic': 3380, 'lit': 3381, 'mall': 3382, 'humili': 3383, 'nearbi': 3384, 'daddi': 3385, 'cuba': 3386, 'tiger': 3387, 'timon': 3388, 'characterist': 3389, 'cd': 3390, 'acknowledg': 3391, 'wealth': 3392, 'hart': 3393, 'immigr': 3394, 'imperson': 3395, '2nd': 3396, 'echo': 3397, 'cari': 3398, 'trail': 3399, 'ant': 3400, 'saga': 3401, 'infect': 3402, 'mistaken': 3403, 'pun': 3404, 'paus': 3405, 'celluloid': 3406, 'mickey': 3407, 'jeffrey': 3408, 'repuls': 3409, 'domest': 3410, 'homer': 3411, 'marshal': 3412, 'solo': 3413, 'prejudic': 3414, 'collaps': 3415, 'cake': 3416, 'undoubtedli': 3417, '1996': 3418, 'harvey': 3419, 'hbo': 3420, 'inan': 3421, 'inappropri': 3422, 'gear': 3423, 'milk': 3424, 'coffe': 3425, 'promin': 3426, 'chest': 3427, 'apolog': 3428, 'leon': 3429, 'sore': 3430, 'coat': 3431, 'assembl': 3432, 'olivi': 3433, 'ginger': 3434, 'tribe': 3435, 'equip': 3436, 'pant': 3437, 'interrupt': 3438, 'retain': 3439, 'consum': 3440, 'highest': 3441, 'instant': 3442, 'embrac': 3443, 'trace': 3444, 'florida': 3445, 'solut': 3446, 'pot': 3447, 'colonel': 3448, 'institut': 3449, 'polanski': 3450, 'maggi': 3451, 'furthermor': 3452, 'devast': 3453, 'exot': 3454, 'vulgar': 3455, 'jenni': 3456, 'primari': 3457, 'humbl': 3458, 'aveng': 3459, 'brooklyn': 3460, 'colleagu': 3461, 'airplan': 3462, 'pen': 3463, 'cope': 3464, 'strain': 3465, 'bowl': 3466, 'ya': 3467, 'gender': 3468, 'godzilla': 3469, 'seduct': 3470, 'outer': 3471, 'linda': 3472, 'dian': 3473, 'principl': 3474, 'sale': 3475, 'illog': 3476, '3rd': 3477, '1999': 3478, 'disabl': 3479, 'poke': 3480, 'dutch': 3481, 'rick': 3482, 'wive': 3483, 'descend': 3484, 'smaller': 3485, 'vast': 3486, 'lol': 3487, 'bubbl': 3488, 'scope': 3489, 'mixtur': 3490, 'gloriou': 3491, 'dive': 3492, 'predecessor': 3493, 'dud': 3494, 'beneath': 3495, 'inferior': 3496, 'secondli': 3497, 'primarili': 3498, 'devoid': 3499, 'rabbit': 3500, 'hal': 3501, 'blatant': 3502, 'yard': 3503, 'glamor': 3504, 'cue': 3505, 'gundam': 3506, 'breed': 3507, 'shelf': 3508, 'alert': 3509, 'arab': 3510, 'invas': 3511, 'april': 3512, 'z': 3513, 'trademark': 3514, 'hideou': 3515, 'shirley': 3516, 'casual': 3517, 'aggress': 3518, 'museum': 3519, 'pearl': 3520, 'grinch': 3521, 'simplist': 3522, 'countrysid': 3523, 'et': 3524, 'myer': 3525, 'alfr': 3526, 'senseless': 3527, 'disjoint': 3528, 'streep': 3529, 'domino': 3530, 'garbo': 3531, 'talki': 3532, 'loyal': 3533, 'hardcor': 3534, 'vanish': 3535, 'disgrac': 3536, 'stack': 3537, 'robinson': 3538, 'mail': 3539, 'defens': 3540, 'unhappi': 3541, 'robberi': 3542, 'stellar': 3543, 'uwe': 3544, 'rendit': 3545, 'boom': 3546, 'stir': 3547, 'acid': 3548, 'sh': 3549, 'maci': 3550, 'hopeless': 3551, 'applaud': 3552, 'obtain': 3553, 'oz': 3554, 'khan': 3555, 'illeg': 3556, 'slide': 3557, 'experiment': 3558, 'mayor': 3559, 'grandfath': 3560, 'counter': 3561, 'dismiss': 3562, 'psychic': 3563, 'declin': 3564, 'soccer': 3565, 'diana': 3566, 'blew': 3567, 'recruit': 3568, 'wont': 3569, 'scroog': 3570, 'span': 3571, 'spider': 3572, 'tenant': 3573, 'fri': 3574, 'emphasi': 3575, 'rifl': 3576, 'amanda': 3577, 'tempt': 3578, 'incomprehens': 3579, 'craze': 3580, 'topless': 3581, 'dicken': 3582, 'berlin': 3583, 'hartley': 3584, 'sympath': 3585, 'wet': 3586, 'sibl': 3587, 'woo': 3588, 'goer': 3589, 'bitch': 3590, 'resurrect': 3591, 'shed': 3592, 'porno': 3593, 'justin': 3594, 'lumet': 3595, 'niro': 3596, 'ration': 3597, 'ethnic': 3598, 'riot': 3599, 'parad': 3600, 'faster': 3601, 'revolt': 3602, 'intim': 3603, 'shaw': 3604, 'trashi': 3605, 'feminist': 3606, 'commend': 3607, 'jonathan': 3608, 'hesit': 3609, 'steam': 3610, 'gap': 3611, '00': 3612, 'mario': 3613, 'immort': 3614, 'dealer': 3615, 'biographi': 3616, 'ballet': 3617, 'region': 3618, 'andr': 3619, 'choru': 3620, 'wheel': 3621, 'slick': 3622, 'farmer': 3623, 'weakest': 3624, 'partial': 3625, 'rider': 3626, 'unreal': 3627, 'worm': 3628, 'eager': 3629, 'lena': 3630, 'honesti': 3631, 'hopper': 3632, 'patriot': 3633, 'enlighten': 3634, 'nephew': 3635, 'wendi': 3636, 'ensur': 3637, 'macarthur': 3638, 'snap': 3639, 'sappi': 3640, 'vice': 3641, 'similarli': 3642, 'kingdom': 3643, 'prequel': 3644, 'wore': 3645, 'repress': 3646, 'victori': 3647, 'morri': 3648, 'util': 3649, 'composit': 3650, 'leo': 3651, 'psychopath': 3652, 'sandra': 3653, 'nostalg': 3654, 'owen': 3655, 'hung': 3656, 'safeti': 3657, 'confin': 3658, 'charlott': 3659, 'skull': 3660, 'blunt': 3661, 'franco': 3662, 'properti': 3663, 'mutant': 3664, 'bumbl': 3665, 'heartbreak': 3666, 'speci': 3667, 'rambl': 3668, 'compass': 3669, 'compens': 3670, 'miseri': 3671, 'emperor': 3672, 'montana': 3673, 'bergman': 3674, 'snl': 3675, 'recycl': 3676, 'acquir': 3677, 'hyde': 3678, 'drain': 3679, 'pattern': 3680, 'deed': 3681, 'valuabl': 3682, 'nervou': 3683, '1972': 3684, 'despair': 3685, 'exit': 3686, 'bow': 3687, 'drum': 3688, 'bonu': 3689, 'tail': 3690, 'rocki': 3691, 'tad': 3692, 'strand': 3693, 'latin': 3694, 'dust': 3695, 'del': 3696, 'repli': 3697, 'rope': 3698, 'cg': 3699, 'campbel': 3700, 'whoopi': 3701, 'kyle': 3702, 'thru': 3703, 'farrel': 3704, 'dalton': 3705, 'bleed': 3706, '35': 3707, 'rapist': 3708, 'airport': 3709, 'rotten': 3710, 'wacki': 3711, 'da': 3712, 'gimmick': 3713, 'romp': 3714, 'gal': 3715, 'radic': 3716, 'roth': 3717, 'percept': 3718, 'downhil': 3719, 'mistress': 3720, 'contempl': 3721, 'martian': 3722, 'orson': 3723, 'slug': 3724, 'pour': 3725, 'tonight': 3726, 'olli': 3727, 'chess': 3728, 'carradin': 3729, 'oppress': 3730, 'stilt': 3731, '1983': 3732, 'mislead': 3733, 'paltrow': 3734, 'pervert': 3735, 'attorney': 3736, 'belt': 3737, 'arguabl': 3738, 'programm': 3739, 'slash': 3740, 'tackl': 3741, 'shelley': 3742, 'champion': 3743, 'taught': 3744, 'arc': 3745, 'dazzl': 3746, 'pervers': 3747, 'melodi': 3748, 'unpredict': 3749, 'edgar': 3750, 'pursuit': 3751, 'heal': 3752, 'preach': 3753, 'tooth': 3754, 'banal': 3755, 'plight': 3756, 'closest': 3757, 'employe': 3758, 'franki': 3759, 'duval': 3760, 'tiresom': 3761, 'marti': 3762, 'conneri': 3763, 'graham': 3764, 'chicken': 3765, 'mesmer': 3766, 'cleverli': 3767, 'poem': 3768, 'uplift': 3769, 'passeng': 3770, 'maid': 3771, 'dixon': 3772, 'virginia': 3773, 'vocal': 3774, 'rubi': 3775, 'gambl': 3776, 'raymond': 3777, 'orang': 3778, 'bela': 3779, 'vengeanc': 3780, 'sensat': 3781, 'quarter': 3782, 'outing': 3783, 'secretli': 3784, 'yawn': 3785, 'numb': 3786, 'inject': 3787, 'amitabh': 3788, 'extens': 3789, 'calm': 3790, 'whine': 3791, 'iran': 3792, '1968': 3793, 'sirk': 3794, 'scottish': 3795, 'abraham': 3796, 'paranoia': 3797, 'habit': 3798, 'giggl': 3799, 'climact': 3800, 'profan': 3801, 'pokemon': 3802, 'monologu': 3803, 'convincingli': 3804, 'gerard': 3805, 'volum': 3806, 'swallow': 3807, 'clone': 3808, 'lundgren': 3809, 'crystal': 3810, 'suffic': 3811, 'bay': 3812, 'engross': 3813, 'tube': 3814, 'mute': 3815, 'fed': 3816, 'linger': 3817, 'im': 3818, 'lowest': 3819, 'austen': 3820, 'bend': 3821, 'septemb': 3822, 'nichola': 3823, 'chicago': 3824, 'frankenstein': 3825, 'ethan': 3826, 'meander': 3827, 'plod': 3828, 'underst': 3829, 'abort': 3830, 'dispos': 3831, 'trend': 3832, 'taxi': 3833, 'earl': 3834, 'grotesqu': 3835, 'junior': 3836, 'backward': 3837, 'surpass': 3838, 'richardson': 3839, 'expand': 3840, 'poetri': 3841, 'profess': 3842, 'franci': 3843, 'spock': 3844, 'hum': 3845, 'literatur': 3846, 'household': 3847, 'catchi': 3848, 'econom': 3849, 'waitress': 3850, 'eugen': 3851, 'dysfunct': 3852, 'myth': 3853, 'greedi': 3854, 'sue': 3855, 'simplic': 3856, 'rubber': 3857, 'tourist': 3858, 'mundan': 3859, 'compliment': 3860, 'cannon': 3861, 'rant': 3862, 'descent': 3863, 'stallon': 3864, 'muddl': 3865, 'nostalgia': 3866, 'lure': 3867, 'spoke': 3868, 'der': 3869, 'instrument': 3870, 'mankind': 3871, 'dictat': 3872, 'occupi': 3873, 'phantom': 3874, 'omen': 3875, 'equival': 3876, 'crucial': 3877, 'louis': 3878, 'map': 3879, 'insur': 3880, 'lang': 3881, 'damon': 3882, 'phoni': 3883, 'eaten': 3884, 'recognit': 3885, 'recognis': 3886, 'carel': 3887, 'hello': 3888, 'alongsid': 3889, 'dement': 3890, 'stale': 3891, 'flee': 3892, 'mortal': 3893, 'june': 3894, 'irrelev': 3895, 'firstli': 3896, 'coast': 3897, 'duck': 3898, 'furi': 3899, 'molli': 3900, 'deaf': 3901, 'cent': 3902, 'sissi': 3903, 'bacal': 3904, 'randi': 3905, 'buffalo': 3906, 'likewis': 3907, 'reign': 3908, 'loyalti': 3909, 'rude': 3910, 'wisdom': 3911, 'twilight': 3912, 'heel': 3913, 'damm': 3914, 'blackmail': 3915, 'bump': 3916, 'rooney': 3917, 'lengthi': 3918, 'antwon': 3919, 'dreari': 3920, 'freez': 3921, 'daisi': 3922, 'newli': 3923, 'biko': 3924, 'onlin': 3925, 'drake': 3926, '1973': 3927, 'distinguish': 3928, 'grayson': 3929, 'ashley': 3930, 'cyborg': 3931, 'labor': 3932, 'bike': 3933, 'analysi': 3934, 'incorpor': 3935, 'vein': 3936, 'chronicl': 3937, 'barrymor': 3938, 'emphas': 3939, 'provoc': 3940, 'prey': 3941, 'sailor': 3942, 'baddi': 3943, 'exposur': 3944, 'ridden': 3945, 'interior': 3946, 'unorigin': 3947, 'proce': 3948, 'boxer': 3949, 'keith': 3950, 'tunnel': 3951, 'inher': 3952, 'pink': 3953, 'butler': 3954, 'startl': 3955, 'basketbal': 3956, 'approv': 3957, 'attribut': 3958, 'nineti': 3959, 'worn': 3960, 'barrel': 3961, 'indiffer': 3962, 'improvis': 3963, 'stalker': 3964, 'condemn': 3965, 'undeni': 3966, 'simmon': 3967, 'mighti': 3968, 'degrad': 3969, 'robbin': 3970, 'fleet': 3971, 'unrel': 3972, 'drift': 3973, 'meyer': 3974, 'elm': 3975, 'underli': 3976, 'othello': 3977, 'predat': 3978, 'carla': 3979, 'substitut': 3980, 'bunni': 3981, 'hypnot': 3982, 'mormon': 3983, 'julian': 3984, 'meg': 3985, 'belushi': 3986, 'er': 3987, 'walsh': 3988, 'millionair': 3989, 'nicol': 3990, 'unawar': 3991, 'alarm': 3992, 'palac': 3993, 'vital': 3994, 'priceless': 3995, 'enthusiasm': 3996, 'shove': 3997, 'reid': 3998, 'hay': 3999, 'novak': 4000, 'alison': 4001, 'disord': 4002, 'firm': 4003, 'greed': 4004, '3d': 4005, 'roof': 4006, 'nyc': 4007, 'watson': 4008, 'agenda': 4009, 'warmth': 4010, 'mtv': 4011, 'lampoon': 4012, 'errol': 4013, 'exquisit': 4014, 'marion': 4015, 'rukh': 4016, 'edgi': 4017, 'dolph': 4018, 'profit': 4019, 'peck': 4020, 'preserv': 4021, 'what': 4022, 'eastern': 4023, 'glanc': 4024, 'israel': 4025, 'ponder': 4026, '1933': 4027, 'spain': 4028, 'championship': 4029, 'randomli': 4030, 'gestur': 4031, 'pamela': 4032, 'nun': 4033, 'minimum': 4034, 'peril': 4035, 'beatl': 4036, 'thompson': 4037, 'drip': 4038, 'session': 4039, 'simultan': 4040, 'crown': 4041, 'testament': 4042, '13th': 4043, 'zizek': 4044, 'distort': 4045, 'valentin': 4046, 'orlean': 4047, 'unleash': 4048, 'campaign': 4049, 'coup': 4050, 'showdown': 4051, 'iraq': 4052, 'petti': 4053, 'sergeant': 4054, 'angela': 4055, 'cassidi': 4056, 'realm': 4057, 'calib': 4058, 'kurosawa': 4059, 'bro': 4060, 'restrain': 4061, 'fido': 4062, 'gentleman': 4063, 'perpetu': 4064, 'mon': 4065, 'unimagin': 4066, '1984': 4067, 'contradict': 4068, 'cooki': 4069, 'climat': 4070, 'cream': 4071, 'din': 4072, 'valley': 4073, 'represent': 4074, 'scotland': 4075, 'reson': 4076, 'crawl': 4077, 'exposit': 4078, 'stroke': 4079, 'crow': 4080, 'regist': 4081, 'stake': 4082, 'shootout': 4083, 'empathi': 4084, 'jan': 4085, 'travesti': 4086, 'quinn': 4087, 'buster': 4088, 'rout': 4089, 'han': 4090, 'wig': 4091, 'brenda': 4092, 'miyazaki': 4093, 'sabrina': 4094, 'shaki': 4095, 'distress': 4096, 'femm': 4097, 'sammi': 4098, 'businessman': 4099, 'fuller': 4100, 'absent': 4101, 'sucker': 4102, 'derang': 4103, 'wax': 4104, '1987': 4105, 'pretens': 4106, 'darren': 4107, 'painter': 4108, 'mclaglen': 4109, 'monoton': 4110, 'delic': 4111, 'josh': 4112, 'abomin': 4113, 'shoddi': 4114, 'spacey': 4115, 'ross': 4116, 'demis': 4117, 'unsatisfi': 4118, 'geek': 4119, 'traumat': 4120, 'warrant': 4121, 'pole': 4122, 'baldwin': 4123, 'cloud': 4124, 'dana': 4125, 'compromis': 4126, 'passabl': 4127, 'stargat': 4128, 'censor': 4129, 'tacki': 4130, 'greg': 4131, '1997': 4132, 'ustinov': 4133, 'soderbergh': 4134, 'perceiv': 4135, 'unseen': 4136, 'meryl': 4137, 'crawford': 4138, 'jewel': 4139, 'antonioni': 4140, 'verbal': 4141, 'fenc': 4142, 'tech': 4143, 'reluct': 4144, 'exclus': 4145, 'click': 4146, 'fog': 4147, 'sid': 4148, '1993': 4149, 'kumar': 4150, 'polici': 4151, 'clash': 4152, 'nathan': 4153, 'correctli': 4154, 'judgment': 4155, 'accuraci': 4156, 'wholli': 4157, 'austin': 4158, 'deceas': 4159, 'seal': 4160, 'tarantino': 4161, 'norm': 4162, 'primit': 4163, 'expedit': 4164, 'dee': 4165, 'unravel': 4166, 'uncov': 4167, 'anchor': 4168, 'furiou': 4169, 'valid': 4170, 'deniro': 4171, 'conduct': 4172, 'fought': 4173, 'trait': 4174, 'unfair': 4175, 'sustain': 4176, '1971': 4177, 'patienc': 4178, '3000': 4179, 'sunni': 4180, 'bake': 4181, 'behold': 4182, 'temper': 4183, 'roller': 4184, 'enforc': 4185, 'slam': 4186, 'darn': 4187, 'sheet': 4188, 'tax': 4189, 'seldom': 4190, 'murray': 4191, 'wretch': 4192, 'dreck': 4193, 'malon': 4194, 'wang': 4195, 'sand': 4196, 'nicola': 4197, 'alec': 4198, 'fabric': 4199, 'logan': 4200, 'ritual': 4201, 'fart': 4202, 'clerk': 4203, 'shanghai': 4204, '2008': 4205, 'crippl': 4206, 'debt': 4207, 'pocket': 4208, 'joel': 4209, 'hallucin': 4210, '1995': 4211, 'mode': 4212, 'vanc': 4213, 'rita': 4214, 'pete': 4215, 'conscious': 4216, 'outlin': 4217, 'technicolor': 4218, 'bias': 4219, 'scriptwrit': 4220, 'guitar': 4221, 'phil': 4222, 'sweep': 4223, 'critiqu': 4224, 'preposter': 4225, 'stuart': 4226, 'squad': 4227, 'grief': 4228, 'schedul': 4229, 'despis': 4230, 'penni': 4231, 'tactic': 4232, 'robber': 4233, 'isabel': 4234, 'exhaust': 4235, 'legaci': 4236, 'clau': 4237, 'fundament': 4238, 'divid': 4239, 'helpless': 4240, 'stark': 4241, 'soup': 4242, 'canyon': 4243, 'runner': 4244, 'shell': 4245, 'preston': 4246, 'bridget': 4247, 'gregori': 4248, 'vomit': 4249, 'downey': 4250, 'restrict': 4251, 'bloom': 4252, 'agenc': 4253, 'jacket': 4254, 'inabl': 4255, 'flair': 4256, 'invad': 4257, 'newman': 4258, 'russia': 4259, 'drove': 4260, 'rehash': 4261, 'lacklust': 4262, 'implic': 4263, 'consciou': 4264, 'cigarett': 4265, 'marc': 4266, 'sugar': 4267, 'liberti': 4268, 'propos': 4269, 'delv': 4270, 'boyl': 4271, 'sentinel': 4272, 'palanc': 4273, 'kansa': 4274, 'alicia': 4275, 'jodi': 4276, 'passag': 4277, 'unexpectedli': 4278, 'culmin': 4279, 'connor': 4280, 'rear': 4281, 'sniper': 4282, 'alley': 4283, 'cap': 4284, 'wrench': 4285, 'tendenc': 4286, 'awhil': 4287, 'feat': 4288, 'yeti': 4289, 'improb': 4290, 'rampag': 4291, 'kolchak': 4292, 'karl': 4293, 'chainsaw': 4294, 'delet': 4295, '1936': 4296, 'asylum': 4297, 'rod': 4298, 'behaviour': 4299, 'aesthet': 4300, 'foxx': 4301, 'horn': 4302, '22': 4303, 'lush': 4304, 'mccoy': 4305, 'pale': 4306, 'ladder': 4307, 'tripe': 4308, 'vet': 4309, 'bacon': 4310, 'rehears': 4311, 'sharon': 4312, 'arrow': 4313, 'suffici': 4314, 'loneli': 4315, 'elit': 4316, 'financ': 4317, '1920': 4318, 'rhythm': 4319, 'coaster': 4320, 'prank': 4321, 'minu': 4322, '1988': 4323, 'globe': 4324, 'tasteless': 4325, 'filler': 4326, 'hulk': 4327, 'lurk': 4328, 'hackney': 4329, 'spice': 4330, 'rumor': 4331, 'stream': 4332, 'wildli': 4333, 'paradis': 4334, 'hungri': 4335, 'tomorrow': 4336, '1978': 4337, '19th': 4338, 'suspicion': 4339, 'paramount': 4340, 'conscienc': 4341, 'underneath': 4342, 'visitor': 4343, 'wagner': 4344, 'weav': 4345, 'shortcom': 4346, 'newcom': 4347, 'el': 4348, 'fright': 4349, 'scoop': 4350, 'amazon': 4351, 'sung': 4352, 'aristocrat': 4353, 'thunderbird': 4354, 'basing': 4355, 'straightforward': 4356, 'impos': 4357, 'couch': 4358, 'literari': 4359, 'immers': 4360, 'smell': 4361, 'minist': 4362, 'naughti': 4363, '1989': 4364, '1939': 4365, 'curli': 4366, 'bread': 4367, 'chamberlain': 4368, 'iv': 4369, 'hopkin': 4370, 'en': 4371, 'cancer': 4372, 'teas': 4373, 'counterpart': 4374, 'brit': 4375, 'penn': 4376, 'beverli': 4377, 'ingeni': 4378, 'wwe': 4379, 'entranc': 4380, 'springer': 4381, 'atroc': 4382, 'ram': 4383, 'tierney': 4384, '75': 4385, 'posey': 4386, 'paxton': 4387, 'rub': 4388, 'dirt': 4389, 'secondari': 4390, 'lectur': 4391, 'worship': 4392, 'grudg': 4393, 'standout': 4394, 'quietli': 4395, 'recogniz': 4396, 'abrupt': 4397, 'leigh': 4398, 'heist': 4399, 'inmat': 4400, 'choppi': 4401, 'chavez': 4402, 'nolan': 4403, 'convert': 4404, 'heartfelt': 4405, 'transcend': 4406, 'moreov': 4407, 'geni': 4408, 'clan': 4409, 'morbid': 4410, 'esther': 4411, 'ace': 4412, 'policeman': 4413, 'watcher': 4414, 'yearn': 4415, 'laurenc': 4416, 'cattl': 4417, 'net': 4418, 'quaid': 4419, 'missil': 4420, 'injuri': 4421, 'entitl': 4422, 'attenborough': 4423, 'bernard': 4424, 'nemesi': 4425, 'lindsay': 4426, 'skeptic': 4427, 'duel': 4428, 'enthral': 4429, 'sublim': 4430, 'sassi': 4431, 'variat': 4432, '1986': 4433, 'misguid': 4434, 'ratso': 4435, 'steadi': 4436, 'out': 4437, 'obstacl': 4438, 'vader': 4439, 'buzz': 4440, 'youngest': 4441, 'uncut': 4442, 'tyler': 4443, 'mytholog': 4444, 'bean': 4445, 'bye': 4446, 'facil': 4447, 'rosemari': 4448, 'diari': 4449, 'moder': 4450, 'dont': 4451, 'enabl': 4452, 'unexplain': 4453, 'brood': 4454, 'reliabl': 4455, 'grin': 4456, 'kitti': 4457, 'setup': 4458, 'poe': 4459, 'hk': 4460, '1979': 4461, 'carlito': 4462, 'puppi': 4463, 'kidman': 4464, 'egg': 4465, 'cruelti': 4466, 'hopelessli': 4467, 'spiral': 4468, 'characteris': 4469, 'graini': 4470, 'artsi': 4471, 'clueless': 4472, 'baffl': 4473, 'weather': 4474, 'spontan': 4475, 'martha': 4476, 'heap': 4477, 'hammi': 4478, 'bounc': 4479, 'gillian': 4480, 'gina': 4481, 'exterior': 4482, 'fuel': 4483, 'niec': 4484, 'sweat': 4485, 'narrow': 4486, 'underworld': 4487, 'despic': 4488, '1969': 4489, 'bewar': 4490, 'christin': 4491, 'brendan': 4492, 'preming': 4493, 'effici': 4494, 'disastr': 4495, 'oblig': 4496, 'kline': 4497, 'hain': 4498, 'bronson': 4499, 'athlet': 4500, 'decept': 4501, 'acquaint': 4502, 'patricia': 4503, 'harmless': 4504, 'angst': 4505, 'candl': 4506, 'insipid': 4507, 'hepburn': 4508, 'biker': 4509, 'preachi': 4510, 'uh': 4511, 'astound': 4512, 'tick': 4513, 'outlaw': 4514, 'sooner': 4515, 'enlist': 4516, 'taboo': 4517, 'mayhem': 4518, 'suprem': 4519, 'analyz': 4520, 'trigger': 4521, 'housewif': 4522, 'headach': 4523, 'goof': 4524, 'dilemma': 4525, 'injur': 4526, 'lester': 4527, 'circu': 4528, 'shatter': 4529, 'renaiss': 4530, 'loi': 4531, 'rome': 4532, 'viewpoint': 4533, 'fontain': 4534, '73': 4535, 'virtu': 4536, 'dandi': 4537, 'scar': 4538, 'loath': 4539, 'mermaid': 4540, 'sleepwalk': 4541, '19': 4542, 'dish': 4543, 'idol': 4544, 'bent': 4545, 'amor': 4546, 'glorifi': 4547, 'hokey': 4548, 'whore': 4549, 'spade': 4550, 'sox': 4551, 'claustrophob': 4552, 'hooker': 4553, 'dismal': 4554, 'surgeri': 4555, 'steer': 4556, 'redund': 4557, 'camcord': 4558, 'gere': 4559, 'tripl': 4560, 'salt': 4561, 'overlong': 4562, 'contempt': 4563, 'ebert': 4564, 'intric': 4565, 'stimul': 4566, 'boston': 4567, 'foolish': 4568, 'fluff': 4569, 'phenomenon': 4570, 'filth': 4571, 'zoom': 4572, 'ariel': 4573, 'hostag': 4574, 'guin': 4575, 'stair': 4576, 'macho': 4577, 'corbett': 4578, 'scorses': 4579, 'immatur': 4580, 'cassavet': 4581, 'oldest': 4582, 'slimi': 4583, 'flirt': 4584, 'nolt': 4585, 'mount': 4586, 'astronaut': 4587, 'shred': 4588, 'cow': 4589, 'gasp': 4590, 'rhyme': 4591, 'flag': 4592, '1976': 4593, 'mutual': 4594, 'spree': 4595, 'messi': 4596, 'assert': 4597, 'joker': 4598, 'gabl': 4599, 'proport': 4600, 'radiat': 4601, 'dwarf': 4602, 'schlock': 4603, 'keen': 4604, 'zane': 4605, 'strongest': 4606, 'obligatori': 4607, 'beard': 4608, 'remad': 4609, 'down': 4610, 'preced': 4611, 'flashi': 4612, 'fascist': 4613, 'perman': 4614, 'corman': 4615, 'harold': 4616, 'conquer': 4617, 'frantic': 4618, 'cohen': 4619, '1981': 4620, 'naschi': 4621, 'antagonist': 4622, 'spinal': 4623, 'widescreen': 4624, 'faint': 4625, 'margin': 4626, 'shield': 4627, 'transplant': 4628, 'trivia': 4629, 'cush': 4630, 'muscl': 4631, 'alvin': 4632, 'danish': 4633, 'raj': 4634, 'vaniti': 4635, 'bachelor': 4636, 'www': 4637, 'someday': 4638, 'triangl': 4639, '1945': 4640, 'off': 4641, 'info': 4642, 'hara': 4643, 'neurot': 4644, 'fishburn': 4645, 'sensual': 4646, 'flock': 4647, 'repris': 4648, 'archiv': 4649, 'instruct': 4650, 'persuad': 4651, 'brush': 4652, 'boob': 4653, 'wield': 4654, 'mobil': 4655, 'discern': 4656, 'barn': 4657, 'deer': 4658, 'resum': 4659, '95': 4660, '28': 4661, 'claud': 4662, 'aborigin': 4663, 'inflict': 4664, 'strive': 4665, 'carey': 4666, 'ritchi': 4667, 'bitten': 4668, 'departur': 4669, 'divin': 4670, 'interestingli': 4671, 'scandal': 4672, 'mol': 4673, 'fragil': 4674, 'senior': 4675, 'cliffhang': 4676, 'dylan': 4677, 'banter': 4678, 'heartwarm': 4679, 'harrison': 4680, 'submit': 4681, 'carlo': 4682, 'cb': 4683, 'hug': 4684, 'helm': 4685, 'hapless': 4686, 'timberlak': 4687, 'recit': 4688, 'europa': 4689, 'proclaim': 4690, 'rot': 4691, 'colin': 4692, 'miracul': 4693, 'cycl': 4694, 'wendigo': 4695, 'loretta': 4696, 'cher': 4697, 'hilar': 4698, 'bate': 4699, 'clad': 4700, 'prophet': 4701, 'pacif': 4702, 'axe': 4703, 'dim': 4704, 'luka': 4705, 'mobster': 4706, 'ish': 4707, 'parson': 4708, 'undermin': 4709, 'earnest': 4710, 'biblic': 4711, 'kathryn': 4712, 'melissa': 4713, 'anton': 4714, 'jade': 4715, 'dame': 4716, 'neill': 4717, 'traffic': 4718, 'pixar': 4719, 'artwork': 4720, 'vibrant': 4721, 'frontier': 4722, 'pickford': 4723, 'casino': 4724, 'flavor': 4725, 'blatantli': 4726, 'pc': 4727, 'aris': 4728, 'http': 4729, 'jordan': 4730, 'jo': 4731, 'rooki': 4732, 'razor': 4733, 'toronto': 4734, 'orphan': 4735, 'lui': 4736, 'seedi': 4737, 'wardrob': 4738, 'akin': 4739, 'holocaust': 4740, 'sicken': 4741, 'legitim': 4742, 'misfortun': 4743, 'articl': 4744, 'marlon': 4745, 'trier': 4746, 'northern': 4747, 'nope': 4748, 'token': 4749, 'vile': 4750, 'isra': 4751, 'bondag': 4752, 'breakfast': 4753, 'choke': 4754, 'electron': 4755, 'shepherd': 4756, 'antholog': 4757, 'mathieu': 4758, 'foil': 4759, 'lucil': 4760, 'feast': 4761, 'redneck': 4762, 'eli': 4763, 'bikini': 4764, 'venom': 4765, 'estrang': 4766, 'mason': 4767, 'alexandr': 4768, 'cerebr': 4769, 'vanessa': 4770, 'static': 4771, 'illus': 4772, 'uma': 4773, 'winchest': 4774, 'milo': 4775, 'oppon': 4776, 'ideolog': 4777, 'knightley': 4778, 'cartoonish': 4779, 'fifth': 4780, 'leather': 4781, 'gunga': 4782, 'boyer': 4783, 'clinic': 4784, 'gilbert': 4785, 'affleck': 4786, 'smack': 4787, 'styliz': 4788, 'turd': 4789, 'ceremoni': 4790, 'comprehend': 4791, 'tack': 4792, 'highway': 4793, 'magician': 4794, 'deem': 4795, 'audrey': 4796, 'peer': 4797, 'swept': 4798, 'nightclub': 4799, 'disregard': 4800, 'psych': 4801, 'abund': 4802, 'retriev': 4803, 'charlton': 4804, 'wrestler': 4805, 'shorter': 4806, 'dudley': 4807, 'huston': 4808, 'howl': 4809, 'feminin': 4810, 'outdat': 4811, 'glare': 4812, 'linear': 4813, 'frog': 4814, 'potter': 4815, 'btw': 4816, 'lighter': 4817, 'whack': 4818, 'energet': 4819, 'bastard': 4820, 'boo': 4821, 'tara': 4822, 'client': 4823, 'uniformli': 4824, 'deliver': 4825, '1994': 4826, 'breakdown': 4827, 'sleaz': 4828, 'conrad': 4829, 'greet': 4830, 'chip': 4831, 'spine': 4832, 'corn': 4833, '1991': 4834, 'braveheart': 4835, 'spawn': 4836, 'monument': 4837, 'cemeteri': 4838, 'phenomen': 4839, 'bogu': 4840, 'compris': 4841, 'summar': 4842, 'senat': 4843, 'durat': 4844, 'lavish': 4845, 'salman': 4846, 'moe': 4847, 'snatch': 4848, 'cuban': 4849, 'evolut': 4850, '4th': 4851, 'lifeless': 4852, 'collector': 4853, 'einstein': 4854, 'newer': 4855, 'goldsworthi': 4856, 'plate': 4857, 'toe': 4858, 'mitch': 4859, 'gilliam': 4860, 'liu': 4861, 'alleg': 4862, 'outright': 4863, 'luxuri': 4864, 'jedi': 4865, 'signal': 4866, 'jam': 4867, 'belli': 4868, '1974': 4869, 'trauma': 4870, 'occup': 4871, 'historian': 4872, 'firmli': 4873, 'armstrong': 4874, 'nina': 4875, 'undertak': 4876, 'spectacl': 4877, 'eleven': 4878, 'ie': 4879, 'bori': 4880, 'fluid': 4881, 'ol': 4882, 'sorrow': 4883, 'evelyn': 4884, 'judd': 4885, 'wtf': 4886, 'appl': 4887, 'inaccuraci': 4888, 'jare': 4889, 'bulk': 4890, '1977': 4891, 'lex': 4892, 'constitut': 4893, 'jule': 4894, 'undead': 4895, 'cecil': 4896, 'neatli': 4897, 'creek': 4898, 'healthi': 4899, 'randolph': 4900, 'kent': 4901, 'replay': 4902, 'capot': 4903, 'mcqueen': 4904, 'embark': 4905, 'clara': 4906, 'pronounc': 4907, 'kazan': 4908, 'blur': 4909, 'abound': 4910, 'galaxi': 4911, 'unsuspect': 4912, 'kiddi': 4913, 'comprehens': 4914, 'roar': 4915, 'forgiven': 4916, 'sacrif': 4917, 'relentless': 4918, 'carmen': 4919, 'palm': 4920, 'truman': 4921, 'comb': 4922, 'inclus': 4923, '1985': 4924, 'pepper': 4925, 'tokyo': 4926, 'groan': 4927, 'vignett': 4928, 'fruit': 4929, 'pioneer': 4930, 'miami': 4931, 'decapit': 4932, 'walt': 4933, 'rosario': 4934, 'antonio': 4935, 'spray': 4936, 'aussi': 4937, 'paula': 4938, 'mum': 4939, 'congratul': 4940, 'inaccur': 4941, 'unattract': 4942, 'porter': 4943, 'ash': 4944, 'subtli': 4945, 'vain': 4946, 'poker': 4947, 'basket': 4948, 'bsg': 4949, 'meal': 4950, 'curtain': 4951, 'genet': 4952, 'conan': 4953, 'lanc': 4954, 'id': 4955, 'cape': 4956, 'bait': 4957, 'knee': 4958, 'lauren': 4959, 'goldblum': 4960, 'miniseri': 4961, 'propheci': 4962, 'sidewalk': 4963, 'detach': 4964, 'verg': 4965, 'incorrect': 4966, 'cypher': 4967, 'omin': 4968, '21st': 4969, 'ingrid': 4970, 'epitom': 4971, 'motorcycl': 4972, 'optimist': 4973, 'profil': 4974, 'mice': 4975, 'orchestr': 4976, 'ghetto': 4977, 'evan': 4978, 'asset': 4979, 'growth': 4980, 'hostil': 4981, 'scariest': 4982, 'weaker': 4983, 'scarfac': 4984, 'frontal': 4985, 'jill': 4986, 'monti': 4987, 'hackman': 4988, 'macabr': 4989, 'handicap': 4990, 'reincarn': 4991, 'playboy': 4992, 'dubiou': 4993, 'vastli': 4994, 'sophi': 4995, 'victorian': 4996, 'masterson': 4997, 'spill': 4998, 'turtl': 4999}\n"
     ]
    }
   ],
   "source": [
    "print(word_dict)"
   ]
  },
  {
   "cell_type": "markdown",
   "metadata": {},
   "source": [
    "**Question:** What are the five most frequently appearing (tokenized) words in the training set? Does it makes sense that these words appear frequently in the training set?"
   ]
  },
  {
   "cell_type": "markdown",
   "metadata": {},
   "source": [
    "**Answer:**\n",
    "\n",
    "- Most common words - movi, film, one, like and time\n",
    "- It does make sense, that these words appear frequently in the training set, i know i would use them on my review"
   ]
  },
  {
   "cell_type": "code",
   "execution_count": 16,
   "metadata": {},
   "outputs": [
    {
     "name": "stdout",
     "output_type": "stream",
     "text": [
      "[('movi', 51695), ('film', 48190), ('one', 27741), ('like', 22799), ('time', 16191)]\n"
     ]
    }
   ],
   "source": [
    "# TODO: Use this space to determine the five most frequently appearing words in the training set.\n",
    "\n",
    "# First - get the dictionary\n",
    "word_count = get_word_count(train_X)\n",
    "\n",
    "# Second - return a mapped the dictionary\n",
    "sorted_words = [(v[0], v[1]) for v in sorted(word_count.items(), key=lambda kv: kv[1], reverse=True)] \n",
    "\n",
    "print(sorted_words[:5])"
   ]
  },
  {
   "cell_type": "markdown",
   "metadata": {},
   "source": [
    "### Save `word_dict`\n",
    "\n",
    "Later on when we construct an endpoint which processes a submitted review we will need to make use of the `word_dict` which we have created. As such, we will save it to a file now for future use."
   ]
  },
  {
   "cell_type": "code",
   "execution_count": 17,
   "metadata": {},
   "outputs": [],
   "source": [
    "data_dir = '../data/pytorch' # The folder we will use for storing data\n",
    "if not os.path.exists(data_dir): # Make sure that the folder exists\n",
    "    os.makedirs(data_dir)"
   ]
  },
  {
   "cell_type": "code",
   "execution_count": 18,
   "metadata": {},
   "outputs": [],
   "source": [
    "with open(os.path.join(data_dir, 'word_dict.pkl'), \"wb\") as f:\n",
    "    pickle.dump(word_dict, f)"
   ]
  },
  {
   "cell_type": "markdown",
   "metadata": {},
   "source": [
    "### Transform the reviews\n",
    "\n",
    "Now that we have our word dictionary which allows us to transform the words appearing in the reviews into integers, it is time to make use of it and convert our reviews to their integer sequence representation, making sure to pad or truncate to a fixed length, which in our case is `500`."
   ]
  },
  {
   "cell_type": "code",
   "execution_count": 19,
   "metadata": {},
   "outputs": [],
   "source": [
    "def convert_and_pad(word_dict, sentence, pad=500):\n",
    "    NOWORD = 0 # We will use 0 to represent the 'no word' category\n",
    "    INFREQ = 1 # and we use 1 to represent the infrequent words, i.e., words not appearing in word_dict\n",
    "    \n",
    "    working_sentence = [NOWORD] * pad\n",
    "    \n",
    "    for word_index, word in enumerate(sentence[:pad]):\n",
    "        if word in word_dict:\n",
    "            working_sentence[word_index] = word_dict[word]\n",
    "        else:\n",
    "            working_sentence[word_index] = INFREQ\n",
    "            \n",
    "    return working_sentence, min(len(sentence), pad)\n",
    "\n",
    "def convert_and_pad_data(word_dict, data, pad=500):\n",
    "    result = []\n",
    "    lengths = []\n",
    "    \n",
    "    for sentence in data:\n",
    "        converted, leng = convert_and_pad(word_dict, sentence, pad)\n",
    "        result.append(converted)\n",
    "        lengths.append(leng)\n",
    "        \n",
    "    return np.array(result), np.array(lengths)"
   ]
  },
  {
   "cell_type": "code",
   "execution_count": 20,
   "metadata": {},
   "outputs": [],
   "source": [
    "train_X, train_X_len = convert_and_pad_data(word_dict, train_X)\n",
    "test_X, test_X_len = convert_and_pad_data(word_dict, test_X)"
   ]
  },
  {
   "cell_type": "markdown",
   "metadata": {},
   "source": [
    "As a quick check to make sure that things are working as intended, check to see what one of the reviews in the training set looks like after having been processeed. Does this look reasonable? What is the length of a review in the training set?"
   ]
  },
  {
   "cell_type": "code",
   "execution_count": 21,
   "metadata": {},
   "outputs": [
    {
     "data": {
      "text/plain": [
       "array([ 134, 2921,   57,  342,  150,  615, 1253,  552, 1759,    1,    1,\n",
       "         38,  754,  224,    7,   43,   56,  140,    3,  151,   36,  133,\n",
       "          1,   43,   60, 4824,  281,  356,  810,   15,   68,  609,   60,\n",
       "        185,  290,  454,  310,   32, 1728,   13, 3828, 4507,   99,  232,\n",
       "         25,   87, 3706,    6,  427,  836,  313, 1214, 1417,  470,    2,\n",
       "         34,  751,  179,  375,  427,   58,   90, 1347,  742,  990,  559,\n",
       "        138, 1081, 1954, 1166,   38,   21,    0,    0,    0,    0,    0,\n",
       "          0,    0,    0,    0,    0,    0,    0,    0,    0,    0,    0,\n",
       "          0,    0,    0,    0,    0,    0,    0,    0,    0,    0,    0,\n",
       "          0,    0,    0,    0,    0,    0,    0,    0,    0,    0,    0,\n",
       "          0,    0,    0,    0,    0,    0,    0,    0,    0,    0,    0,\n",
       "          0,    0,    0,    0,    0,    0,    0,    0,    0,    0,    0,\n",
       "          0,    0,    0,    0,    0,    0,    0,    0,    0,    0,    0,\n",
       "          0,    0,    0,    0,    0,    0,    0,    0,    0,    0,    0,\n",
       "          0,    0,    0,    0,    0,    0,    0,    0,    0,    0,    0,\n",
       "          0,    0,    0,    0,    0,    0,    0,    0,    0,    0,    0,\n",
       "          0,    0,    0,    0,    0,    0,    0,    0,    0,    0,    0,\n",
       "          0,    0,    0,    0,    0,    0,    0,    0,    0,    0,    0,\n",
       "          0,    0,    0,    0,    0,    0,    0,    0,    0,    0,    0,\n",
       "          0,    0,    0,    0,    0,    0,    0,    0,    0,    0,    0,\n",
       "          0,    0,    0,    0,    0,    0,    0,    0,    0,    0,    0,\n",
       "          0,    0,    0,    0,    0,    0,    0,    0,    0,    0,    0,\n",
       "          0,    0,    0,    0,    0,    0,    0,    0,    0,    0,    0,\n",
       "          0,    0,    0,    0,    0,    0,    0,    0,    0,    0,    0,\n",
       "          0,    0,    0,    0,    0,    0,    0,    0,    0,    0,    0,\n",
       "          0,    0,    0,    0,    0,    0,    0,    0,    0,    0,    0,\n",
       "          0,    0,    0,    0,    0,    0,    0,    0,    0,    0,    0,\n",
       "          0,    0,    0,    0,    0,    0,    0,    0,    0,    0,    0,\n",
       "          0,    0,    0,    0,    0,    0,    0,    0,    0,    0,    0,\n",
       "          0,    0,    0,    0,    0,    0,    0,    0,    0,    0,    0,\n",
       "          0,    0,    0,    0,    0,    0,    0,    0,    0,    0,    0,\n",
       "          0,    0,    0,    0,    0,    0,    0,    0,    0,    0,    0,\n",
       "          0,    0,    0,    0,    0,    0,    0,    0,    0,    0,    0,\n",
       "          0,    0,    0,    0,    0,    0,    0,    0,    0,    0,    0,\n",
       "          0,    0,    0,    0,    0,    0,    0,    0,    0,    0,    0,\n",
       "          0,    0,    0,    0,    0,    0,    0,    0,    0,    0,    0,\n",
       "          0,    0,    0,    0,    0,    0,    0,    0,    0,    0,    0,\n",
       "          0,    0,    0,    0,    0,    0,    0,    0,    0,    0,    0,\n",
       "          0,    0,    0,    0,    0,    0,    0,    0,    0,    0,    0,\n",
       "          0,    0,    0,    0,    0,    0,    0,    0,    0,    0,    0,\n",
       "          0,    0,    0,    0,    0,    0,    0,    0,    0,    0,    0,\n",
       "          0,    0,    0,    0,    0,    0,    0,    0,    0,    0,    0,\n",
       "          0,    0,    0,    0,    0,    0,    0,    0,    0,    0,    0,\n",
       "          0,    0,    0,    0,    0,    0,    0,    0,    0,    0,    0,\n",
       "          0,    0,    0,    0,    0,    0,    0,    0,    0,    0,    0,\n",
       "          0,    0,    0,    0,    0])"
      ]
     },
     "execution_count": 21,
     "metadata": {},
     "output_type": "execute_result"
    }
   ],
   "source": [
    "# Use this cell to examine one of the processed reviews to make sure everything is working as intended.\n",
    "train_X[123]"
   ]
  },
  {
   "cell_type": "markdown",
   "metadata": {},
   "source": [
    "**Question:** In the cells above we use the `preprocess_data` and `convert_and_pad_data` methods to process both the training and testing set. Why or why not might this be a problem?"
   ]
  },
  {
   "cell_type": "markdown",
   "metadata": {},
   "source": [
    "**Answer:**\n",
    "\n",
    "- these method help us fix a review size to a limited vector cells of 500\n",
    "- longer review get truncated and shorter review get padded with zero, which results in all of the review in both training and testing sets getting a fixed data size (fixed output) of specific length."
   ]
  },
  {
   "cell_type": "markdown",
   "metadata": {},
   "source": [
    "## Step 3: Upload the data to S3\n",
    "\n",
    "As in the XGBoost notebook, we will need to upload the training dataset to S3 in order for our training code to access it. For now we will save it locally and we will upload to S3 later on.\n",
    "\n",
    "### Save the processed training dataset locally\n",
    "\n",
    "It is important to note the format of the data that we are saving as we will need to know it when we write the training code. In our case, each row of the dataset has the form `label`, `length`, `review[500]` where `review[500]` is a sequence of `500` integers representing the words in the review."
   ]
  },
  {
   "cell_type": "code",
   "execution_count": 22,
   "metadata": {},
   "outputs": [],
   "source": [
    "import pandas as pd\n",
    "    \n",
    "pd.concat([pd.DataFrame(train_y), pd.DataFrame(train_X_len), pd.DataFrame(train_X)], axis=1) \\\n",
    "        .to_csv(os.path.join(data_dir, 'train.csv'), header=False, index=False)"
   ]
  },
  {
   "cell_type": "markdown",
   "metadata": {},
   "source": [
    "### Uploading the training data\n",
    "\n",
    "\n",
    "Next, we need to upload the training data to the SageMaker default S3 bucket so that we can provide access to it while training our model."
   ]
  },
  {
   "cell_type": "code",
   "execution_count": 25,
   "metadata": {},
   "outputs": [
    {
     "ename": "ValueError",
     "evalue": "Must setup local AWS configuration with a region supported by SageMaker.",
     "output_type": "error",
     "traceback": [
      "\u001b[0;31m---------------------------------------------------------------------------\u001b[0m",
      "\u001b[0;31mValueError\u001b[0m                                Traceback (most recent call last)",
      "\u001b[0;32m<ipython-input-25-44b92e9ccb48>\u001b[0m in \u001b[0;36m<module>\u001b[0;34m\u001b[0m\n\u001b[1;32m      1\u001b[0m \u001b[0;32mimport\u001b[0m \u001b[0msagemaker\u001b[0m\u001b[0;34m\u001b[0m\u001b[0;34m\u001b[0m\u001b[0m\n\u001b[1;32m      2\u001b[0m \u001b[0;34m\u001b[0m\u001b[0m\n\u001b[0;32m----> 3\u001b[0;31m \u001b[0msagemaker_session\u001b[0m \u001b[0;34m=\u001b[0m \u001b[0msagemaker\u001b[0m\u001b[0;34m.\u001b[0m\u001b[0mSession\u001b[0m\u001b[0;34m(\u001b[0m\u001b[0;34m)\u001b[0m\u001b[0;34m\u001b[0m\u001b[0;34m\u001b[0m\u001b[0m\n\u001b[0m\u001b[1;32m      4\u001b[0m \u001b[0;34m\u001b[0m\u001b[0m\n\u001b[1;32m      5\u001b[0m \u001b[0mbucket\u001b[0m \u001b[0;34m=\u001b[0m \u001b[0msagemaker_session\u001b[0m\u001b[0;34m.\u001b[0m\u001b[0mdefault_bucket\u001b[0m\u001b[0;34m(\u001b[0m\u001b[0;34m)\u001b[0m\u001b[0;34m\u001b[0m\u001b[0;34m\u001b[0m\u001b[0m\n",
      "\u001b[0;32m~/anaconda3/lib/python3.7/site-packages/sagemaker/session.py\u001b[0m in \u001b[0;36m__init__\u001b[0;34m(self, boto_session, sagemaker_client, sagemaker_runtime_client, default_bucket)\u001b[0m\n\u001b[1;32m    115\u001b[0m             \u001b[0mboto_session\u001b[0m\u001b[0;34m=\u001b[0m\u001b[0mboto_session\u001b[0m\u001b[0;34m,\u001b[0m\u001b[0;34m\u001b[0m\u001b[0;34m\u001b[0m\u001b[0m\n\u001b[1;32m    116\u001b[0m             \u001b[0msagemaker_client\u001b[0m\u001b[0;34m=\u001b[0m\u001b[0msagemaker_client\u001b[0m\u001b[0;34m,\u001b[0m\u001b[0;34m\u001b[0m\u001b[0;34m\u001b[0m\u001b[0m\n\u001b[0;32m--> 117\u001b[0;31m             \u001b[0msagemaker_runtime_client\u001b[0m\u001b[0;34m=\u001b[0m\u001b[0msagemaker_runtime_client\u001b[0m\u001b[0;34m,\u001b[0m\u001b[0;34m\u001b[0m\u001b[0;34m\u001b[0m\u001b[0m\n\u001b[0m\u001b[1;32m    118\u001b[0m         )\n\u001b[1;32m    119\u001b[0m \u001b[0;34m\u001b[0m\u001b[0m\n",
      "\u001b[0;32m~/anaconda3/lib/python3.7/site-packages/sagemaker/session.py\u001b[0m in \u001b[0;36m_initialize\u001b[0;34m(self, boto_session, sagemaker_client, sagemaker_runtime_client)\u001b[0m\n\u001b[1;32m    129\u001b[0m         \u001b[0;32mif\u001b[0m \u001b[0mself\u001b[0m\u001b[0;34m.\u001b[0m\u001b[0m_region_name\u001b[0m \u001b[0;32mis\u001b[0m \u001b[0;32mNone\u001b[0m\u001b[0;34m:\u001b[0m\u001b[0;34m\u001b[0m\u001b[0;34m\u001b[0m\u001b[0m\n\u001b[1;32m    130\u001b[0m             raise ValueError(\n\u001b[0;32m--> 131\u001b[0;31m                 \u001b[0;34m\"Must setup local AWS configuration with a region supported by SageMaker.\"\u001b[0m\u001b[0;34m\u001b[0m\u001b[0;34m\u001b[0m\u001b[0m\n\u001b[0m\u001b[1;32m    132\u001b[0m             )\n\u001b[1;32m    133\u001b[0m \u001b[0;34m\u001b[0m\u001b[0m\n",
      "\u001b[0;31mValueError\u001b[0m: Must setup local AWS configuration with a region supported by SageMaker."
     ]
    }
   ],
   "source": [
    "import sagemaker\n",
    "\n",
    "sagemaker_session = sagemaker.Session()\n",
    "\n",
    "bucket = sagemaker_session.default_bucket()\n",
    "prefix = 'sagemaker/sentiment_rnn'\n",
    "\n",
    "role = sagemaker.get_execution_role()"
   ]
  },
  {
   "cell_type": "code",
   "execution_count": 25,
   "metadata": {},
   "outputs": [],
   "source": [
    "input_data = sagemaker_session.upload_data(path=data_dir, bucket=bucket, key_prefix=prefix)"
   ]
  },
  {
   "cell_type": "markdown",
   "metadata": {},
   "source": [
    "**NOTE:** The cell above uploads the entire contents of our data directory. This includes the `word_dict.pkl` file. This is fortunate as we will need this later on when we create an endpoint that accepts an arbitrary review. For now, we will just take note of the fact that it resides in the data directory (and so also in the S3 training bucket) and that we will need to make sure it gets saved in the model directory."
   ]
  },
  {
   "cell_type": "markdown",
   "metadata": {},
   "source": [
    "## Step 4: Build and Train the PyTorch Model\n",
    "\n",
    "In the XGBoost notebook we discussed what a model is in the SageMaker framework. In particular, a model comprises three objects\n",
    "\n",
    " - Model Artifacts,\n",
    " - Training Code, and\n",
    " - Inference Code,\n",
    " \n",
    "each of which interact with one another. In the XGBoost example we used training and inference code that was provided by Amazon. Here we will still be using containers provided by Amazon with the added benefit of being able to include our own custom code.\n",
    "\n",
    "We will start by implementing our own neural network in PyTorch along with a training script. For the purposes of this project we have provided the necessary model object in the `model.py` file, inside of the `train` folder. You can see the provided implementation by running the cell below."
   ]
  },
  {
   "cell_type": "code",
   "execution_count": 26,
   "metadata": {},
   "outputs": [
    {
     "name": "stdout",
     "output_type": "stream",
     "text": [
      "\u001b[34mimport\u001b[39;49;00m \u001b[04m\u001b[36mtorch.nn\u001b[39;49;00m \u001b[34mas\u001b[39;49;00m \u001b[04m\u001b[36mnn\u001b[39;49;00m\r\n",
      "\r\n",
      "\u001b[34mclass\u001b[39;49;00m \u001b[04m\u001b[32mLSTMClassifier\u001b[39;49;00m(nn.Module):\r\n",
      "    \u001b[33m\"\"\"\u001b[39;49;00m\r\n",
      "\u001b[33m    This is the simple RNN model we will be using to perform Sentiment Analysis.\u001b[39;49;00m\r\n",
      "\u001b[33m    \"\"\"\u001b[39;49;00m\r\n",
      "\r\n",
      "    \u001b[34mdef\u001b[39;49;00m \u001b[32m__init__\u001b[39;49;00m(\u001b[36mself\u001b[39;49;00m, embedding_dim, hidden_dim, vocab_size):\r\n",
      "        \u001b[33m\"\"\"\u001b[39;49;00m\r\n",
      "\u001b[33m        Initialize the model by settingg up the various layers.\u001b[39;49;00m\r\n",
      "\u001b[33m        \"\"\"\u001b[39;49;00m\r\n",
      "        \u001b[36msuper\u001b[39;49;00m(LSTMClassifier, \u001b[36mself\u001b[39;49;00m).\u001b[32m__init__\u001b[39;49;00m()\r\n",
      "\r\n",
      "        \u001b[36mself\u001b[39;49;00m.embedding = nn.Embedding(vocab_size, embedding_dim, padding_idx=\u001b[34m0\u001b[39;49;00m)\r\n",
      "        \u001b[36mself\u001b[39;49;00m.lstm = nn.LSTM(embedding_dim, hidden_dim)\r\n",
      "        \u001b[36mself\u001b[39;49;00m.dense = nn.Linear(in_features=hidden_dim, out_features=\u001b[34m1\u001b[39;49;00m)\r\n",
      "        \u001b[36mself\u001b[39;49;00m.sig = nn.Sigmoid()\r\n",
      "        \r\n",
      "        \u001b[36mself\u001b[39;49;00m.word_dict = \u001b[36mNone\u001b[39;49;00m\r\n",
      "\r\n",
      "    \u001b[34mdef\u001b[39;49;00m \u001b[32mforward\u001b[39;49;00m(\u001b[36mself\u001b[39;49;00m, x):\r\n",
      "        \u001b[33m\"\"\"\u001b[39;49;00m\r\n",
      "\u001b[33m        Perform a forward pass of our model on some input.\u001b[39;49;00m\r\n",
      "\u001b[33m        \"\"\"\u001b[39;49;00m\r\n",
      "        x = x.t()\r\n",
      "        lengths = x[\u001b[34m0\u001b[39;49;00m,:]\r\n",
      "        reviews = x[\u001b[34m1\u001b[39;49;00m:,:]\r\n",
      "        embeds = \u001b[36mself\u001b[39;49;00m.embedding(reviews)\r\n",
      "        lstm_out, _ = \u001b[36mself\u001b[39;49;00m.lstm(embeds)\r\n",
      "        out = \u001b[36mself\u001b[39;49;00m.dense(lstm_out)\r\n",
      "        out = out[lengths - \u001b[34m1\u001b[39;49;00m, \u001b[36mrange\u001b[39;49;00m(\u001b[36mlen\u001b[39;49;00m(lengths))]\r\n",
      "        \u001b[34mreturn\u001b[39;49;00m \u001b[36mself\u001b[39;49;00m.sig(out.squeeze())\r\n"
     ]
    }
   ],
   "source": [
    "!pygmentize train/model.py"
   ]
  },
  {
   "cell_type": "markdown",
   "metadata": {},
   "source": [
    "The important takeaway from the implementation provided is that there are three parameters that we may wish to tweak to improve the performance of our model. These are the embedding dimension, the hidden dimension and the size of the vocabulary. We will likely want to make these parameters configurable in the training script so that if we wish to modify them we do not need to modify the script itself. We will see how to do this later on. To start we will write some of the training code in the notebook so that we can more easily diagnose any issues that arise.\n",
    "\n",
    "First we will load a small portion of the training data set to use as a sample. It would be very time consuming to try and train the model completely in the notebook as we do not have access to a gpu and the compute instance that we are using is not particularly powerful. However, we can work on a small bit of the data to get a feel for how our training script is behaving."
   ]
  },
  {
   "cell_type": "code",
   "execution_count": 27,
   "metadata": {},
   "outputs": [],
   "source": [
    "import torch\n",
    "import torch.utils.data\n",
    "\n",
    "# Read in only the first 250 rows\n",
    "train_sample = pd.read_csv(os.path.join(data_dir, 'train.csv'), header=None, names=None, nrows=250)\n",
    "\n",
    "# Turn the input pandas dataframe into tensors\n",
    "train_sample_y = torch.from_numpy(train_sample[[0]].values).float().squeeze()\n",
    "train_sample_X = torch.from_numpy(train_sample.drop([0], axis=1).values).long()\n",
    "\n",
    "# Build the dataset\n",
    "train_sample_ds = torch.utils.data.TensorDataset(train_sample_X, train_sample_y)\n",
    "# Build the dataloader\n",
    "train_sample_dl = torch.utils.data.DataLoader(train_sample_ds, batch_size=50)"
   ]
  },
  {
   "cell_type": "markdown",
   "metadata": {},
   "source": [
    "### (TODO) Writing the training method\n",
    "\n",
    "Next we need to write the training code itself. This should be very similar to training methods that you have written before to train PyTorch models. We will leave any difficult aspects such as model saving / loading and parameter loading until a little later."
   ]
  },
  {
   "cell_type": "code",
   "execution_count": 28,
   "metadata": {},
   "outputs": [],
   "source": [
    "def train(model, train_loader, epochs, optimizer, loss_fn, device):\n",
    "    for epoch in range(1, epochs + 1):\n",
    "        model.train()\n",
    "        total_loss = 0\n",
    "        for batch in train_loader:         \n",
    "            batch_X, batch_y = batch\n",
    "            \n",
    "            batch_X = batch_X.to(device)\n",
    "            batch_y = batch_y.to(device)\n",
    "            \n",
    "            # TODO: Complete this train method to train the model provided.\n",
    "            \n",
    "            optimizer.zero_grad()\n",
    "            \n",
    "            output = model.forward(batch_X)\n",
    "            \n",
    "            loss = loss_fn(output, batch_y)\n",
    "            \n",
    "            loss.backward()\n",
    "            \n",
    "            optimizer.step()\n",
    "            \n",
    "            total_loss += loss.data.item()\n",
    "        print(\"Epoch: {}, BCELoss: {}\".format(epoch, total_loss / len(train_loader)))"
   ]
  },
  {
   "cell_type": "markdown",
   "metadata": {},
   "source": [
    "Supposing we have the training method above, we will test that it is working by writing a bit of code in the notebook that executes our training method on the small sample training set that we loaded earlier. The reason for doing this in the notebook is so that we have an opportunity to fix any errors that arise early when they are easier to diagnose."
   ]
  },
  {
   "cell_type": "code",
   "execution_count": 29,
   "metadata": {},
   "outputs": [
    {
     "name": "stdout",
     "output_type": "stream",
     "text": [
      "Epoch: 1, BCELoss: 0.6945790767669677\n",
      "Epoch: 2, BCELoss: 0.6871270060539245\n",
      "Epoch: 3, BCELoss: 0.6807955980300904\n",
      "Epoch: 4, BCELoss: 0.6735450863838196\n",
      "Epoch: 5, BCELoss: 0.6642058253288269\n"
     ]
    }
   ],
   "source": [
    "import torch.optim as optim\n",
    "from train.model import LSTMClassifier\n",
    "\n",
    "device = torch.device(\"cuda\" if torch.cuda.is_available() else \"cpu\")\n",
    "model = LSTMClassifier(32, 100, 5000).to(device)\n",
    "optimizer = optim.Adam(model.parameters())\n",
    "loss_fn = torch.nn.BCELoss()\n",
    "\n",
    "train(model, train_sample_dl, 5, optimizer, loss_fn, device)"
   ]
  },
  {
   "cell_type": "markdown",
   "metadata": {},
   "source": [
    "In order to construct a PyTorch model using SageMaker we must provide SageMaker with a training script. We may optionally include a directory which will be copied to the container and from which our training code will be run. When the training container is executed it will check the uploaded directory (if there is one) for a `requirements.txt` file and install any required Python libraries, after which the training script will be run."
   ]
  },
  {
   "cell_type": "markdown",
   "metadata": {},
   "source": [
    "### (TODO) Training the model\n",
    "\n",
    "When a PyTorch model is constructed in SageMaker, an entry point must be specified. This is the Python file which will be executed when the model is trained. Inside of the `train` directory is a file called `train.py` which has been provided and which contains most of the necessary code to train our model. The only thing that is missing is the implementation of the `train()` method which you wrote earlier in this notebook.\n",
    "\n",
    "**TODO**: Copy the `train()` method written above and paste it into the `train/train.py` file where required.\n",
    "\n",
    "The way that SageMaker passes hyperparameters to the training script is by way of arguments. These arguments can then be parsed and used in the training script. To see how this is done take a look at the provided `train/train.py` file."
   ]
  },
  {
   "cell_type": "code",
   "execution_count": 30,
   "metadata": {},
   "outputs": [],
   "source": [
    "from sagemaker.pytorch import PyTorch\n",
    "\n",
    "estimator = PyTorch(entry_point=\"train.py\",\n",
    "                    source_dir=\"train\",\n",
    "                    role=role,\n",
    "                    framework_version='0.4.0',\n",
    "                    train_instance_count=1,\n",
    "                    train_instance_type='ml.p2.xlarge',\n",
    "                    hyperparameters={\n",
    "                        'epochs': 10,\n",
    "                        'hidden_dim': 200,\n",
    "                    })"
   ]
  },
  {
   "cell_type": "code",
   "execution_count": 31,
   "metadata": {},
   "outputs": [
    {
     "name": "stdout",
     "output_type": "stream",
     "text": [
      "2019-06-08 10:05:45 Starting - Starting the training job...\n",
      "2019-06-08 10:05:46 Starting - Launching requested ML instances......\n",
      "2019-06-08 10:06:53 Starting - Preparing the instances for training.........\n",
      "2019-06-08 10:08:46 Downloading - Downloading input data\n",
      "2019-06-08 10:08:46 Training - Downloading the training image...\n",
      "\u001b[31mbash: cannot set terminal process group (-1): Inappropriate ioctl for device\u001b[0m\n",
      "\u001b[31mbash: no job control in this shell\u001b[0m\n",
      "\u001b[31m2019-06-08 10:09:09,937 sagemaker-containers INFO     Imported framework sagemaker_pytorch_container.training\u001b[0m\n",
      "\u001b[31m2019-06-08 10:09:09,961 sagemaker_pytorch_container.training INFO     Block until all host DNS lookups succeed.\u001b[0m\n",
      "\u001b[31m2019-06-08 10:09:12,970 sagemaker_pytorch_container.training INFO     Invoking user training script.\u001b[0m\n",
      "\u001b[31m2019-06-08 10:09:13,196 sagemaker-containers INFO     Module train does not provide a setup.py. \u001b[0m\n",
      "\u001b[31mGenerating setup.py\u001b[0m\n",
      "\u001b[31m2019-06-08 10:09:13,197 sagemaker-containers INFO     Generating setup.cfg\u001b[0m\n",
      "\u001b[31m2019-06-08 10:09:13,197 sagemaker-containers INFO     Generating MANIFEST.in\u001b[0m\n",
      "\u001b[31m2019-06-08 10:09:13,197 sagemaker-containers INFO     Installing module with the following command:\u001b[0m\n",
      "\u001b[31m/usr/bin/python -m pip install -U . -r requirements.txt\u001b[0m\n",
      "\u001b[31mProcessing /opt/ml/code\u001b[0m\n",
      "\u001b[31mCollecting pandas (from -r requirements.txt (line 1))\n",
      "  Downloading https://files.pythonhosted.org/packages/74/24/0cdbf8907e1e3bc5a8da03345c23cbed7044330bb8f73bb12e711a640a00/pandas-0.24.2-cp35-cp35m-manylinux1_x86_64.whl (10.0MB)\u001b[0m\n",
      "\u001b[31mCollecting numpy (from -r requirements.txt (line 2))\n",
      "  Downloading https://files.pythonhosted.org/packages/bb/ef/d5a21cbc094d3f4d5b5336494dbcc9550b70c766a8345513c7c24ed18418/numpy-1.16.4-cp35-cp35m-manylinux1_x86_64.whl (17.2MB)\u001b[0m\n",
      "\u001b[31mCollecting nltk (from -r requirements.txt (line 3))\n",
      "  Downloading https://files.pythonhosted.org/packages/8d/5d/825889810b85c303c8559a3fd74d451d80cf3585a851f2103e69576bf583/nltk-3.4.3.zip (1.4MB)\u001b[0m\n",
      "\u001b[31mCollecting beautifulsoup4 (from -r requirements.txt (line 4))\n",
      "  Downloading https://files.pythonhosted.org/packages/1d/5d/3260694a59df0ec52f8b4883f5d23b130bc237602a1411fa670eae12351e/beautifulsoup4-4.7.1-py3-none-any.whl (94kB)\u001b[0m\n",
      "\u001b[31mCollecting html5lib (from -r requirements.txt (line 5))\n",
      "  Downloading https://files.pythonhosted.org/packages/a5/62/bbd2be0e7943ec8504b517e62bab011b4946e1258842bc159e5dfde15b96/html5lib-1.0.1-py2.py3-none-any.whl (117kB)\u001b[0m\n",
      "\u001b[31mCollecting pytz>=2011k (from pandas->-r requirements.txt (line 1))\n",
      "  Downloading https://files.pythonhosted.org/packages/3d/73/fe30c2daaaa0713420d0382b16fbb761409f532c56bdcc514bf7b6262bb6/pytz-2019.1-py2.py3-none-any.whl (510kB)\u001b[0m\n",
      "\u001b[31mRequirement already satisfied, skipping upgrade: python-dateutil>=2.5.0 in /usr/local/lib/python3.5/dist-packages (from pandas->-r requirements.txt (line 1)) (2.7.5)\u001b[0m\n",
      "\u001b[31mRequirement already satisfied, skipping upgrade: six in /usr/local/lib/python3.5/dist-packages (from nltk->-r requirements.txt (line 3)) (1.11.0)\u001b[0m\n",
      "\u001b[31mCollecting soupsieve>=1.2 (from beautifulsoup4->-r requirements.txt (line 4))\n",
      "  Downloading https://files.pythonhosted.org/packages/b9/a5/7ea40d0f8676bde6e464a6435a48bc5db09b1a8f4f06d41dd997b8f3c616/soupsieve-1.9.1-py2.py3-none-any.whl\u001b[0m\n",
      "\u001b[31mCollecting webencodings (from html5lib->-r requirements.txt (line 5))\n",
      "  Downloading https://files.pythonhosted.org/packages/f4/24/2a3e3df732393fed8b3ebf2ec078f05546de641fe1b667ee316ec1dcf3b7/webencodings-0.5.1-py2.py3-none-any.whl\u001b[0m\n",
      "\u001b[31mBuilding wheels for collected packages: nltk, train\n",
      "  Running setup.py bdist_wheel for nltk: started\u001b[0m\n",
      "\u001b[31m  Running setup.py bdist_wheel for nltk: finished with status 'done'\n",
      "  Stored in directory: /root/.cache/pip/wheels/54/40/b7/c56ad418e6cd4d9e1e594b5e138d1ca6eec11a6ee3d464e5bb\n",
      "  Running setup.py bdist_wheel for train: started\n",
      "  Running setup.py bdist_wheel for train: finished with status 'done'\n",
      "  Stored in directory: /tmp/pip-ephem-wheel-cache-wo95layk/wheels/35/24/16/37574d11bf9bde50616c67372a334f94fa8356bc7164af8ca3\u001b[0m\n",
      "\u001b[31mSuccessfully built nltk train\u001b[0m\n",
      "\u001b[31mInstalling collected packages: pytz, numpy, pandas, nltk, soupsieve, beautifulsoup4, webencodings, html5lib, train\n",
      "  Found existing installation: numpy 1.15.4\n",
      "    Uninstalling numpy-1.15.4:\u001b[0m\n",
      "\u001b[31m      Successfully uninstalled numpy-1.15.4\u001b[0m\n",
      "\u001b[31mSuccessfully installed beautifulsoup4-4.7.1 html5lib-1.0.1 nltk-3.4.3 numpy-1.16.4 pandas-0.24.2 pytz-2019.1 soupsieve-1.9.1 train-1.0.0 webencodings-0.5.1\u001b[0m\n",
      "\u001b[31mYou are using pip version 18.1, however version 19.1.1 is available.\u001b[0m\n",
      "\u001b[31mYou should consider upgrading via the 'pip install --upgrade pip' command.\u001b[0m\n",
      "\u001b[31m2019-06-08 10:09:24,527 sagemaker-containers INFO     Invoking user script\n",
      "\u001b[0m\n",
      "\u001b[31mTraining Env:\n",
      "\u001b[0m\n",
      "\u001b[31m{\n",
      "    \"module_name\": \"train\",\n",
      "    \"user_entry_point\": \"train.py\",\n",
      "    \"input_config_dir\": \"/opt/ml/input/config\",\n",
      "    \"module_dir\": \"s3://sagemaker-us-east-1-076544891614/sagemaker-pytorch-2019-06-08-10-05-44-909/source/sourcedir.tar.gz\",\n",
      "    \"framework_module\": \"sagemaker_pytorch_container.training:main\",\n",
      "    \"resource_config\": {\n",
      "        \"current_host\": \"algo-1\",\n",
      "        \"hosts\": [\n",
      "            \"algo-1\"\n",
      "        ],\n",
      "        \"network_interface_name\": \"ethwe\"\n",
      "    },\n",
      "    \"log_level\": 20,\n",
      "    \"model_dir\": \"/opt/ml/model\",\n",
      "    \"output_dir\": \"/opt/ml/output\",\n",
      "    \"channel_input_dirs\": {\n",
      "        \"training\": \"/opt/ml/input/data/training\"\n",
      "    },\n",
      "    \"hyperparameters\": {\n",
      "        \"epochs\": 10,\n",
      "        \"hidden_dim\": 200\n",
      "    },\n",
      "    \"additional_framework_parameters\": {},\n",
      "    \"num_cpus\": 4,\n",
      "    \"output_intermediate_dir\": \"/opt/ml/output/intermediate\",\n",
      "    \"job_name\": \"sagemaker-pytorch-2019-06-08-10-05-44-909\",\n",
      "    \"input_data_config\": {\n",
      "        \"training\": {\n",
      "            \"S3DistributionType\": \"FullyReplicated\",\n",
      "            \"RecordWrapperType\": \"None\",\n",
      "            \"TrainingInputMode\": \"File\"\n",
      "        }\n",
      "    },\n",
      "    \"output_data_dir\": \"/opt/ml/output/data\",\n",
      "    \"current_host\": \"algo-1\",\n",
      "    \"hosts\": [\n",
      "        \"algo-1\"\n",
      "    ],\n",
      "    \"num_gpus\": 1,\n",
      "    \"input_dir\": \"/opt/ml/input\",\n",
      "    \"network_interface_name\": \"ethwe\"\u001b[0m\n",
      "\u001b[31m}\n",
      "\u001b[0m\n",
      "\u001b[31mEnvironment variables:\n",
      "\u001b[0m\n",
      "\u001b[31mSM_OUTPUT_DIR=/opt/ml/output\u001b[0m\n",
      "\u001b[31mSM_NUM_CPUS=4\u001b[0m\n",
      "\u001b[31mSM_INPUT_DATA_CONFIG={\"training\":{\"RecordWrapperType\":\"None\",\"S3DistributionType\":\"FullyReplicated\",\"TrainingInputMode\":\"File\"}}\u001b[0m\n",
      "\u001b[31mSM_CHANNEL_TRAINING=/opt/ml/input/data/training\u001b[0m\n",
      "\u001b[31mSM_RESOURCE_CONFIG={\"current_host\":\"algo-1\",\"hosts\":[\"algo-1\"],\"network_interface_name\":\"ethwe\"}\u001b[0m\n",
      "\u001b[31mSM_CHANNELS=[\"training\"]\u001b[0m\n",
      "\u001b[31mSM_USER_ENTRY_POINT=train.py\u001b[0m\n",
      "\u001b[31mSM_TRAINING_ENV={\"additional_framework_parameters\":{},\"channel_input_dirs\":{\"training\":\"/opt/ml/input/data/training\"},\"current_host\":\"algo-1\",\"framework_module\":\"sagemaker_pytorch_container.training:main\",\"hosts\":[\"algo-1\"],\"hyperparameters\":{\"epochs\":10,\"hidden_dim\":200},\"input_config_dir\":\"/opt/ml/input/config\",\"input_data_config\":{\"training\":{\"RecordWrapperType\":\"None\",\"S3DistributionType\":\"FullyReplicated\",\"TrainingInputMode\":\"File\"}},\"input_dir\":\"/opt/ml/input\",\"job_name\":\"sagemaker-pytorch-2019-06-08-10-05-44-909\",\"log_level\":20,\"model_dir\":\"/opt/ml/model\",\"module_dir\":\"s3://sagemaker-us-east-1-076544891614/sagemaker-pytorch-2019-06-08-10-05-44-909/source/sourcedir.tar.gz\",\"module_name\":\"train\",\"network_interface_name\":\"ethwe\",\"num_cpus\":4,\"num_gpus\":1,\"output_data_dir\":\"/opt/ml/output/data\",\"output_dir\":\"/opt/ml/output\",\"output_intermediate_dir\":\"/opt/ml/output/intermediate\",\"resource_config\":{\"current_host\":\"algo-1\",\"hosts\":[\"algo-1\"],\"network_interface_name\":\"ethwe\"},\"user_entry_point\":\"train.py\"}\u001b[0m\n",
      "\u001b[31mSM_FRAMEWORK_MODULE=sagemaker_pytorch_container.training:main\u001b[0m\n",
      "\u001b[31mPYTHONPATH=/usr/local/bin:/usr/lib/python35.zip:/usr/lib/python3.5:/usr/lib/python3.5/plat-x86_64-linux-gnu:/usr/lib/python3.5/lib-dynload:/usr/local/lib/python3.5/dist-packages:/usr/lib/python3/dist-packages\u001b[0m\n",
      "\u001b[31mSM_MODEL_DIR=/opt/ml/model\u001b[0m\n",
      "\u001b[31mSM_FRAMEWORK_PARAMS={}\u001b[0m\n",
      "\u001b[31mSM_OUTPUT_DATA_DIR=/opt/ml/output/data\u001b[0m\n",
      "\u001b[31mSM_HP_EPOCHS=10\u001b[0m\n",
      "\u001b[31mSM_NUM_GPUS=1\u001b[0m\n",
      "\u001b[31mSM_HP_HIDDEN_DIM=200\u001b[0m\n",
      "\u001b[31mSM_CURRENT_HOST=algo-1\u001b[0m\n",
      "\u001b[31mSM_OUTPUT_INTERMEDIATE_DIR=/opt/ml/output/intermediate\u001b[0m\n",
      "\u001b[31mSM_INPUT_CONFIG_DIR=/opt/ml/input/config\u001b[0m\n",
      "\u001b[31mSM_HOSTS=[\"algo-1\"]\u001b[0m\n",
      "\u001b[31mSM_USER_ARGS=[\"--epochs\",\"10\",\"--hidden_dim\",\"200\"]\u001b[0m\n",
      "\u001b[31mSM_INPUT_DIR=/opt/ml/input\u001b[0m\n",
      "\u001b[31mSM_HPS={\"epochs\":10,\"hidden_dim\":200}\u001b[0m\n",
      "\u001b[31mSM_LOG_LEVEL=20\u001b[0m\n",
      "\u001b[31mSM_NETWORK_INTERFACE_NAME=ethwe\u001b[0m\n",
      "\u001b[31mSM_MODULE_NAME=train\u001b[0m\n",
      "\u001b[31mSM_MODULE_DIR=s3://sagemaker-us-east-1-076544891614/sagemaker-pytorch-2019-06-08-10-05-44-909/source/sourcedir.tar.gz\n",
      "\u001b[0m\n",
      "\u001b[31mInvoking script with the following command:\n",
      "\u001b[0m\n",
      "\u001b[31m/usr/bin/python -m train --epochs 10 --hidden_dim 200\n",
      "\n",
      "\u001b[0m\n",
      "\u001b[31mUsing device cuda.\u001b[0m\n",
      "\u001b[31mGet train data loader.\u001b[0m\n"
     ]
    },
    {
     "name": "stdout",
     "output_type": "stream",
     "text": [
      "\n",
      "2019-06-08 10:09:39 Training - Training image download completed. Training in progress.\u001b[31mModel loaded with embedding_dim 32, hidden_dim 200, vocab_size 5000.\u001b[0m\n",
      "\u001b[31mEpoch: 1, BCELoss: 0.6739109937025576\u001b[0m\n",
      "\u001b[31mEpoch: 2, BCELoss: 0.5901275642064153\u001b[0m\n",
      "\u001b[31mEpoch: 3, BCELoss: 0.5285400450229645\u001b[0m\n",
      "\u001b[31mEpoch: 4, BCELoss: 0.4521447541762371\u001b[0m\n",
      "\u001b[31mEpoch: 5, BCELoss: 0.3920230622194251\u001b[0m\n",
      "\u001b[31mEpoch: 6, BCELoss: 0.35875485928691164\u001b[0m\n",
      "\u001b[31mEpoch: 7, BCELoss: 0.3394331092737159\u001b[0m\n",
      "\u001b[31mEpoch: 8, BCELoss: 0.31767240470769453\u001b[0m\n",
      "\u001b[31mEpoch: 9, BCELoss: 0.2989449893333474\u001b[0m\n",
      "\u001b[31mEpoch: 10, BCELoss: 0.2783115259846862\u001b[0m\n",
      "\u001b[31m2019-06-08 10:12:25,389 sagemaker-containers INFO     Reporting training SUCCESS\u001b[0m\n",
      "\n",
      "2019-06-08 10:12:32 Uploading - Uploading generated training model\n",
      "2019-06-08 10:12:32 Completed - Training job completed\n",
      "Billable seconds: 236\n"
     ]
    }
   ],
   "source": [
    "estimator.fit({'training': input_data})"
   ]
  },
  {
   "cell_type": "markdown",
   "metadata": {},
   "source": [
    "## Step 5: Testing the model\n",
    "\n",
    "As mentioned at the top of this notebook, we will be testing this model by first deploying it and then sending the testing data to the deployed endpoint. We will do this so that we can make sure that the deployed model is working correctly.\n",
    "\n",
    "## Step 6: Deploy the model for testing\n",
    "\n",
    "Now that we have trained our model, we would like to test it to see how it performs. Currently our model takes input of the form `review_length, review[500]` where `review[500]` is a sequence of `500` integers which describe the words present in the review, encoded using `word_dict`. Fortunately for us, SageMaker provides built-in inference code for models with simple inputs such as this.\n",
    "\n",
    "There is one thing that we need to provide, however, and that is a function which loads the saved model. This function must be called `model_fn()` and takes as its only parameter a path to the directory where the model artifacts are stored. This function must also be present in the python file which we specified as the entry point. In our case the model loading function has been provided and so no changes need to be made.\n",
    "\n",
    "**NOTE**: When the built-in inference code is run it must import the `model_fn()` method from the `train.py` file. This is why the training code is wrapped in a main guard ( ie, `if __name__ == '__main__':` )\n",
    "\n",
    "Since we don't need to change anything in the code that was uploaded during training, we can simply deploy the current model as-is.\n",
    "\n",
    "**NOTE:** When deploying a model you are asking SageMaker to launch an compute instance that will wait for data to be sent to it. As a result, this compute instance will continue to run until *you* shut it down. This is important to know since the cost of a deployed endpoint depends on how long it has been running for.\n",
    "\n",
    "In other words **If you are no longer using a deployed endpoint, shut it down!**\n",
    "\n",
    "**TODO:** Deploy the trained model."
   ]
  },
  {
   "cell_type": "code",
   "execution_count": 32,
   "metadata": {},
   "outputs": [
    {
     "name": "stdout",
     "output_type": "stream",
     "text": [
      "----------------------------------------------------------------------------------------!"
     ]
    }
   ],
   "source": [
    "# TODO: Deploy the trained model\n",
    "predictor = estimator.deploy(initial_instance_count = 1, instance_type = 'ml.m4.xlarge')"
   ]
  },
  {
   "cell_type": "markdown",
   "metadata": {},
   "source": [
    "## Step 7 - Use the model for testing\n",
    "\n",
    "Once deployed, we can read in the test data and send it off to our deployed model to get some results. Once we collect all of the results we can determine how accurate our model is."
   ]
  },
  {
   "cell_type": "code",
   "execution_count": 33,
   "metadata": {},
   "outputs": [],
   "source": [
    "test_X = pd.concat([pd.DataFrame(test_X_len), pd.DataFrame(test_X)], axis=1)"
   ]
  },
  {
   "cell_type": "code",
   "execution_count": 34,
   "metadata": {},
   "outputs": [],
   "source": [
    "# We split the data into chunks and send each chunk seperately, accumulating the results.\n",
    "\n",
    "def predict(data, rows=512):\n",
    "    split_array = np.array_split(data, int(data.shape[0] / float(rows) + 1))\n",
    "    predictions = np.array([])\n",
    "    for array in split_array:\n",
    "        predictions = np.append(predictions, predictor.predict(array))\n",
    "    \n",
    "    return predictions"
   ]
  },
  {
   "cell_type": "code",
   "execution_count": 35,
   "metadata": {},
   "outputs": [],
   "source": [
    "predictions = predict(test_X.values)\n",
    "predictions = [round(num) for num in predictions]"
   ]
  },
  {
   "cell_type": "code",
   "execution_count": 36,
   "metadata": {},
   "outputs": [
    {
     "data": {
      "text/plain": [
       "0.85216"
      ]
     },
     "execution_count": 36,
     "metadata": {},
     "output_type": "execute_result"
    }
   ],
   "source": [
    "from sklearn.metrics import accuracy_score\n",
    "accuracy_score(test_y, predictions)"
   ]
  },
  {
   "cell_type": "markdown",
   "metadata": {},
   "source": [
    "**Question:** How does this model compare to the XGBoost model you created earlier? Why might these two models perform differently on this dataset? Which do *you* think is better for sentiment analysis?"
   ]
  },
  {
   "cell_type": "markdown",
   "metadata": {},
   "source": [
    "**Answer:**\n",
    "\n",
    "- this model's accuracy score is better.\n",
    "- two different model have different neural networks with different parameters and hyperparameters for the outcome to be different."
   ]
  },
  {
   "cell_type": "markdown",
   "metadata": {},
   "source": [
    "### (TODO) More testing\n",
    "\n",
    "We now have a trained model which has been deployed and which we can send processed reviews to and which returns the predicted sentiment. However, ultimately we would like to be able to send our model an unprocessed review. That is, we would like to send the review itself as a string. For example, suppose we wish to send the following review to our model."
   ]
  },
  {
   "cell_type": "code",
   "execution_count": 37,
   "metadata": {},
   "outputs": [],
   "source": [
    "test_review = 'The simplest pleasures in life are the best, and this film is one of them. Combining a rather basic storyline of love and adventure this movie transcends the usual weekend fair with wit and unmitigated charm.'"
   ]
  },
  {
   "cell_type": "markdown",
   "metadata": {},
   "source": [
    "The question we now need to answer is, how do we send this review to our model?\n",
    "\n",
    "Recall in the first section of this notebook we did a bunch of data processing to the IMDb dataset. In particular, we did two specific things to the provided reviews.\n",
    " - Removed any html tags and stemmed the input\n",
    " - Encoded the review as a sequence of integers using `word_dict`\n",
    " \n",
    "In order process the review we will need to repeat these two steps.\n",
    "\n",
    "**TODO**: Using the `review_to_words` and `convert_and_pad` methods from section one, convert `test_review` into a numpy array `test_data` suitable to send to our model. Remember that our model expects input of the form `review_length, review[500]`."
   ]
  },
  {
   "cell_type": "code",
   "execution_count": 38,
   "metadata": {},
   "outputs": [],
   "source": [
    "# TODO: Convert test_review into a form usable by the model and save the results in test_data\n",
    "\n",
    "# Step One - remove any html tags and stem the input\n",
    "test_data_step_one = review_to_words(test_review)"
   ]
  },
  {
   "cell_type": "code",
   "execution_count": 39,
   "metadata": {},
   "outputs": [],
   "source": [
    "# Step Two - Transform the Data into 500 vector numbers\n",
    "test_data = [np.array(convert_and_pad(word_dict, test_data_step_one)[0])]"
   ]
  },
  {
   "cell_type": "markdown",
   "metadata": {},
   "source": [
    "Now that we have processed the review, we can send the resulting array to our model to predict the sentiment of the review."
   ]
  },
  {
   "cell_type": "code",
   "execution_count": 40,
   "metadata": {},
   "outputs": [
    {
     "data": {
      "text/plain": [
       "array(0.42761034, dtype=float32)"
      ]
     },
     "execution_count": 40,
     "metadata": {},
     "output_type": "execute_result"
    }
   ],
   "source": [
    "predictor.predict(test_data)"
   ]
  },
  {
   "cell_type": "markdown",
   "metadata": {},
   "source": [
    "Since the return value of our model is close to `1`, we can be certain that the review we submitted is positive."
   ]
  },
  {
   "cell_type": "markdown",
   "metadata": {},
   "source": [
    "### Delete the endpoint\n",
    "\n",
    "Of course, just like in the XGBoost notebook, once we've deployed an endpoint it continues to run until we tell it to shut down. Since we are done using our endpoint for now, we can delete it."
   ]
  },
  {
   "cell_type": "code",
   "execution_count": 41,
   "metadata": {},
   "outputs": [],
   "source": [
    "estimator.delete_endpoint()"
   ]
  },
  {
   "cell_type": "markdown",
   "metadata": {},
   "source": [
    "## Step 6 (again) - Deploy the model for the web app\n",
    "\n",
    "Now that we know that our model is working, it's time to create some custom inference code so that we can send the model a review which has not been processed and have it determine the sentiment of the review.\n",
    "\n",
    "As we saw above, by default the estimator which we created, when deployed, will use the entry script and directory which we provided when creating the model. However, since we now wish to accept a string as input and our model expects a processed review, we need to write some custom inference code.\n",
    "\n",
    "We will store the code that we write in the `serve` directory. Provided in this directory is the `model.py` file that we used to construct our model, a `utils.py` file which contains the `review_to_words` and `convert_and_pad` pre-processing functions which we used during the initial data processing, and `predict.py`, the file which will contain our custom inference code. Note also that `requirements.txt` is present which will tell SageMaker what Python libraries are required by our custom inference code.\n",
    "\n",
    "When deploying a PyTorch model in SageMaker, you are expected to provide four functions which the SageMaker inference container will use.\n",
    " - `model_fn`: This function is the same function that we used in the training script and it tells SageMaker how to load our model.\n",
    " - `input_fn`: This function receives the raw serialized input that has been sent to the model's endpoint and its job is to de-serialize and make the input available for the inference code.\n",
    " - `output_fn`: This function takes the output of the inference code and its job is to serialize this output and return it to the caller of the model's endpoint.\n",
    " - `predict_fn`: The heart of the inference script, this is where the actual prediction is done and is the function which you will need to complete.\n",
    "\n",
    "For the simple website that we are constructing during this project, the `input_fn` and `output_fn` methods are relatively straightforward. We only require being able to accept a string as input and we expect to return a single value as output. You might imagine though that in a more complex application the input or output may be image data or some other binary data which would require some effort to serialize.\n",
    "\n",
    "### (TODO) Writing inference code\n",
    "\n",
    "Before writing our custom inference code, we will begin by taking a look at the code which has been provided."
   ]
  },
  {
   "cell_type": "code",
   "execution_count": 75,
   "metadata": {},
   "outputs": [
    {
     "name": "stdout",
     "output_type": "stream",
     "text": [
      "\u001b[34mimport\u001b[39;49;00m \u001b[04m\u001b[36margparse\u001b[39;49;00m\r\n",
      "\u001b[34mimport\u001b[39;49;00m \u001b[04m\u001b[36mjson\u001b[39;49;00m\r\n",
      "\u001b[34mimport\u001b[39;49;00m \u001b[04m\u001b[36mos\u001b[39;49;00m\r\n",
      "\u001b[34mimport\u001b[39;49;00m \u001b[04m\u001b[36mpickle\u001b[39;49;00m\r\n",
      "\u001b[34mimport\u001b[39;49;00m \u001b[04m\u001b[36msys\u001b[39;49;00m\r\n",
      "\u001b[34mimport\u001b[39;49;00m \u001b[04m\u001b[36msagemaker_containers\u001b[39;49;00m\r\n",
      "\u001b[34mimport\u001b[39;49;00m \u001b[04m\u001b[36mpandas\u001b[39;49;00m \u001b[34mas\u001b[39;49;00m \u001b[04m\u001b[36mpd\u001b[39;49;00m\r\n",
      "\u001b[34mimport\u001b[39;49;00m \u001b[04m\u001b[36mnumpy\u001b[39;49;00m \u001b[34mas\u001b[39;49;00m \u001b[04m\u001b[36mnp\u001b[39;49;00m\r\n",
      "\u001b[34mimport\u001b[39;49;00m \u001b[04m\u001b[36mtorch\u001b[39;49;00m\r\n",
      "\u001b[34mimport\u001b[39;49;00m \u001b[04m\u001b[36mtorch.nn\u001b[39;49;00m \u001b[34mas\u001b[39;49;00m \u001b[04m\u001b[36mnn\u001b[39;49;00m\r\n",
      "\u001b[34mimport\u001b[39;49;00m \u001b[04m\u001b[36mtorch.optim\u001b[39;49;00m \u001b[34mas\u001b[39;49;00m \u001b[04m\u001b[36moptim\u001b[39;49;00m\r\n",
      "\u001b[34mimport\u001b[39;49;00m \u001b[04m\u001b[36mtorch.utils.data\u001b[39;49;00m\r\n",
      "\r\n",
      "\u001b[34mfrom\u001b[39;49;00m \u001b[04m\u001b[36mmodel\u001b[39;49;00m \u001b[34mimport\u001b[39;49;00m LSTMClassifier\r\n",
      "\r\n",
      "\u001b[34mfrom\u001b[39;49;00m \u001b[04m\u001b[36mutils\u001b[39;49;00m \u001b[34mimport\u001b[39;49;00m review_to_words, convert_and_pad\r\n",
      "\r\n",
      "\u001b[34mdef\u001b[39;49;00m \u001b[32mmodel_fn\u001b[39;49;00m(model_dir):\r\n",
      "    \u001b[33m\"\"\"Load the PyTorch model from the `model_dir` directory.\"\"\"\u001b[39;49;00m\r\n",
      "    \u001b[34mprint\u001b[39;49;00m(\u001b[33m\"\u001b[39;49;00m\u001b[33mLoading model.\u001b[39;49;00m\u001b[33m\"\u001b[39;49;00m)\r\n",
      "\r\n",
      "    \u001b[37m# First, load the parameters used to create the model.\u001b[39;49;00m\r\n",
      "    model_info = {}\r\n",
      "    model_info_path = os.path.join(model_dir, \u001b[33m'\u001b[39;49;00m\u001b[33mmodel_info.pth\u001b[39;49;00m\u001b[33m'\u001b[39;49;00m)\r\n",
      "    \u001b[34mwith\u001b[39;49;00m \u001b[36mopen\u001b[39;49;00m(model_info_path, \u001b[33m'\u001b[39;49;00m\u001b[33mrb\u001b[39;49;00m\u001b[33m'\u001b[39;49;00m) \u001b[34mas\u001b[39;49;00m f:\r\n",
      "        model_info = torch.load(f)\r\n",
      "\r\n",
      "    \u001b[34mprint\u001b[39;49;00m(\u001b[33m\"\u001b[39;49;00m\u001b[33mmodel_info: {}\u001b[39;49;00m\u001b[33m\"\u001b[39;49;00m.format(model_info))\r\n",
      "\r\n",
      "    \u001b[37m# Determine the device and construct the model.\u001b[39;49;00m\r\n",
      "    device = torch.device(\u001b[33m\"\u001b[39;49;00m\u001b[33mcuda\u001b[39;49;00m\u001b[33m\"\u001b[39;49;00m \u001b[34mif\u001b[39;49;00m torch.cuda.is_available() \u001b[34melse\u001b[39;49;00m \u001b[33m\"\u001b[39;49;00m\u001b[33mcpu\u001b[39;49;00m\u001b[33m\"\u001b[39;49;00m)\r\n",
      "    model = LSTMClassifier(model_info[\u001b[33m'\u001b[39;49;00m\u001b[33membedding_dim\u001b[39;49;00m\u001b[33m'\u001b[39;49;00m], model_info[\u001b[33m'\u001b[39;49;00m\u001b[33mhidden_dim\u001b[39;49;00m\u001b[33m'\u001b[39;49;00m], model_info[\u001b[33m'\u001b[39;49;00m\u001b[33mvocab_size\u001b[39;49;00m\u001b[33m'\u001b[39;49;00m])\r\n",
      "\r\n",
      "    \u001b[37m# Load the store model parameters.\u001b[39;49;00m\r\n",
      "    model_path = os.path.join(model_dir, \u001b[33m'\u001b[39;49;00m\u001b[33mmodel.pth\u001b[39;49;00m\u001b[33m'\u001b[39;49;00m)\r\n",
      "    \u001b[34mwith\u001b[39;49;00m \u001b[36mopen\u001b[39;49;00m(model_path, \u001b[33m'\u001b[39;49;00m\u001b[33mrb\u001b[39;49;00m\u001b[33m'\u001b[39;49;00m) \u001b[34mas\u001b[39;49;00m f:\r\n",
      "        model.load_state_dict(torch.load(f))\r\n",
      "\r\n",
      "    \u001b[37m# Load the saved word_dict.\u001b[39;49;00m\r\n",
      "    word_dict_path = os.path.join(model_dir, \u001b[33m'\u001b[39;49;00m\u001b[33mword_dict.pkl\u001b[39;49;00m\u001b[33m'\u001b[39;49;00m)\r\n",
      "    \u001b[34mwith\u001b[39;49;00m \u001b[36mopen\u001b[39;49;00m(word_dict_path, \u001b[33m'\u001b[39;49;00m\u001b[33mrb\u001b[39;49;00m\u001b[33m'\u001b[39;49;00m) \u001b[34mas\u001b[39;49;00m f:\r\n",
      "        model.word_dict = pickle.load(f)\r\n",
      "\r\n",
      "    model.to(device).eval()\r\n",
      "\r\n",
      "    \u001b[34mprint\u001b[39;49;00m(\u001b[33m\"\u001b[39;49;00m\u001b[33mDone loading model.\u001b[39;49;00m\u001b[33m\"\u001b[39;49;00m)\r\n",
      "    \u001b[34mreturn\u001b[39;49;00m model\r\n",
      "\r\n",
      "\u001b[34mdef\u001b[39;49;00m \u001b[32minput_fn\u001b[39;49;00m(serialized_input_data, content_type):\r\n",
      "    \u001b[34mprint\u001b[39;49;00m(\u001b[33m'\u001b[39;49;00m\u001b[33mDeserializing the input data.\u001b[39;49;00m\u001b[33m'\u001b[39;49;00m)\r\n",
      "    \u001b[34mif\u001b[39;49;00m content_type == \u001b[33m'\u001b[39;49;00m\u001b[33mtext/plain\u001b[39;49;00m\u001b[33m'\u001b[39;49;00m:\r\n",
      "        data = serialized_input_data.decode(\u001b[33m'\u001b[39;49;00m\u001b[33mutf-8\u001b[39;49;00m\u001b[33m'\u001b[39;49;00m)\r\n",
      "        \u001b[34mreturn\u001b[39;49;00m data\r\n",
      "    \u001b[34mraise\u001b[39;49;00m \u001b[36mException\u001b[39;49;00m(\u001b[33m'\u001b[39;49;00m\u001b[33mRequested unsupported ContentType in content_type: \u001b[39;49;00m\u001b[33m'\u001b[39;49;00m + content_type)\r\n",
      "\r\n",
      "\u001b[34mdef\u001b[39;49;00m \u001b[32moutput_fn\u001b[39;49;00m(prediction_output, accept):\r\n",
      "    \u001b[34mprint\u001b[39;49;00m(\u001b[33m'\u001b[39;49;00m\u001b[33mSerializing the generated output.\u001b[39;49;00m\u001b[33m'\u001b[39;49;00m)\r\n",
      "    \u001b[34mreturn\u001b[39;49;00m \u001b[36mstr\u001b[39;49;00m(prediction_output)\r\n",
      "\r\n",
      "\u001b[34mdef\u001b[39;49;00m \u001b[32mpredict_fn\u001b[39;49;00m(input_data, model):\r\n",
      "    \u001b[34mprint\u001b[39;49;00m(\u001b[33m'\u001b[39;49;00m\u001b[33mInferring sentiment of input data.\u001b[39;49;00m\u001b[33m'\u001b[39;49;00m)\r\n",
      "\r\n",
      "    device = torch.device(\u001b[33m\"\u001b[39;49;00m\u001b[33mcuda\u001b[39;49;00m\u001b[33m\"\u001b[39;49;00m \u001b[34mif\u001b[39;49;00m torch.cuda.is_available() \u001b[34melse\u001b[39;49;00m \u001b[33m\"\u001b[39;49;00m\u001b[33mcpu\u001b[39;49;00m\u001b[33m\"\u001b[39;49;00m)\r\n",
      "    \r\n",
      "    \u001b[34mif\u001b[39;49;00m model.word_dict \u001b[35mis\u001b[39;49;00m \u001b[36mNone\u001b[39;49;00m:\r\n",
      "        \u001b[34mraise\u001b[39;49;00m \u001b[36mException\u001b[39;49;00m(\u001b[33m'\u001b[39;49;00m\u001b[33mModel has not been loaded properly, no word_dict.\u001b[39;49;00m\u001b[33m'\u001b[39;49;00m)\r\n",
      "    \r\n",
      "    \u001b[37m# TODO: Process input_data so that it is ready to be sent to our model.\u001b[39;49;00m\r\n",
      "    \u001b[37m#       You should produce two variables:\u001b[39;49;00m\r\n",
      "    \u001b[37m#         data_X   - A sequence of length 500 which represents the converted review\u001b[39;49;00m\r\n",
      "    \u001b[37m#         data_len - The length of the review\u001b[39;49;00m\r\n",
      "    \r\n",
      "    data_X = \u001b[36mNone\u001b[39;49;00m\r\n",
      "    data_len = \u001b[36mNone\u001b[39;49;00m\r\n",
      "    \r\n",
      "    review_words = review_to_words(input_data)\r\n",
      "    data_X, data_len = convert_and_pad(model.word_dict, review_words)\r\n",
      "\r\n",
      "    \u001b[37m# Using data_X and data_len we construct an appropriate input tensor. Remember\u001b[39;49;00m\r\n",
      "    \u001b[37m# that our model expects input data of the form 'len, review[500]'.\u001b[39;49;00m\r\n",
      "    data_pack = np.hstack((data_len, data_X))\r\n",
      "    data_pack = data_pack.reshape(\u001b[34m1\u001b[39;49;00m, -\u001b[34m1\u001b[39;49;00m)\r\n",
      "    \r\n",
      "    data = torch.from_numpy(data_pack)\r\n",
      "    data = data.to(device)\r\n",
      "\r\n",
      "    \u001b[37m# Make sure to put the model into evaluation mode\u001b[39;49;00m\r\n",
      "    model.eval()\r\n",
      "\r\n",
      "    \u001b[37m# TODO: Compute the result of applying the model to the input data. The variable `result` should\u001b[39;49;00m\r\n",
      "    \u001b[37m#       be a numpy array which contains a single integer which is either 1 or 0\u001b[39;49;00m\r\n",
      "\r\n",
      "    \r\n",
      "    \u001b[34mwith\u001b[39;49;00m torch.no_grad():\r\n",
      "        output = model.forward(data)\r\n",
      "        \r\n",
      "    result = np.round(output.numpy())\r\n",
      "\r\n",
      "    \u001b[34mreturn\u001b[39;49;00m result\r\n"
     ]
    }
   ],
   "source": [
    "!pygmentize serve/predict.py"
   ]
  },
  {
   "cell_type": "markdown",
   "metadata": {},
   "source": [
    "As mentioned earlier, the `model_fn` method is the same as the one provided in the training code and the `input_fn` and `output_fn` methods are very simple and your task will be to complete the `predict_fn` method. Make sure that you save the completed file as `predict.py` in the `serve` directory.\n",
    "\n",
    "**TODO**: Complete the `predict_fn()` method in the `serve/predict.py` file."
   ]
  },
  {
   "cell_type": "markdown",
   "metadata": {},
   "source": [
    "### Deploying the model\n",
    "\n",
    "Now that the custom inference code has been written, we will create and deploy our model. To begin with, we need to construct a new PyTorchModel object which points to the model artifacts created during training and also points to the inference code that we wish to use. Then we can call the deploy method to launch the deployment container.\n",
    "\n",
    "**NOTE**: The default behaviour for a deployed PyTorch model is to assume that any input passed to the predictor is a `numpy` array. In our case we want to send a string so we need to construct a simple wrapper around the `RealTimePredictor` class to accomodate simple strings. In a more complicated situation you may want to provide a serialization object, for example if you wanted to sent image data."
   ]
  },
  {
   "cell_type": "code",
   "execution_count": 76,
   "metadata": {},
   "outputs": [
    {
     "name": "stdout",
     "output_type": "stream",
     "text": [
      "---------------------------------------------------------------------------------------!"
     ]
    }
   ],
   "source": [
    "from sagemaker.predictor import RealTimePredictor\n",
    "from sagemaker.pytorch import PyTorchModel\n",
    "\n",
    "class StringPredictor(RealTimePredictor):\n",
    "    def __init__(self, endpoint_name, sagemaker_session):\n",
    "        super(StringPredictor, self).__init__(endpoint_name, sagemaker_session, content_type='text/plain')\n",
    "\n",
    "model = PyTorchModel(model_data=estimator.model_data,\n",
    "                     role = role,\n",
    "                     framework_version='0.4.0',\n",
    "                     entry_point='predict.py',\n",
    "                     source_dir='serve',\n",
    "                     predictor_cls=StringPredictor)\n",
    "predictor = model.deploy(initial_instance_count=1, instance_type='ml.m4.xlarge')"
   ]
  },
  {
   "cell_type": "markdown",
   "metadata": {},
   "source": [
    "### Testing the model\n",
    "\n",
    "Now that we have deployed our model with the custom inference code, we should test to see if everything is working. Here we test our model by loading the first `250` positive and negative reviews and send them to the endpoint, then collect the results. The reason for only sending some of the data is that the amount of time it takes for our model to process the input and then perform inference is quite long and so testing the entire data set would be prohibitive."
   ]
  },
  {
   "cell_type": "code",
   "execution_count": 77,
   "metadata": {},
   "outputs": [],
   "source": [
    "import glob\n",
    "\n",
    "def test_reviews(data_dir='../data/aclImdb', stop=250):\n",
    "    \n",
    "    results = []\n",
    "    ground = []\n",
    "    \n",
    "    # We make sure to test both positive and negative reviews    \n",
    "    for sentiment in ['pos', 'neg']:\n",
    "        \n",
    "        path = os.path.join(data_dir, 'test', sentiment, '*.txt')\n",
    "        files = glob.glob(path)\n",
    "        \n",
    "        files_read = 0\n",
    "        \n",
    "        print('Starting ', sentiment, ' files')\n",
    "        \n",
    "        # Iterate through the files and send them to the predictor\n",
    "        for f in files:\n",
    "            with open(f) as review:\n",
    "                # First, we store the ground truth (was the review positive or negative)\n",
    "                if sentiment == 'pos':\n",
    "                    ground.append(1)\n",
    "                else:\n",
    "                    ground.append(0)\n",
    "                # Read in the review and convert to 'utf-8' for transmission via HTTP\n",
    "                review_input = review.read().encode('utf-8')\n",
    "                # Send the review to the predictor and store the results\n",
    "                results.append(float(predictor.predict(review_input)))\n",
    "                \n",
    "            # Sending reviews to our endpoint one at a time takes a while so we\n",
    "            # only send a small number of reviews\n",
    "            files_read += 1\n",
    "            if files_read == stop:\n",
    "                break\n",
    "            \n",
    "    return ground, results"
   ]
  },
  {
   "cell_type": "code",
   "execution_count": 85,
   "metadata": {},
   "outputs": [
    {
     "name": "stdout",
     "output_type": "stream",
     "text": [
      "Starting  pos  files\n",
      "Starting  neg  files\n"
     ]
    }
   ],
   "source": [
    "ground, results = test_reviews()"
   ]
  },
  {
   "cell_type": "code",
   "execution_count": 86,
   "metadata": {},
   "outputs": [
    {
     "data": {
      "text/plain": [
       "0.826"
      ]
     },
     "execution_count": 86,
     "metadata": {},
     "output_type": "execute_result"
    }
   ],
   "source": [
    "from sklearn.metrics import accuracy_score\n",
    "accuracy_score(ground, results)"
   ]
  },
  {
   "cell_type": "markdown",
   "metadata": {},
   "source": [
    "As an additional test, we can try sending the `test_review` that we looked at earlier."
   ]
  },
  {
   "cell_type": "code",
   "execution_count": 87,
   "metadata": {},
   "outputs": [
    {
     "data": {
      "text/plain": [
       "b'1.0'"
      ]
     },
     "execution_count": 87,
     "metadata": {},
     "output_type": "execute_result"
    }
   ],
   "source": [
    "predictor.predict(test_review)"
   ]
  },
  {
   "cell_type": "code",
   "execution_count": 81,
   "metadata": {},
   "outputs": [],
   "source": [
    "# predictor.delete_endpoint()"
   ]
  },
  {
   "cell_type": "markdown",
   "metadata": {},
   "source": [
    "Now that we know our endpoint is working as expected, we can set up the web page that will interact with it. If you don't have time to finish the project now, make sure to skip down to the end of this notebook and shut down your endpoint. You can deploy it again when you come back."
   ]
  },
  {
   "cell_type": "markdown",
   "metadata": {},
   "source": [
    "## Step 7 (again): Use the model for the web app\n",
    "\n",
    "> **TODO:** This entire section and the next contain tasks for you to complete, mostly using the AWS console.\n",
    "\n",
    "So far we have been accessing our model endpoint by constructing a predictor object which uses the endpoint and then just using the predictor object to perform inference. What if we wanted to create a web app which accessed our model? The way things are set up currently makes that not possible since in order to access a SageMaker endpoint the app would first have to authenticate with AWS using an IAM role which included access to SageMaker endpoints. However, there is an easier way! We just need to use some additional AWS services.\n",
    "\n",
    "<img src=\"Web App Diagram.svg\">\n",
    "\n",
    "The diagram above gives an overview of how the various services will work together. On the far right is the model which we trained above and which is deployed using SageMaker. On the far left is our web app that collects a user's movie review, sends it off and expects a positive or negative sentiment in return.\n",
    "\n",
    "In the middle is where some of the magic happens. We will construct a Lambda function, which you can think of as a straightforward Python function that can be executed whenever a specified event occurs. We will give this function permission to send and recieve data from a SageMaker endpoint.\n",
    "\n",
    "Lastly, the method we will use to execute the Lambda function is a new endpoint that we will create using API Gateway. This endpoint will be a url that listens for data to be sent to it. Once it gets some data it will pass that data on to the Lambda function and then return whatever the Lambda function returns. Essentially it will act as an interface that lets our web app communicate with the Lambda function.\n",
    "\n",
    "### Setting up a Lambda function\n",
    "\n",
    "The first thing we are going to do is set up a Lambda function. This Lambda function will be executed whenever our public API has data sent to it. When it is executed it will receive the data, perform any sort of processing that is required, send the data (the review) to the SageMaker endpoint we've created and then return the result.\n",
    "\n",
    "#### Part A: Create an IAM Role for the Lambda function\n",
    "\n",
    "Since we want the Lambda function to call a SageMaker endpoint, we need to make sure that it has permission to do so. To do this, we will construct a role that we can later give the Lambda function.\n",
    "\n",
    "Using the AWS Console, navigate to the **IAM** page and click on **Roles**. Then, click on **Create role**. Make sure that the **AWS service** is the type of trusted entity selected and choose **Lambda** as the service that will use this role, then click **Next: Permissions**.\n",
    "\n",
    "In the search box type `sagemaker` and select the check box next to the **AmazonSageMakerFullAccess** policy. Then, click on **Next: Review**.\n",
    "\n",
    "Lastly, give this role a name. Make sure you use a name that you will remember later on, for example `LambdaSageMakerRole`. Then, click on **Create role**.\n",
    "\n",
    "#### Part B: Create a Lambda function\n",
    "\n",
    "Now it is time to actually create the Lambda function.\n",
    "\n",
    "Using the AWS Console, navigate to the AWS Lambda page and click on **Create a function**. When you get to the next page, make sure that **Author from scratch** is selected. Now, name your Lambda function, using a name that you will remember later on, for example `sentiment_analysis_func`. Make sure that the **Python 3.6** runtime is selected and then choose the role that you created in the previous part. Then, click on **Create Function**.\n",
    "\n",
    "On the next page you will see some information about the Lambda function you've just created. If you scroll down you should see an editor in which you can write the code that will be executed when your Lambda function is triggered. In our example, we will use the code below. \n",
    "\n",
    "```python\n",
    "# We need to use the low-level library to interact with SageMaker since the SageMaker API\n",
    "# is not available natively through Lambda.\n",
    "import boto3\n",
    "\n",
    "def lambda_handler(event, context):\n",
    "\n",
    "    # The SageMaker runtime is what allows us to invoke the endpoint that we've created.\n",
    "    runtime = boto3.Session().client('sagemaker-runtime')\n",
    "\n",
    "    # Now we use the SageMaker runtime to invoke our endpoint, sending the review we were given\n",
    "    response = runtime.invoke_endpoint(EndpointName = '**ENDPOINT NAME HERE**',    # The name of the endpoint we created\n",
    "                                       ContentType = 'text/plain',                 # The data format that is expected\n",
    "                                       Body = event['body'])                       # The actual review\n",
    "\n",
    "    # The response is an HTTP response whose body contains the result of our inference\n",
    "    result = response['Body'].read().decode('utf-8')\n",
    "\n",
    "    return {\n",
    "        'statusCode' : 200,\n",
    "        'headers' : { 'Content-Type' : 'text/plain', 'Access-Control-Allow-Origin' : '*' },\n",
    "        'body' : result\n",
    "    }\n",
    "```\n",
    "\n",
    "Once you have copy and pasted the code above into the Lambda code editor, replace the `**ENDPOINT NAME HERE**` portion with the name of the endpoint that we deployed earlier. You can determine the name of the endpoint using the code cell below."
   ]
  },
  {
   "cell_type": "code",
   "execution_count": 84,
   "metadata": {},
   "outputs": [
    {
     "data": {
      "text/plain": [
       "'sagemaker-pytorch-2019-06-08-11-21-32-073'"
      ]
     },
     "execution_count": 84,
     "metadata": {},
     "output_type": "execute_result"
    }
   ],
   "source": [
    "predictor.endpoint"
   ]
  },
  {
   "cell_type": "code",
   "execution_count": 88,
   "metadata": {
    "scrolled": true
   },
   "outputs": [
    {
     "name": "stdout",
     "output_type": "stream",
     "text": [
      "{'movi': 2, 'film': 3, 'one': 4, 'like': 5, 'time': 6, 'good': 7, 'make': 8, 'charact': 9, 'get': 10, 'see': 11, 'watch': 12, 'stori': 13, 'even': 14, 'would': 15, 'realli': 16, 'well': 17, 'scene': 18, 'look': 19, 'show': 20, 'much': 21, 'end': 22, 'peopl': 23, 'bad': 24, 'go': 25, 'great': 26, 'also': 27, 'first': 28, 'love': 29, 'think': 30, 'way': 31, 'act': 32, 'play': 33, 'made': 34, 'thing': 35, 'could': 36, 'know': 37, 'say': 38, 'seem': 39, 'work': 40, 'plot': 41, 'two': 42, 'actor': 43, 'year': 44, 'come': 45, 'mani': 46, 'seen': 47, 'take': 48, 'life': 49, 'want': 50, 'never': 51, 'littl': 52, 'best': 53, 'tri': 54, 'man': 55, 'ever': 56, 'give': 57, 'better': 58, 'still': 59, 'perform': 60, 'find': 61, 'feel': 62, 'part': 63, 'back': 64, 'use': 65, 'someth': 66, 'director': 67, 'actual': 68, 'interest': 69, 'lot': 70, 'real': 71, 'old': 72, 'cast': 73, 'though': 74, 'live': 75, 'star': 76, 'enjoy': 77, 'guy': 78, 'anoth': 79, 'new': 80, 'role': 81, 'noth': 82, '10': 83, 'funni': 84, 'music': 85, 'point': 86, 'start': 87, 'set': 88, 'girl': 89, 'origin': 90, 'day': 91, 'world': 92, 'everi': 93, 'believ': 94, 'turn': 95, 'quit': 96, 'us': 97, 'direct': 98, 'thought': 99, 'fact': 100, 'minut': 101, 'horror': 102, 'kill': 103, 'action': 104, 'comedi': 105, 'pretti': 106, 'young': 107, 'wonder': 108, 'happen': 109, 'around': 110, 'got': 111, 'effect': 112, 'right': 113, 'long': 114, 'howev': 115, 'big': 116, 'line': 117, 'famili': 118, 'enough': 119, 'seri': 120, 'may': 121, 'need': 122, 'fan': 123, 'bit': 124, 'script': 125, 'beauti': 126, 'person': 127, 'becom': 128, 'without': 129, 'must': 130, 'alway': 131, 'friend': 132, 'tell': 133, 'reason': 134, 'saw': 135, 'last': 136, 'final': 137, 'kid': 138, 'almost': 139, 'put': 140, 'least': 141, 'sure': 142, 'done': 143, 'whole': 144, 'place': 145, 'complet': 146, 'kind': 147, 'expect': 148, 'differ': 149, 'shot': 150, 'far': 151, 'mean': 152, 'anyth': 153, 'book': 154, 'laugh': 155, 'might': 156, 'name': 157, 'sinc': 158, 'begin': 159, '2': 160, 'probabl': 161, 'woman': 162, 'help': 163, 'entertain': 164, 'let': 165, 'screen': 166, 'call': 167, 'tv': 168, 'moment': 169, 'away': 170, 'read': 171, 'yet': 172, 'rather': 173, 'worst': 174, 'run': 175, 'fun': 176, 'lead': 177, 'hard': 178, 'audienc': 179, 'idea': 180, 'anyon': 181, 'episod': 182, 'american': 183, 'found': 184, 'appear': 185, 'bore': 186, 'especi': 187, 'although': 188, 'hope': 189, 'keep': 190, 'cours': 191, 'anim': 192, 'job': 193, 'goe': 194, 'move': 195, 'sens': 196, 'version': 197, 'dvd': 198, 'war': 199, 'money': 200, 'someon': 201, 'mind': 202, 'mayb': 203, 'problem': 204, 'true': 205, 'hous': 206, 'everyth': 207, 'nice': 208, 'second': 209, 'rate': 210, 'three': 211, 'night': 212, 'face': 213, 'follow': 214, 'recommend': 215, 'product': 216, 'main': 217, 'worth': 218, 'leav': 219, 'human': 220, 'special': 221, 'excel': 222, 'togeth': 223, 'wast': 224, 'sound': 225, 'everyon': 226, 'john': 227, 'hand': 228, '1': 229, 'father': 230, 'later': 231, 'eye': 232, 'said': 233, 'view': 234, 'instead': 235, 'review': 236, 'boy': 237, 'high': 238, 'hour': 239, 'miss': 240, 'classic': 241, 'talk': 242, 'wife': 243, 'understand': 244, 'left': 245, 'care': 246, 'black': 247, 'death': 248, 'open': 249, 'murder': 250, 'write': 251, 'half': 252, 'head': 253, 'rememb': 254, 'chang': 255, 'viewer': 256, 'fight': 257, 'gener': 258, 'surpris': 259, 'includ': 260, 'short': 261, 'die': 262, 'fall': 263, 'less': 264, 'els': 265, 'entir': 266, 'piec': 267, 'involv': 268, 'pictur': 269, 'simpli': 270, 'power': 271, 'home': 272, 'top': 273, 'total': 274, 'usual': 275, 'budget': 276, 'attempt': 277, 'suppos': 278, 'releas': 279, 'hollywood': 280, 'terribl': 281, 'song': 282, 'men': 283, 'possibl': 284, 'featur': 285, 'portray': 286, 'disappoint': 287, 'poor': 288, '3': 289, 'coupl': 290, 'camera': 291, 'stupid': 292, 'dead': 293, 'wrong': 294, 'produc': 295, 'low': 296, 'either': 297, 'video': 298, 'aw': 299, 'definit': 300, 'except': 301, 'rest': 302, 'given': 303, 'absolut': 304, 'women': 305, 'lack': 306, 'word': 307, 'writer': 308, 'titl': 309, 'talent': 310, 'decid': 311, 'full': 312, 'perfect': 313, 'along': 314, 'style': 315, 'close': 316, 'truli': 317, 'school': 318, 'emot': 319, 'save': 320, 'age': 321, 'sex': 322, 'next': 323, 'bring': 324, 'mr': 325, 'case': 326, 'killer': 327, 'heart': 328, 'comment': 329, 'sort': 330, 'creat': 331, 'perhap': 332, 'came': 333, 'brother': 334, 'sever': 335, 'joke': 336, 'art': 337, 'dialogu': 338, 'game': 339, 'small': 340, 'base': 341, 'flick': 342, 'written': 343, 'sequenc': 344, 'meet': 345, 'earli': 346, 'often': 347, 'other': 348, 'mother': 349, 'develop': 350, 'humor': 351, 'actress': 352, 'consid': 353, 'dark': 354, 'guess': 355, 'amaz': 356, 'unfortun': 357, 'light': 358, 'lost': 359, 'exampl': 360, 'cinema': 361, 'drama': 362, 'white': 363, 'ye': 364, 'experi': 365, 'imagin': 366, 'mention': 367, 'stop': 368, 'natur': 369, 'forc': 370, 'manag': 371, 'felt': 372, 'present': 373, 'cut': 374, 'children': 375, 'fail': 376, 'son': 377, 'support': 378, 'qualiti': 379, 'car': 380, 'ask': 381, 'hit': 382, 'side': 383, 'voic': 384, 'extrem': 385, 'impress': 386, 'wors': 387, 'evil': 388, 'stand': 389, 'went': 390, 'certainli': 391, 'basic': 392, 'oh': 393, 'overal': 394, 'favorit': 395, 'horribl': 396, 'mysteri': 397, 'number': 398, 'type': 399, 'danc': 400, 'wait': 401, 'hero': 402, '5': 403, 'alreadi': 404, 'learn': 405, 'matter': 406, '4': 407, 'michael': 408, 'genr': 409, 'fine': 410, 'despit': 411, 'throughout': 412, 'walk': 413, 'success': 414, 'histori': 415, 'question': 416, 'zombi': 417, 'town': 418, 'relationship': 419, 'realiz': 420, 'child': 421, 'past': 422, 'daughter': 423, 'late': 424, 'b': 425, 'wish': 426, 'hate': 427, 'credit': 428, 'event': 429, 'theme': 430, 'touch': 431, 'citi': 432, 'today': 433, 'sometim': 434, 'behind': 435, 'god': 436, 'twist': 437, 'sit': 438, 'deal': 439, 'stay': 440, 'annoy': 441, 'abl': 442, 'rent': 443, 'pleas': 444, 'edit': 445, 'blood': 446, 'deserv': 447, 'comic': 448, 'anyway': 449, 'appar': 450, 'soon': 451, 'gave': 452, 'etc': 453, 'level': 454, 'slow': 455, 'chanc': 456, 'score': 457, 'bodi': 458, 'brilliant': 459, 'incred': 460, 'figur': 461, 'situat': 462, 'self': 463, 'major': 464, 'stuff': 465, 'decent': 466, 'element': 467, 'dream': 468, 'return': 469, 'obvious': 470, 'order': 471, 'continu': 472, 'pace': 473, 'ridicul': 474, 'happi': 475, 'highli': 476, 'add': 477, 'group': 478, 'thank': 479, 'ladi': 480, 'novel': 481, 'pain': 482, 'speak': 483, 'career': 484, 'shoot': 485, 'strang': 486, 'heard': 487, 'sad': 488, 'polic': 489, 'husband': 490, 'import': 491, 'break': 492, 'took': 493, 'strong': 494, 'cannot': 495, 'predict': 496, 'robert': 497, 'violenc': 498, 'hilari': 499, 'recent': 500, 'countri': 501, 'known': 502, 'particularli': 503, 'pick': 504, 'documentari': 505, 'season': 506, 'critic': 507, 'jame': 508, 'compar': 509, 'obviou': 510, 'alon': 511, 'told': 512, 'state': 513, 'visual': 514, 'rock': 515, 'offer': 516, 'exist': 517, 'theater': 518, 'opinion': 519, 'gore': 520, 'crap': 521, 'hold': 522, 'result': 523, 'room': 524, 'realiti': 525, 'hear': 526, 'clich': 527, 'effort': 528, 'thriller': 529, 'caus': 530, 'sequel': 531, 'serious': 532, 'explain': 533, 'king': 534, 'local': 535, 'ago': 536, 'hell': 537, 'none': 538, 'note': 539, 'allow': 540, 'sister': 541, 'david': 542, 'simpl': 543, 'femal': 544, 'deliv': 545, 'ok': 546, 'convinc': 547, 'class': 548, 'check': 549, 'suspens': 550, 'win': 551, 'oscar': 552, 'buy': 553, 'huge': 554, 'valu': 555, 'sexual': 556, 'cool': 557, 'scari': 558, 'excit': 559, 'similar': 560, 'provid': 561, 'apart': 562, 'exactli': 563, 'shown': 564, 'avoid': 565, 'seriou': 566, 'english': 567, 'whose': 568, 'taken': 569, 'cinematographi': 570, 'shock': 571, 'polit': 572, 'spoiler': 573, 'offic': 574, 'across': 575, 'middl': 576, 'street': 577, 'pass': 578, 'messag': 579, 'silli': 580, 'somewhat': 581, 'charm': 582, 'modern': 583, 'filmmak': 584, 'confus': 585, 'form': 586, 'tale': 587, 'singl': 588, 'jack': 589, 'mostli': 590, 'carri': 591, 'attent': 592, 'william': 593, 'sing': 594, 'subject': 595, 'five': 596, 'prove': 597, 'richard': 598, 'team': 599, 'stage': 600, 'cop': 601, 'unlik': 602, 'georg': 603, 'monster': 604, 'televis': 605, 'earth': 606, 'cover': 607, 'villain': 608, 'pay': 609, 'marri': 610, 'toward': 611, 'build': 612, 'pull': 613, 'parent': 614, 'due': 615, 'fill': 616, 'respect': 617, 'dialog': 618, 'four': 619, 'remind': 620, 'futur': 621, 'weak': 622, 'typic': 623, '7': 624, 'cheap': 625, 'intellig': 626, 'british': 627, 'atmospher': 628, '80': 629, 'clearli': 630, 'paul': 631, 'dog': 632, 'non': 633, 'artist': 634, 'knew': 635, 'fast': 636, '8': 637, 'crime': 638, 'easili': 639, 'escap': 640, 'doubt': 641, 'adult': 642, 'detail': 643, 'date': 644, 'member': 645, 'romant': 646, 'fire': 647, 'gun': 648, 'drive': 649, 'straight': 650, 'beyond': 651, 'fit': 652, 'attack': 653, 'imag': 654, 'upon': 655, 'posit': 656, 'whether': 657, 'peter': 658, 'fantast': 659, 'appreci': 660, 'aspect': 661, 'captur': 662, 'ten': 663, 'plan': 664, 'discov': 665, 'remain': 666, 'period': 667, 'near': 668, 'realist': 669, 'air': 670, 'mark': 671, 'red': 672, 'dull': 673, 'adapt': 674, 'within': 675, 'spend': 676, 'lose': 677, 'color': 678, 'materi': 679, 'chase': 680, 'mari': 681, 'storylin': 682, 'forget': 683, 'bunch': 684, 'clear': 685, 'lee': 686, 'victim': 687, 'nearli': 688, 'box': 689, 'york': 690, 'inspir': 691, 'match': 692, 'finish': 693, 'mess': 694, 'standard': 695, 'easi': 696, 'truth': 697, 'busi': 698, 'suffer': 699, 'dramat': 700, 'bill': 701, 'space': 702, 'western': 703, 'e': 704, 'list': 705, 'battl': 706, 'notic': 707, 'de': 708, 'french': 709, 'ad': 710, '9': 711, 'tom': 712, 'larg': 713, 'among': 714, 'eventu': 715, 'train': 716, 'accept': 717, 'agre': 718, 'soundtrack': 719, 'spirit': 720, 'third': 721, 'teenag': 722, 'adventur': 723, 'soldier': 724, 'sorri': 725, 'suggest': 726, 'drug': 727, 'famou': 728, 'babi': 729, 'cri': 730, 'normal': 731, 'troubl': 732, 'ultim': 733, 'contain': 734, 'certain': 735, 'cultur': 736, 'romanc': 737, 'rare': 738, 'lame': 739, 'somehow': 740, 'mix': 741, 'disney': 742, 'gone': 743, 'cartoon': 744, 'student': 745, 'fear': 746, 'reveal': 747, 'kept': 748, 'suck': 749, 'attract': 750, 'appeal': 751, 'premis': 752, 'greatest': 753, 'secret': 754, 'design': 755, 'shame': 756, 'throw': 757, 'copi': 758, 'scare': 759, 'wit': 760, 'admit': 761, 'america': 762, 'particular': 763, 'relat': 764, 'brought': 765, 'screenplay': 766, 'whatev': 767, 'pure': 768, '70': 769, 'averag': 770, 'harri': 771, 'master': 772, 'describ': 773, 'treat': 774, 'male': 775, '20': 776, 'fantasi': 777, 'issu': 778, 'warn': 779, 'inde': 780, 'forward': 781, 'background': 782, 'free': 783, 'project': 784, 'japanes': 785, 'memor': 786, 'poorli': 787, 'award': 788, 'locat': 789, 'amus': 790, 'potenti': 791, 'struggl': 792, 'weird': 793, 'magic': 794, 'societi': 795, 'okay': 796, 'doctor': 797, 'imdb': 798, 'accent': 799, 'hot': 800, 'water': 801, 'alien': 802, 'dr': 803, '30': 804, 'express': 805, 'odd': 806, 'choic': 807, 'crazi': 808, 'studio': 809, 'fiction': 810, 'control': 811, 'becam': 812, 'masterpiec': 813, 'difficult': 814, 'fli': 815, 'joe': 816, 'scream': 817, 'costum': 818, 'lover': 819, 'uniqu': 820, 'refer': 821, 'remak': 822, 'girlfriend': 823, 'vampir': 824, 'prison': 825, 'execut': 826, 'wear': 827, 'jump': 828, 'unless': 829, 'wood': 830, 'creepi': 831, 'cheesi': 832, 'superb': 833, 'otherwis': 834, 'parti': 835, 'roll': 836, 'ghost': 837, 'public': 838, 'mad': 839, 'depict': 840, 'earlier': 841, 'jane': 842, 'badli': 843, 'moral': 844, 'week': 845, 'fi': 846, 'dumb': 847, 'flaw': 848, 'grow': 849, 'sci': 850, 'deep': 851, 'maker': 852, 'cat': 853, 'older': 854, 'connect': 855, 'footag': 856, 'bother': 857, 'plenti': 858, 'outsid': 859, 'stick': 860, 'gay': 861, 'catch': 862, 'plu': 863, 'co': 864, 'popular': 865, 'equal': 866, 'social': 867, 'disturb': 868, 'quickli': 869, 'perfectli': 870, 'dress': 871, 'era': 872, '90': 873, 'mistak': 874, 'lie': 875, 'ride': 876, 'previou': 877, 'combin': 878, 'band': 879, 'concept': 880, 'surviv': 881, 'answer': 882, 'rich': 883, 'front': 884, 'sweet': 885, 'christma': 886, 'insid': 887, 'eat': 888, 'bare': 889, 'concern': 890, 'beat': 891, 'listen': 892, 'ben': 893, 'c': 894, 'serv': 895, 'term': 896, 'meant': 897, 'la': 898, 'german': 899, 'stereotyp': 900, 'hardli': 901, 'law': 902, 'innoc': 903, 'desper': 904, 'memori': 905, 'promis': 906, 'cute': 907, 'intent': 908, 'inform': 909, 'variou': 910, 'steal': 911, 'brain': 912, 'post': 913, 'tone': 914, 'island': 915, 'amount': 916, 'nuditi': 917, 'compani': 918, 'track': 919, 'store': 920, 'claim': 921, 'flat': 922, '50': 923, 'hair': 924, 'land': 925, 'univers': 926, 'kick': 927, 'danger': 928, 'scott': 929, 'fairli': 930, 'player': 931, 'plain': 932, 'step': 933, 'crew': 934, 'toni': 935, 'share': 936, 'centuri': 937, 'tast': 938, 'engag': 939, 'achiev': 940, 'travel': 941, 'cold': 942, 'suit': 943, 'rip': 944, 'record': 945, 'sadli': 946, 'manner': 947, 'spot': 948, 'tension': 949, 'wrote': 950, 'intens': 951, 'fascin': 952, 'familiar': 953, 'burn': 954, 'remark': 955, 'depth': 956, 'histor': 957, 'destroy': 958, 'sleep': 959, 'purpos': 960, 'languag': 961, 'ignor': 962, 'ruin': 963, 'delight': 964, 'unbeliev': 965, 'italian': 966, 'collect': 967, 'soul': 968, 'abil': 969, 'clever': 970, 'detect': 971, 'violent': 972, 'rape': 973, 'reach': 974, 'door': 975, 'scienc': 976, 'trash': 977, 'liter': 978, 'caught': 979, 'reveng': 980, 'commun': 981, 'creatur': 982, 'trip': 983, 'approach': 984, 'fashion': 985, 'intrigu': 986, 'skill': 987, 'paint': 988, 'introduc': 989, 'complex': 990, 'channel': 991, 'camp': 992, 'christian': 993, 'extra': 994, 'hole': 995, 'limit': 996, 'immedi': 997, 'ann': 998, 'mental': 999, 'million': 1000, 'mere': 1001, '6': 1002, 'comput': 1003, 'slightli': 1004, 'conclus': 1005, 'slasher': 1006, 'suddenli': 1007, 'imposs': 1008, 'crimin': 1009, 'teen': 1010, 'neither': 1011, 'nation': 1012, 'spent': 1013, 'physic': 1014, 'respons': 1015, 'planet': 1016, 'receiv': 1017, 'fake': 1018, 'sick': 1019, 'blue': 1020, 'bizarr': 1021, 'embarrass': 1022, 'indian': 1023, 'ring': 1024, '15': 1025, 'pop': 1026, 'drop': 1027, 'drag': 1028, 'haunt': 1029, 'pointless': 1030, 'suspect': 1031, 'search': 1032, 'edg': 1033, 'handl': 1034, 'common': 1035, 'biggest': 1036, 'faith': 1037, 'hurt': 1038, 'arriv': 1039, 'technic': 1040, 'angel': 1041, 'dad': 1042, 'genuin': 1043, 'solid': 1044, 'awesom': 1045, 'f': 1046, 'van': 1047, 'former': 1048, 'focu': 1049, 'colleg': 1050, 'count': 1051, 'tear': 1052, 'heavi': 1053, 'wall': 1054, 'rais': 1055, 'visit': 1056, 'laughabl': 1057, 'younger': 1058, 'fair': 1059, 'excus': 1060, 'sign': 1061, 'cult': 1062, 'motion': 1063, 'tough': 1064, 'key': 1065, 'desir': 1066, 'super': 1067, 'stun': 1068, 'addit': 1069, 'exploit': 1070, 'cloth': 1071, 'smith': 1072, 'tortur': 1073, 'race': 1074, 'davi': 1075, 'cross': 1076, 'author': 1077, 'jim': 1078, 'compel': 1079, 'focus': 1080, 'minor': 1081, 'consist': 1082, 'chemistri': 1083, 'pathet': 1084, 'commit': 1085, 'park': 1086, 'tradit': 1087, 'frank': 1088, 'obsess': 1089, 'grade': 1090, '60': 1091, 'asid': 1092, 'brutal': 1093, 'somewher': 1094, 'steve': 1095, 'u': 1096, 'depress': 1097, 'explor': 1098, 'opportun': 1099, 'grant': 1100, 'rule': 1101, 'besid': 1102, 'honest': 1103, 'dub': 1104, 'anti': 1105, 'trailer': 1106, 'intend': 1107, 'bar': 1108, 'west': 1109, 'longer': 1110, 'regard': 1111, 'scientist': 1112, 'decad': 1113, 'judg': 1114, 'silent': 1115, 'armi': 1116, 'creativ': 1117, 'wild': 1118, 'g': 1119, 'stewart': 1120, 'south': 1121, 'draw': 1122, 'road': 1123, 'govern': 1124, 'boss': 1125, 'ex': 1126, 'practic': 1127, 'festiv': 1128, 'surprisingli': 1129, 'motiv': 1130, 'club': 1131, 'gang': 1132, 'page': 1133, 'green': 1134, 'london': 1135, 'redeem': 1136, 'display': 1137, 'militari': 1138, 'idiot': 1139, 'machin': 1140, 'aliv': 1141, 'thrill': 1142, 'repeat': 1143, '100': 1144, 'yeah': 1145, 'folk': 1146, 'nobodi': 1147, '40': 1148, 'garbag': 1149, 'journey': 1150, 'ground': 1151, 'tire': 1152, 'smile': 1153, 'mood': 1154, 'bought': 1155, 'stone': 1156, 'sam': 1157, 'cost': 1158, 'noir': 1159, 'mouth': 1160, 'terrif': 1161, 'agent': 1162, 'requir': 1163, 'utterli': 1164, 'sexi': 1165, 'honestli': 1166, 'area': 1167, 'report': 1168, 'geniu': 1169, 'glad': 1170, 'enter': 1171, 'investig': 1172, 'humour': 1173, 'serial': 1174, 'passion': 1175, 'occasion': 1176, 'narr': 1177, 'marriag': 1178, 'climax': 1179, 'industri': 1180, 'studi': 1181, 'nowher': 1182, 'center': 1183, 'ship': 1184, 'demon': 1185, 'charli': 1186, 'hors': 1187, 'loos': 1188, 'bear': 1189, 'wow': 1190, 'hang': 1191, 'graphic': 1192, 'admir': 1193, 'giant': 1194, 'send': 1195, 'loud': 1196, 'damn': 1197, 'rel': 1198, 'profession': 1199, 'subtl': 1200, 'nake': 1201, 'blow': 1202, 'bottom': 1203, 'batman': 1204, 'insult': 1205, 'boyfriend': 1206, 'kelli': 1207, 'r': 1208, 'doubl': 1209, 'initi': 1210, 'frame': 1211, 'gem': 1212, 'opera': 1213, 'drawn': 1214, 'challeng': 1215, 'cinemat': 1216, 'church': 1217, 'affect': 1218, 'j': 1219, 'seek': 1220, 'evid': 1221, 'fulli': 1222, 'nightmar': 1223, 'l': 1224, 'conflict': 1225, 'arm': 1226, 'essenti': 1227, 'wind': 1228, 'christoph': 1229, 'henri': 1230, 'grace': 1231, 'narrat': 1232, 'assum': 1233, 'witch': 1234, 'hunt': 1235, 'push': 1236, 'wise': 1237, 'chri': 1238, 'nomin': 1239, 'repres': 1240, 'month': 1241, 'avail': 1242, 'sceneri': 1243, 'affair': 1244, 'hide': 1245, 'smart': 1246, 'thu': 1247, 'justic': 1248, 'bond': 1249, 'flashback': 1250, 'outstand': 1251, 'interview': 1252, 'presenc': 1253, 'constantli': 1254, 'satisfi': 1255, 'bed': 1256, 'central': 1257, 'iron': 1258, 'content': 1259, 'sell': 1260, 'everybodi': 1261, 'gag': 1262, 'slowli': 1263, 'hotel': 1264, 'hire': 1265, 'system': 1266, 'thrown': 1267, 'charl': 1268, 'adam': 1269, 'hey': 1270, 'individu': 1271, 'mediocr': 1272, 'allen': 1273, 'jone': 1274, 'lesson': 1275, 'billi': 1276, 'ray': 1277, 'photographi': 1278, 'cameo': 1279, 'fellow': 1280, 'pari': 1281, 'strike': 1282, 'brief': 1283, 'rise': 1284, 'absurd': 1285, 'independ': 1286, 'neg': 1287, 'phone': 1288, 'impact': 1289, 'born': 1290, 'model': 1291, 'ill': 1292, 'angl': 1293, 'spoil': 1294, 'fresh': 1295, 'likabl': 1296, 'abus': 1297, 'hill': 1298, 'discuss': 1299, 'ahead': 1300, 'sight': 1301, 'photograph': 1302, 'sent': 1303, 'blame': 1304, 'logic': 1305, 'shine': 1306, 'occur': 1307, 'bruce': 1308, 'mainli': 1309, 'forev': 1310, 'commerci': 1311, 'skip': 1312, 'teacher': 1313, 'surround': 1314, 'segment': 1315, 'held': 1316, 'zero': 1317, 'blond': 1318, 'resembl': 1319, 'trap': 1320, 'summer': 1321, 'satir': 1322, 'six': 1323, 'fool': 1324, 'ball': 1325, 'queen': 1326, 'tragedi': 1327, 'twice': 1328, 'sub': 1329, 'pack': 1330, 'reaction': 1331, 'bomb': 1332, 'will': 1333, 'hospit': 1334, 'protagonist': 1335, 'sport': 1336, 'mile': 1337, 'mom': 1338, 'jerri': 1339, 'trust': 1340, 'vote': 1341, 'drink': 1342, 'encount': 1343, 'plane': 1344, 'current': 1345, 'al': 1346, 'program': 1347, 'station': 1348, 'choos': 1349, 'celebr': 1350, 'martin': 1351, 'join': 1352, 'tragic': 1353, 'favourit': 1354, 'lord': 1355, 'field': 1356, 'round': 1357, 'jean': 1358, 'vision': 1359, 'robot': 1360, 'arthur': 1361, 'tie': 1362, 'random': 1363, 'roger': 1364, 'fortun': 1365, 'intern': 1366, 'dread': 1367, 'psycholog': 1368, 'epic': 1369, 'improv': 1370, 'prefer': 1371, 'nonsens': 1372, 'pleasur': 1373, 'formula': 1374, 'legend': 1375, 'highlight': 1376, 'dollar': 1377, '11': 1378, 'tape': 1379, 'thin': 1380, 'gorgeou': 1381, 'wide': 1382, 'fox': 1383, 'object': 1384, 'porn': 1385, 'influenc': 1386, 'ugli': 1387, 'buddi': 1388, 'ii': 1389, 'prepar': 1390, 'nasti': 1391, 'reflect': 1392, 'warm': 1393, 'supposedli': 1394, 'progress': 1395, 'youth': 1396, 'worthi': 1397, 'unusu': 1398, 'latter': 1399, 'length': 1400, 'crash': 1401, 'superior': 1402, 'childhood': 1403, 'shop': 1404, 'seven': 1405, 'theatr': 1406, 'remot': 1407, 'disgust': 1408, 'paid': 1409, 'pilot': 1410, 'funniest': 1411, 'convers': 1412, 'trick': 1413, 'fell': 1414, 'castl': 1415, 'disast': 1416, 'rob': 1417, 'gangster': 1418, 'establish': 1419, 'mine': 1420, 'ident': 1421, 'heaven': 1422, 'suicid': 1423, 'disappear': 1424, 'mask': 1425, 'tend': 1426, 'forgotten': 1427, 'heroin': 1428, 'decis': 1429, 'singer': 1430, 'partner': 1431, 'brian': 1432, 'desert': 1433, 'alan': 1434, 'recogn': 1435, 'stuck': 1436, 'sky': 1437, 'ms': 1438, 'p': 1439, 'thoroughli': 1440, 'replac': 1441, 'accur': 1442, 'market': 1443, 'uncl': 1444, 'commentari': 1445, 'clue': 1446, 'danni': 1447, 'seemingli': 1448, 'eddi': 1449, 'andi': 1450, 'jackson': 1451, 'devil': 1452, 'that': 1453, 'pair': 1454, 'refus': 1455, 'therefor': 1456, 'unit': 1457, 'fault': 1458, 'ed': 1459, 'fate': 1460, 'accid': 1461, 'river': 1462, 'afraid': 1463, 'tune': 1464, 'russian': 1465, 'hidden': 1466, 'stephen': 1467, 'clean': 1468, 'convey': 1469, 'readi': 1470, 'quick': 1471, 'test': 1472, 'irrit': 1473, 'instanc': 1474, 'captain': 1475, 'european': 1476, 'insan': 1477, 'frustrat': 1478, 'daniel': 1479, 'rescu': 1480, '1950': 1481, 'wed': 1482, 'food': 1483, 'chines': 1484, 'lock': 1485, 'angri': 1486, 'dirti': 1487, 'joy': 1488, 'price': 1489, 'steven': 1490, 'bland': 1491, 'cage': 1492, 'rang': 1493, 'anymor': 1494, 'wooden': 1495, 'rush': 1496, 'news': 1497, 'jason': 1498, 'n': 1499, 'led': 1500, 'twenti': 1501, 'martial': 1502, 'board': 1503, 'worri': 1504, '12': 1505, 'hunter': 1506, 'cgi': 1507, 'transform': 1508, 'symbol': 1509, 'piti': 1510, 'sentiment': 1511, 'johnni': 1512, 'invent': 1513, 'x': 1514, 'onto': 1515, 'explan': 1516, 'attitud': 1517, 'process': 1518, 'owner': 1519, 'awar': 1520, 'aim': 1521, 'favor': 1522, 'floor': 1523, 'energi': 1524, 'target': 1525, 'necessari': 1526, 'religi': 1527, 'opposit': 1528, 'chick': 1529, 'window': 1530, 'blind': 1531, 'insight': 1532, 'movement': 1533, 'mountain': 1534, 'possess': 1535, 'research': 1536, 'deepli': 1537, 'comparison': 1538, 'rain': 1539, 'grand': 1540, 'comed': 1541, 'whatsoev': 1542, 'mid': 1543, 'began': 1544, 'shadow': 1545, 'bank': 1546, 'princ': 1547, 'parodi': 1548, 'taylor': 1549, 'credibl': 1550, 'weapon': 1551, 'friendship': 1552, 'pre': 1553, 'dougla': 1554, 'teach': 1555, 'flesh': 1556, 'protect': 1557, 'bloodi': 1558, 'hint': 1559, 'terror': 1560, 'marvel': 1561, 'anybodi': 1562, 'drunk': 1563, 'leader': 1564, 'load': 1565, 'watchabl': 1566, 'superman': 1567, 'accord': 1568, 'brown': 1569, 'freddi': 1570, 'appropri': 1571, 'jeff': 1572, 'hitler': 1573, 'tim': 1574, 'seat': 1575, 'villag': 1576, 'keaton': 1577, 'knock': 1578, 'unknown': 1579, 'charg': 1580, 'empti': 1581, 'unnecessari': 1582, 'england': 1583, 'media': 1584, 'enemi': 1585, 'dare': 1586, 'perspect': 1587, 'strength': 1588, 'utter': 1589, 'buck': 1590, 'wave': 1591, 'craft': 1592, 'kiss': 1593, 'nativ': 1594, 'ford': 1595, 'correct': 1596, 'contrast': 1597, 'distract': 1598, 'speed': 1599, 'anywher': 1600, 'magnific': 1601, 'soap': 1602, 'chill': 1603, 'knowledg': 1604, 'nazi': 1605, '1980': 1606, 'mission': 1607, 'breath': 1608, 'ice': 1609, 'fred': 1610, 'crowd': 1611, 'jr': 1612, 'moon': 1613, 'joan': 1614, 'soft': 1615, '000': 1616, 'kate': 1617, 'frighten': 1618, 'hundr': 1619, 'dan': 1620, 'dick': 1621, 'nick': 1622, 'dozen': 1623, 'somebodi': 1624, 'radio': 1625, 'simon': 1626, 'thousand': 1627, 'shakespear': 1628, 'loss': 1629, 'academi': 1630, 'andrew': 1631, 'quot': 1632, 'vehicl': 1633, 'root': 1634, 'sum': 1635, 'account': 1636, 'leg': 1637, 'convent': 1638, '1970': 1639, 'behavior': 1640, 'gold': 1641, 'regular': 1642, 'demand': 1643, 'worker': 1644, 'compet': 1645, 'pretenti': 1646, 'japan': 1647, 'explos': 1648, 'stretch': 1649, 'interpret': 1650, 'lynch': 1651, 'privat': 1652, 'notabl': 1653, 'candi': 1654, 'debut': 1655, 'tarzan': 1656, 'constant': 1657, 'sea': 1658, 'spi': 1659, 'revolv': 1660, 'translat': 1661, 'prais': 1662, 'threaten': 1663, 'franc': 1664, 'technolog': 1665, 'quiet': 1666, 'failur': 1667, 'jesu': 1668, 'ass': 1669, 'sat': 1670, 'kevin': 1671, 'met': 1672, 'higher': 1673, 'punch': 1674, 'aid': 1675, 'toy': 1676, 'vh': 1677, 'mike': 1678, 'abandon': 1679, 'interact': 1680, 'confront': 1681, 'separ': 1682, 'command': 1683, 'bet': 1684, 'recal': 1685, 'site': 1686, 'gotten': 1687, 'stunt': 1688, 'techniqu': 1689, 'belong': 1690, 'servic': 1691, 'freak': 1692, 'cabl': 1693, 'foot': 1694, 'bug': 1695, 'fu': 1696, 'capabl': 1697, 'african': 1698, 'jimmi': 1699, 'bright': 1700, 'fat': 1701, 'clark': 1702, 'presid': 1703, 'succeed': 1704, 'stock': 1705, 'boat': 1706, 'gene': 1707, 'spanish': 1708, 'structur': 1709, 'paper': 1710, 'kidnap': 1711, 'whilst': 1712, 'factor': 1713, 'belief': 1714, 'tree': 1715, 'bob': 1716, 'witti': 1717, 'realism': 1718, 'attend': 1719, 'educ': 1720, 'complic': 1721, 'realis': 1722, 'finest': 1723, 'broken': 1724, 'santa': 1725, 'assist': 1726, 'observ': 1727, 'smoke': 1728, 'determin': 1729, 'up': 1730, 'depart': 1731, 'v': 1732, 'oper': 1733, 'domin': 1734, 'rubbish': 1735, 'fame': 1736, 'routin': 1737, 'lewi': 1738, 'hat': 1739, 'lone': 1740, 'advanc': 1741, 'foreign': 1742, 'morgan': 1743, 'kinda': 1744, 'hook': 1745, 'safe': 1746, 'numer': 1747, 'rank': 1748, 'shallow': 1749, 'shape': 1750, 'vs': 1751, 'washington': 1752, 'rose': 1753, 'civil': 1754, 'werewolf': 1755, 'gari': 1756, 'morn': 1757, 'winner': 1758, 'accomplish': 1759, 'ordinari': 1760, 'kong': 1761, 'whenev': 1762, 'peac': 1763, 'virtual': 1764, 'grab': 1765, 'luck': 1766, 'h': 1767, 'offens': 1768, 'complain': 1769, 'welcom': 1770, 'unfunni': 1771, 'bigger': 1772, 'contriv': 1773, 'activ': 1774, 'patient': 1775, 'con': 1776, 'dimension': 1777, 'trek': 1778, 'pretend': 1779, 'dri': 1780, 'code': 1781, 'lesbian': 1782, 'flash': 1783, 'eric': 1784, 'wake': 1785, 'cain': 1786, 'dancer': 1787, 'corrupt': 1788, 'guard': 1789, 'albert': 1790, 'statu': 1791, 'manipul': 1792, 'gain': 1793, 'sourc': 1794, 'signific': 1795, 'speech': 1796, 'awkward': 1797, 'context': 1798, 'sean': 1799, 'corni': 1800, 'anthoni': 1801, '13': 1802, 'clip': 1803, 'psycho': 1804, 'curiou': 1805, 'theatric': 1806, 'reli': 1807, 'advic': 1808, 'priest': 1809, 'w': 1810, 'religion': 1811, 'addict': 1812, 'flow': 1813, 'howard': 1814, 'specif': 1815, 'skin': 1816, 'secur': 1817, 'asian': 1818, 'jennif': 1819, 'core': 1820, 'luke': 1821, 'promot': 1822, 'comfort': 1823, 'golden': 1824, 'organ': 1825, 'lucki': 1826, 'cheat': 1827, 'cash': 1828, 'dislik': 1829, 'lower': 1830, 'associ': 1831, 'balanc': 1832, 'wing': 1833, 'frequent': 1834, 'frankli': 1835, 'contribut': 1836, 'devic': 1837, 'spell': 1838, 'degre': 1839, 'regret': 1840, 'sake': 1841, 'forgiv': 1842, 'lake': 1843, 'print': 1844, 'thoma': 1845, 'mass': 1846, 'betti': 1847, 'gordon': 1848, 'unexpect': 1849, 'crack': 1850, 'amateur': 1851, 'depend': 1852, 'categori': 1853, 'grown': 1854, 'construct': 1855, 'unfold': 1856, 'invit': 1857, 'grew': 1858, 'honor': 1859, 'intellectu': 1860, 'matur': 1861, 'anna': 1862, 'condit': 1863, 'walter': 1864, 'sole': 1865, 'sudden': 1866, 'mirror': 1867, 'spectacular': 1868, 'veteran': 1869, 'meanwhil': 1870, 'demonstr': 1871, 'gift': 1872, 'liner': 1873, 'overli': 1874, 'freedom': 1875, 'robin': 1876, 'grip': 1877, 'card': 1878, 'experienc': 1879, 'theori': 1880, 'drew': 1881, 'subtitl': 1882, 'sheriff': 1883, 'unabl': 1884, 'crappi': 1885, 'brilliantli': 1886, 'circumst': 1887, 'colour': 1888, 'section': 1889, 'oliv': 1890, 'pile': 1891, 'matt': 1892, 'laughter': 1893, 'path': 1894, 'parker': 1895, 'altern': 1896, 'cook': 1897, 'sheer': 1898, 'treatment': 1899, 'wander': 1900, 'relief': 1901, 'accident': 1902, 'defin': 1903, 'hall': 1904, 'sinatra': 1905, 'lawyer': 1906, 'captiv': 1907, 'hank': 1908, 'dragon': 1909, 'moor': 1910, 'gratuit': 1911, 'halloween': 1912, 'kung': 1913, 'cowboy': 1914, 'wound': 1915, 'unintent': 1916, 'barbara': 1917, 'k': 1918, 'broadway': 1919, 'wayn': 1920, 'jacki': 1921, 'spoof': 1922, 'canadian': 1923, 'winter': 1924, 'statement': 1925, 'surreal': 1926, 'fare': 1927, 'compos': 1928, 'gonna': 1929, 'treasur': 1930, 'cheer': 1931, 'fish': 1932, 'sensit': 1933, 'unrealist': 1934, 'emerg': 1935, 'woodi': 1936, 'victor': 1937, 'driven': 1938, 'neighbor': 1939, 'ran': 1940, 'sympathet': 1941, 'expos': 1942, 'authent': 1943, 'menac': 1944, 'topic': 1945, 'glass': 1946, 'overlook': 1947, 'handsom': 1948, 'chief': 1949, 'michel': 1950, 'gross': 1951, 'ancient': 1952, 'feet': 1953, 'comedian': 1954, 'contemporari': 1955, 'russel': 1956, 'stranger': 1957, 'pleasant': 1958, 'network': 1959, 'cinderella': 1960, 'nevertheless': 1961, 'built': 1962, 'consider': 1963, 'underr': 1964, 'miser': 1965, 'letter': 1966, 'blockbust': 1967, 'earn': 1968, 'endless': 1969, 'gori': 1970, 'brook': 1971, 'solv': 1972, 'switch': 1973, 'convict': 1974, 'bullet': 1975, 'virgin': 1976, 'victoria': 1977, 'joseph': 1978, 'edward': 1979, '0': 1980, 'chosen': 1981, 'cynic': 1982, 'scenario': 1983, 'scale': 1984, 'alex': 1985, 'com': 1986, 'outrag': 1987, 'curs': 1988, 'gut': 1989, 'sword': 1990, 'screenwrit': 1991, 'uk': 1992, 'proper': 1993, 'driver': 1994, 'wrap': 1995, 'monkey': 1996, 'juli': 1997, 'substanc': 1998, 'bird': 1999, 'indic': 2000, 'court': 2001, 'remov': 2002, 'par': 2003, 'naiv': 2004, 'loser': 2005, 'inevit': 2006, 'advertis': 2007, 'nanci': 2008, 'grave': 2009, 'consequ': 2010, 'rental': 2011, 'roy': 2012, 'bridg': 2013, 'slap': 2014, 'invis': 2015, 'fatal': 2016, 'germani': 2017, 'brave': 2018, 'le': 2019, 'provok': 2020, 'loui': 2021, 'ador': 2022, 'footbal': 2023, 'anger': 2024, 'alcohol': 2025, 'anderson': 2026, 'chan': 2027, 'willi': 2028, 'stumbl': 2029, 'professor': 2030, 'ryan': 2031, 'patrick': 2032, 'australian': 2033, '1930': 2034, 'sharp': 2035, 'assassin': 2036, 'bat': 2037, 'cell': 2038, 'liber': 2039, 'amateurish': 2040, 'saturday': 2041, 'heck': 2042, 'strongli': 2043, 'ape': 2044, 'deni': 2045, 'eight': 2046, 'refresh': 2047, 'lousi': 2048, 'trilog': 2049, 'sin': 2050, 'resid': 2051, 'vagu': 2052, 'san': 2053, 'justifi': 2054, 'mini': 2055, 'sympathi': 2056, 'indi': 2057, 'terrifi': 2058, 'creator': 2059, 'reput': 2060, 'defeat': 2061, 'task': 2062, 'expert': 2063, 'tediou': 2064, 'endur': 2065, 'prevent': 2066, 'tabl': 2067, 'offend': 2068, 'trial': 2069, 'rival': 2070, 'employ': 2071, 'basebal': 2072, 'imit': 2073, 'che': 2074, 'dig': 2075, 'max': 2076, 'pitch': 2077, 'fairi': 2078, 'beach': 2079, 'complaint': 2080, 'weekend': 2081, 'europ': 2082, 'purchas': 2083, 'format': 2084, 'risk': 2085, 'murphi': 2086, 'harsh': 2087, 'glimps': 2088, 'bite': 2089, 'hype': 2090, 'tini': 2091, 'titan': 2092, 'powel': 2093, 'reminisc': 2094, 'nois': 2095, 'till': 2096, 'prime': 2097, 'strip': 2098, 'asleep': 2099, 'north': 2100, '14': 2101, 'fals': 2102, 'texa': 2103, 'africa': 2104, 'revel': 2105, 'descript': 2106, 'destruct': 2107, 'surfac': 2108, 'uninterest': 2109, 'spin': 2110, 'semi': 2111, 'arrest': 2112, 'excess': 2113, 'inner': 2114, 'sitcom': 2115, 'twin': 2116, 'controversi': 2117, 'makeup': 2118, 'argu': 2119, 'dinosaur': 2120, 'hitchcock': 2121, 'massiv': 2122, 'maintain': 2123, 'insist': 2124, 'stare': 2125, 'melodrama': 2126, 'ludicr': 2127, 'kim': 2128, 'reject': 2129, 'expens': 2130, 'ideal': 2131, 'press': 2132, 'erot': 2133, 'forest': 2134, 'ga': 2135, 'subplot': 2136, 'nail': 2137, 'atroci': 2138, 'supernatur': 2139, 'host': 2140, 'ala': 2141, 'columbo': 2142, 'notch': 2143, 'presum': 2144, 'dude': 2145, 'cant': 2146, 'identifi': 2147, 'method': 2148, 'plagu': 2149, 'guest': 2150, 'forgett': 2151, 'character': 2152, 'crude': 2153, 'closer': 2154, 'landscap': 2155, 'princess': 2156, 'beast': 2157, 'ear': 2158, 'lion': 2159, 'foster': 2160, 'border': 2161, 'storytel': 2162, 'aunt': 2163, 'previous': 2164, 'bound': 2165, 'jungl': 2166, 'birth': 2167, 'pacino': 2168, 'urban': 2169, 'accus': 2170, 'damag': 2171, 'jess': 2172, 'guid': 2173, 'chose': 2174, 'nude': 2175, 'propaganda': 2176, 'thirti': 2177, 'emma': 2178, 'doll': 2179, 'mainstream': 2180, 'pet': 2181, '25': 2182, 'mate': 2183, 'warrior': 2184, 'whoever': 2185, 'cooper': 2186, 'merit': 2187, 'upset': 2188, 'gritti': 2189, 'size': 2190, 'exact': 2191, 'friday': 2192, 'poster': 2193, 'deadli': 2194, 'latest': 2195, 'sun': 2196, 'wilson': 2197, 'settl': 2198, 'corps': 2199, 'contact': 2200, 'buff': 2201, 'ton': 2202, 'popul': 2203, '1990': 2204, 'warner': 2205, 'blend': 2206, 'citizen': 2207, 'rough': 2208, 'contest': 2209, 'environ': 2210, 'overcom': 2211, 'mgm': 2212, 'widow': 2213, 'select': 2214, 'alic': 2215, 'pitt': 2216, 'bu': 2217, 'rat': 2218, 'metal': 2219, 'link': 2220, 'lift': 2221, 'particip': 2222, 'revolut': 2223, 'ted': 2224, 'guilti': 2225, 'corpor': 2226, 'prostitut': 2227, 'corner': 2228, 'johnson': 2229, '1960': 2230, 'moron': 2231, 'matrix': 2232, 'accompani': 2233, 'exagger': 2234, 'afternoon': 2235, 'friendli': 2236, 'sincer': 2237, 'leagu': 2238, 'holm': 2239, 'hood': 2240, 'multipl': 2241, 'doom': 2242, 'instal': 2243, 'clair': 2244, 'hip': 2245, 'irish': 2246, 'string': 2247, 'lugosi': 2248, 'campi': 2249, 'advis': 2250, 'defend': 2251, 'junk': 2252, 'examin': 2253, 'sunday': 2254, 'aka': 2255, 'blah': 2256, 'grim': 2257, 'pro': 2258, 'tight': 2259, 'shut': 2260, 'icon': 2261, 'shake': 2262, 'confid': 2263, 'varieti': 2264, 'rachel': 2265, 'medic': 2266, 'attach': 2267, 'sullivan': 2268, 'jaw': 2269, 'directli': 2270, 'goal': 2271, 'denni': 2272, 'mexican': 2273, 'courag': 2274, 'legendari': 2275, 'duke': 2276, 'terrorist': 2277, 'prior': 2278, 'truck': 2279, 'sarah': 2280, 'sentenc': 2281, 'breast': 2282, 'bourn': 2283, 'vietnam': 2284, 'dean': 2285, 'yell': 2286, 'un': 2287, 'proceed': 2288, 'split': 2289, 'behav': 2290, 'donald': 2291, 'nose': 2292, 'entri': 2293, 'hong': 2294, 'unconvinc': 2295, 'forth': 2296, 'buri': 2297, 'jerk': 2298, 'concentr': 2299, 'stolen': 2300, 'gather': 2301, 'everywher': 2302, 'lifetim': 2303, 'confess': 2304, 'swim': 2305, 'borrow': 2306, 'crush': 2307, 'pan': 2308, 'julia': 2309, 'deliveri': 2310, 'california': 2311, 'turkey': 2312, 'lip': 2313, 'spite': 2314, 'offici': 2315, 'downright': 2316, 'flight': 2317, 'china': 2318, 'quest': 2319, 'hoffman': 2320, 'proud': 2321, 'reward': 2322, 'freeman': 2323, 'worthwhil': 2324, 'lazi': 2325, 'sink': 2326, 'jon': 2327, 'jail': 2328, 'notori': 2329, 'inept': 2330, 'sir': 2331, 'betray': 2332, 'fade': 2333, 'fabul': 2334, 'encourag': 2335, 'imageri': 2336, 'relev': 2337, 'branagh': 2338, 'storm': 2339, 'shower': 2340, 'retard': 2341, 'bag': 2342, 'lisa': 2343, 'cousin': 2344, 'teeth': 2345, 'bell': 2346, 'survivor': 2347, 'susan': 2348, 'trade': 2349, 'facial': 2350, 'summari': 2351, 'quirki': 2352, 'tremend': 2353, 'finger': 2354, 'mexico': 2355, 'stab': 2356, 'toler': 2357, 'bride': 2358, 'shark': 2359, 'alright': 2360, 'hugh': 2361, 'hyster': 2362, 'pose': 2363, 'bitter': 2364, 'blown': 2365, 'ha': 2366, 'von': 2367, 'ron': 2368, 'afterward': 2369, 'cruel': 2370, 'ned': 2371, 'address': 2372, 'christ': 2373, 'larri': 2374, 'scheme': 2375, 'bone': 2376, 'swear': 2377, 'beg': 2378, 'traci': 2379, 'distinct': 2380, 'pursu': 2381, 'snake': 2382, 'feed': 2383, 'thumb': 2384, 'screw': 2385, 'tour': 2386, 'chair': 2387, 'photo': 2388, 'obscur': 2389, 'occas': 2390, 'raw': 2391, 'stomach': 2392, 'mechan': 2393, 'cabin': 2394, 'necessarili': 2395, 'chain': 2396, 'holiday': 2397, 'sidney': 2398, 'southern': 2399, 'heavili': 2400, 'render': 2401, 'resist': 2402, 'gruesom': 2403, 'argument': 2404, 'hardi': 2405, 'indulg': 2406, 'india': 2407, 'satan': 2408, 'understood': 2409, 'racist': 2410, 'philip': 2411, 'tongu': 2412, 'midnight': 2413, 'obnoxi': 2414, 'pregnant': 2415, 'integr': 2416, 'fourth': 2417, 'forgot': 2418, 'lay': 2419, 'outfit': 2420, 'stalk': 2421, 'belov': 2422, 'inhabit': 2423, 'magazin': 2424, '17': 2425, 'restor': 2426, 'carol': 2427, 'deeper': 2428, 'ticket': 2429, 'slapstick': 2430, 'garden': 2431, 'devot': 2432, 'lincoln': 2433, 'shoe': 2434, 'brad': 2435, 'incid': 2436, 'guarante': 2437, 'maria': 2438, 'benefit': 2439, 'divorc': 2440, 'sandler': 2441, 'underground': 2442, 'disbelief': 2443, 'elizabeth': 2444, 'lili': 2445, 'anticip': 2446, 'princip': 2447, 'explod': 2448, 'amazingli': 2449, 'creation': 2450, 'greater': 2451, 'mildli': 2452, 'capit': 2453, 'cring': 2454, 'slave': 2455, 'bbc': 2456, 'halfway': 2457, 'introduct': 2458, 'lesli': 2459, 'extraordinari': 2460, 'funnier': 2461, 'transfer': 2462, 'tap': 2463, 'advantag': 2464, 'punish': 2465, 'enhanc': 2466, 'text': 2467, 'overwhelm': 2468, 'wreck': 2469, 'extent': 2470, 'plant': 2471, 'horrif': 2472, 'lo': 2473, 'jessica': 2474, 'error': 2475, 'preview': 2476, 'deliber': 2477, 'dynam': 2478, 'east': 2479, 'lane': 2480, 'homosexu': 2481, 'vincent': 2482, 'miscast': 2483, 'appli': 2484, 'sophist': 2485, '2000': 2486, 'ensu': 2487, 'basi': 2488, 'miller': 2489, 'vacat': 2490, 'sleazi': 2491, 'measur': 2492, 'elev': 2493, 'mansion': 2494, 'extend': 2495, 'reed': 2496, 'steel': 2497, 'uncomfort': 2498, 'via': 2499, 'bollywood': 2500, 'spoken': 2501, 'assign': 2502, 'alter': 2503, 'conceiv': 2504, 'blair': 2505, 'melt': 2506, 'cathol': 2507, 'goofi': 2508, 'stanley': 2509, 'breathtak': 2510, 'fix': 2511, 'hippi': 2512, 'beer': 2513, 'daili': 2514, 'overact': 2515, 'mous': 2516, 'savag': 2517, 'dentist': 2518, 'everyday': 2519, 'succe': 2520, 'carpent': 2521, 'subsequ': 2522, 'sacrific': 2523, 'burt': 2524, 'properli': 2525, 'oppos': 2526, 'nowaday': 2527, 'inspector': 2528, 'circl': 2529, 'massacr': 2530, 'block': 2531, 'neck': 2532, 'laura': 2533, 'christi': 2534, 'concert': 2535, 'fallen': 2536, 'portrait': 2537, 'mob': 2538, 'access': 2539, 'pool': 2540, 'fay': 2541, 'grey': 2542, 'lesser': 2543, 'seagal': 2544, 'competit': 2545, 'usa': 2546, 'relax': 2547, 'react': 2548, 'isol': 2549, 'chees': 2550, 'jake': 2551, 'sinist': 2552, 'jewish': 2553, 'nine': 2554, 'appal': 2555, 'immens': 2556, 'creep': 2557, '2006': 2558, 'stink': 2559, 'chop': 2560, 'lyric': 2561, 'spiritu': 2562, 'nonetheless': 2563, 'ironi': 2564, 'suitabl': 2565, 'adopt': 2566, 'needless': 2567, 'nut': 2568, 'spring': 2569, 'retir': 2570, 'rage': 2571, 'navi': 2572, 'franchis': 2573, 'luci': 2574, 'reduc': 2575, 'showcas': 2576, 'user': 2577, 'sold': 2578, 'shirt': 2579, 'uninspir': 2580, 'digit': 2581, 'bath': 2582, 'jay': 2583, 'nurs': 2584, 'bulli': 2585, 'asham': 2586, 'zone': 2587, 'per': 2588, 'stanwyck': 2589, 'illustr': 2590, 'oddli': 2591, 'broadcast': 2592, 'upper': 2593, '1940': 2594, '2001': 2595, 'amongst': 2596, 'sutherland': 2597, 'laid': 2598, 'throat': 2599, 'baker': 2600, 'disguis': 2601, 'stylish': 2602, 'aspir': 2603, 'fulfil': 2604, 'brando': 2605, 'pride': 2606, 'endear': 2607, 'thief': 2608, 'em': 2609, 'wwii': 2610, 'nobl': 2611, 'wanna': 2612, '18': 2613, 'neighborhood': 2614, 'pound': 2615, 'impli': 2616, '16': 2617, 'distribut': 2618, 'tens': 2619, 'dinner': 2620, 'shift': 2621, 'bett': 2622, 'coher': 2623, 'bo': 2624, 'diseas': 2625, 'albeit': 2626, 'shoulder': 2627, 'prop': 2628, 'dawn': 2629, 'rochest': 2630, 'cinematograph': 2631, 'snow': 2632, 'silenc': 2633, 'forti': 2634, 'rebel': 2635, 'knife': 2636, 'poignant': 2637, 'function': 2638, 'matthau': 2639, 'wash': 2640, 'contract': 2641, 'surf': 2642, 'shout': 2643, 'heat': 2644, 'proof': 2645, 'height': 2646, 'henc': 2647, 'silver': 2648, 'derek': 2649, 'mindless': 2650, 'chuck': 2651, 'reunion': 2652, 'elvira': 2653, 'cancel': 2654, 'internet': 2655, 'horrend': 2656, 'widmark': 2657, 'duti': 2658, 'instinct': 2659, 'cannib': 2660, 'eeri': 2661, 'greatli': 2662, 'musician': 2663, 'alik': 2664, 'incoher': 2665, 'etern': 2666, 'absorb': 2667, 'glori': 2668, 'mill': 2669, 'premier': 2670, 'torn': 2671, 'repetit': 2672, 'spielberg': 2673, 'elvi': 2674, 'neat': 2675, 'innov': 2676, 'pie': 2677, 'itali': 2678, 'trite': 2679, 'redempt': 2680, 'lovabl': 2681, 'fbi': 2682, 'britain': 2683, 'precis': 2684, 'wealthi': 2685, 'announc': 2686, 'nelson': 2687, 'burton': 2688, 'blank': 2689, 'diamond': 2690, 'bang': 2691, 'horrifi': 2692, 'crisi': 2693, 'infam': 2694, 'racism': 2695, 'homag': 2696, 'helen': 2697, 'hammer': 2698, 'dedic': 2699, 'wilder': 2700, 'ensembl': 2701, 'flop': 2702, 'chaplin': 2703, 'happili': 2704, 'streisand': 2705, 'parallel': 2706, 'pat': 2707, 'resolut': 2708, 'broke': 2709, 'conclud': 2710, 'mar': 2711, 'st': 2712, 'factori': 2713, 'carter': 2714, 'disagre': 2715, 'triumph': 2716, 'cube': 2717, 'plastic': 2718, 'oil': 2719, 'fighter': 2720, 'own': 2721, 'climb': 2722, 'weight': 2723, 'march': 2724, 'bush': 2725, 'chuckl': 2726, 'row': 2727, 'vega': 2728, 'rocket': 2729, 'lust': 2730, 'thug': 2731, 'wherea': 2732, 'kurt': 2733, 'spare': 2734, 'unforgett': 2735, 'dump': 2736, 'enorm': 2737, 'meaning': 2738, 'boot': 2739, 'luca': 2740, 'mst3k': 2741, 'sensibl': 2742, 'dane': 2743, 'stress': 2744, 'arnold': 2745, 'engin': 2746, 'threat': 2747, 'karloff': 2748, 'adequ': 2749, 'caricatur': 2750, 'brand': 2751, 'bobbi': 2752, 'difficulti': 2753, 'fifti': 2754, 'dear': 2755, 'butt': 2756, 'rap': 2757, 'swing': 2758, 'secretari': 2759, 'polish': 2760, 'fest': 2761, 'ego': 2762, 'journalist': 2763, 'homeless': 2764, 'ralph': 2765, 'elabor': 2766, 'arrog': 2767, 'flynn': 2768, 'barri': 2769, 'hamlet': 2770, 'unbear': 2771, 'resort': 2772, 'float': 2773, 'tool': 2774, 'grate': 2775, 'simpson': 2776, 'fanci': 2777, 'conspiraci': 2778, 'spike': 2779, 'puppet': 2780, 'induc': 2781, 'arrang': 2782, 'exercis': 2783, 'cruis': 2784, 'tribut': 2785, 'guilt': 2786, 'pig': 2787, 'muppet': 2788, 'boll': 2789, 'choreograph': 2790, 'basement': 2791, 'phillip': 2792, 'puzzl': 2793, 'korean': 2794, 'ham': 2795, 'toilet': 2796, 'babe': 2797, 'layer': 2798, 'file': 2799, 'editor': 2800, 'ward': 2801, 'fianc': 2802, 'medium': 2803, 'slip': 2804, 'stan': 2805, 'item': 2806, 'document': 2807, '24': 2808, 'tower': 2809, 'scarecrow': 2810, 'spark': 2811, 'transit': 2812, 'territori': 2813, 'larger': 2814, 'doc': 2815, 'assur': 2816, 'superfici': 2817, 'glover': 2818, 'catherin': 2819, 'librari': 2820, 'persona': 2821, 'philosoph': 2822, 'denzel': 2823, 'slaughter': 2824, 'minim': 2825, 'orient': 2826, 'inexplic': 2827, 'portion': 2828, 'walken': 2829, 'ban': 2830, 'jeremi': 2831, 'pg': 2832, 'shi': 2833, 'sneak': 2834, 'owe': 2835, 'wolf': 2836, 'financi': 2837, 'boredom': 2838, 'jet': 2839, 'dorothi': 2840, 'curti': 2841, 'backdrop': 2842, 'profound': 2843, 'eleph': 2844, 'cusack': 2845, 'whale': 2846, 'multi': 2847, 'metaphor': 2848, 'ambigu': 2849, 'hudson': 2850, 'union': 2851, 'notion': 2852, 'stiff': 2853, 'rave': 2854, 'elsewher': 2855, 'implaus': 2856, 'birthday': 2857, 'viru': 2858, '2005': 2859, 'gadget': 2860, 'ultra': 2861, 'hack': 2862, 'distanc': 2863, 'slight': 2864, 'eastwood': 2865, 'reader': 2866, 'afford': 2867, 'poison': 2868, 'urg': 2869, 'bibl': 2870, 'squar': 2871, 'canada': 2872, '1st': 2873, 'disc': 2874, 'newspap': 2875, 'pad': 2876, 'superhero': 2877, 'hawk': 2878, 'deriv': 2879, 'eva': 2880, 'lloyd': 2881, 'montag': 2882, 'spread': 2883, 'drown': 2884, 'huh': 2885, 'cure': 2886, 'essenc': 2887, 'charisma': 2888, 'button': 2889, 'restaur': 2890, 'skit': 2891, 'health': 2892, 'sadist': 2893, 'heston': 2894, 'companion': 2895, 'peak': 2896, 'muslim': 2897, 'lab': 2898, 'scoobi': 2899, 'invest': 2900, 'gradual': 2901, 'dealt': 2902, 'fetch': 2903, 'godfath': 2904, 'estat': 2905, 'maniac': 2906, 'miik': 2907, 'gothic': 2908, 'subtleti': 2909, 'countless': 2910, 'cup': 2911, 'ritter': 2912, 'servant': 2913, 'kane': 2914, 'alli': 2915, 'tea': 2916, 'elect': 2917, 'charismat': 2918, 'electr': 2919, 'heroic': 2920, 'salli': 2921, 'briefli': 2922, 'iii': 2923, 'grandmoth': 2924, 'toss': 2925, 'reel': 2926, 'wannab': 2927, 'tender': 2928, 'ingredi': 2929, 'nuanc': 2930, 'cole': 2931, 'resourc': 2932, 'admittedli': 2933, 'neil': 2934, 'bud': 2935, 'punk': 2936, 'gate': 2937, 'dawson': 2938, 'mild': 2939, 'shall': 2940, 'poverti': 2941, 'stronger': 2942, 'kubrick': 2943, 'carrey': 2944, 'stood': 2945, 'pit': 2946, 'reev': 2947, 'pauli': 2948, 'label': 2949, 'mafia': 2950, 'smash': 2951, 'assault': 2952, 'smooth': 2953, 'burst': 2954, 'cardboard': 2955, 'cox': 2956, 'outcom': 2957, 'fond': 2958, 'terri': 2959, 'ian': 2960, 'useless': 2961, 'tag': 2962, 'easier': 2963, 'updat': 2964, 'astair': 2965, 'bakshi': 2966, 'samurai': 2967, 'qualifi': 2968, 'exchang': 2969, 'vari': 2970, 'increasingli': 2971, 'sketch': 2972, 'coincid': 2973, 'vulner': 2974, '2002': 2975, 'resolv': 2976, 'fist': 2977, 'melodramat': 2978, 'divers': 2979, 'rex': 2980, 'brillianc': 2981, 'luckili': 2982, 'reynold': 2983, 'be': 2984, 'tame': 2985, 'suspend': 2986, 'scratch': 2987, 'blast': 2988, 'templ': 2989, 'conveni': 2990, 'insert': 2991, 'hamilton': 2992, 'strictli': 2993, 'gotta': 2994, 'nuclear': 2995, 'soprano': 2996, 'walker': 2997, 'seventi': 2998, 'farm': 2999, 'matthew': 3000, 'jami': 3001, 'fisher': 3002, 'meat': 3003, 'pin': 3004, 'ambiti': 3005, 'coach': 3006, 'monk': 3007, 'clock': 3008, 'ninja': 3009, 'eccentr': 3010, 'grasp': 3011, 'recreat': 3012, 'brosnan': 3013, 'convolut': 3014, 'instantli': 3015, 'revers': 3016, 'timeless': 3017, 'kudo': 3018, 'struck': 3019, 'discoveri': 3020, 'cave': 3021, 'worthless': 3022, 'empir': 3023, 'joey': 3024, 'closet': 3025, 'spooki': 3026, 'butcher': 3027, 'mitchel': 3028, 'sidekick': 3029, 'partli': 3030, 'importantli': 3031, 'evok': 3032, 'declar': 3033, 'communist': 3034, 'pal': 3035, 'cliff': 3036, 'wipe': 3037, 'eighti': 3038, 'miracl': 3039, 'fifteen': 3040, 'norman': 3041, 'selfish': 3042, 'sloppi': 3043, 'clown': 3044, 'gray': 3045, 'bleak': 3046, 'inconsist': 3047, 'seller': 3048, 'ho': 3049, 'cheek': 3050, 'enthusiast': 3051, 'piano': 3052, 'aforement': 3053, 'farc': 3054, '45': 3055, 'australia': 3056, 'websit': 3057, 'stoog': 3058, 'lifestyl': 3059, 'chew': 3060, 'flawless': 3061, 'seed': 3062, 'psychiatrist': 3063, 'debat': 3064, 'superbl': 3065, 'destin': 3066, 'abc': 3067, 'pressur': 3068, 'bash': 3069, 'anni': 3070, 'drivel': 3071, 'emili': 3072, 'akshay': 3073, 'regardless': 3074, 'directori': 3075, 'dash': 3076, 'soviet': 3077, 'slice': 3078, 'dire': 3079, 'splatter': 3080, 'wrestl': 3081, 'wick': 3082, 'incompet': 3083, 'kitchen': 3084, 'seduc': 3085, 'increas': 3086, 'suppli': 3087, 'duo': 3088, 'lou': 3089, 'jar': 3090, 'boil': 3091, 'artifici': 3092, 'beaten': 3093, 'curios': 3094, 'glow': 3095, 'judi': 3096, 'dave': 3097, 'doo': 3098, 'prize': 3099, 'blob': 3100, 'ken': 3101, 'cagney': 3102, 'distant': 3103, 'helicopt': 3104, 'mann': 3105, 'recov': 3106, 'pleasantli': 3107, 'cameron': 3108, 'cia': 3109, 'chapter': 3110, 'flower': 3111, 'turner': 3112, 'web': 3113, 'goldberg': 3114, 'eleg': 3115, 'hop': 3116, 'combat': 3117, 'favour': 3118, 'psychot': 3119, 'ellen': 3120, 'perri': 3121, 'drunken': 3122, 'splendid': 3123, 'glenn': 3124, 'panic': 3125, 'francisco': 3126, 'laurel': 3127, 'craig': 3128, 'craven': 3129, 'ranger': 3130, 'rid': 3131, 'graduat': 3132, 'shortli': 3133, 'alexand': 3134, 'min': 3135, 'slightest': 3136, 'ruth': 3137, 'flip': 3138, 'plausibl': 3139, 'hatr': 3140, 'gentl': 3141, 'greek': 3142, 'philosophi': 3143, 'fx': 3144, 'wizard': 3145, 'falk': 3146, 'gandhi': 3147, '20th': 3148, 'modesti': 3149, 'jealou': 3150, 'dracula': 3151, 'felix': 3152, 'futurist': 3153, 'ocean': 3154, 'unpleas': 3155, 'manhattan': 3156, 'knight': 3157, 'tall': 3158, 'holi': 3159, 'preciou': 3160, 'legal': 3161, 'fund': 3162, 'we': 3163, 'harm': 3164, 'lend': 3165, 'bless': 3166, 'digniti': 3167, 'overdon': 3168, 'scientif': 3169, 'explicit': 3170, 'tank': 3171, 'forbidden': 3172, 'reviv': 3173, 'childish': 3174, 'mock': 3175, 'nod': 3176, 'giallo': 3177, 'thread': 3178, 'ami': 3179, 'pirat': 3180, 'broad': 3181, 'margaret': 3182, 'thick': 3183, '2004': 3184, 'repeatedli': 3185, 'nerv': 3186, 'awaken': 3187, '99': 3188, 'yesterday': 3189, 'mel': 3190, 'elderli': 3191, 'fever': 3192, 'eve': 3193, 'awe': 3194, 'unwatch': 3195, 'torment': 3196, 'verhoeven': 3197, 'politician': 3198, 'kay': 3199, 'publish': 3200, 'absenc': 3201, 'romero': 3202, 'launch': 3203, 'rivet': 3204, 'ah': 3205, 'uniform': 3206, 'automat': 3207, 'eas': 3208, 'griffith': 3209, 'ambit': 3210, 'timothi': 3211, 'bin': 3212, 'custom': 3213, 'acclaim': 3214, 'stiller': 3215, 'roman': 3216, 'lean': 3217, 'royal': 3218, 'purpl': 3219, 'phrase': 3220, 'transport': 3221, 'tomato': 3222, 'gabriel': 3223, 'darker': 3224, 'stinker': 3225, 'crook': 3226, 'bathroom': 3227, 'pierc': 3228, 'termin': 3229, 'warren': 3230, 'wallac': 3231, 'homicid': 3232, 'foul': 3233, 'antic': 3234, 'pulp': 3235, 'sunshin': 3236, 'eyr': 3237, 'choreographi': 3238, 'horrid': 3239, 'revolutionari': 3240, 'donna': 3241, 'packag': 3242, 'sixti': 3243, 'marin': 3244, 'saint': 3245, 'album': 3246, 'evolv': 3247, 'kenneth': 3248, 'hollow': 3249, 'contrari': 3250, '2003': 3251, 'q': 3252, 'pray': 3253, 'prom': 3254, 'awak': 3255, 'coloni': 3256, 'viciou': 3257, 'li': 3258, 'ought': 3259, 'brazil': 3260, 'rambo': 3261, 'juvenil': 3262, 'karen': 3263, 'ireland': 3264, 'option': 3265, 'nerd': 3266, 'stole': 3267, 'beatti': 3268, 'blade': 3269, 'mildr': 3270, 'dose': 3271, 'twelv': 3272, 'overr': 3273, 'boast': 3274, 'candid': 3275, 'mummi': 3276, 'conserv': 3277, 'kapoor': 3278, 'defi': 3279, 'ramon': 3280, 'global': 3281, 'fulci': 3282, 'collabor': 3283, 'confirm': 3284, 'altman': 3285, 'astonish': 3286, 'trio': 3287, 'natali': 3288, 'detract': 3289, 'funer': 3290, 'protest': 3291, 'flame': 3292, 'jazz': 3293, 'kirk': 3294, 'audio': 3295, 'whip': 3296, 'delici': 3297, 'destini': 3298, 'leap': 3299, 'shade': 3300, 'nicholson': 3301, 'tommi': 3302, 'racial': 3303, 'spit': 3304, 'mystic': 3305, 'bull': 3306, 'blake': 3307, 'bottl': 3308, 'enterpris': 3309, 'yellow': 3310, 'altogeth': 3311, 'reunit': 3312, 'staff': 3313, 'threw': 3314, 'pseudo': 3315, 'vivid': 3316, 'harder': 3317, 'adolesc': 3318, 'enchant': 3319, 'popcorn': 3320, 'fonda': 3321, 'merci': 3322, 'bedroom': 3323, 'swedish': 3324, 'neo': 3325, 'visibl': 3326, 'todd': 3327, 'inherit': 3328, 'meaningless': 3329, 'decor': 3330, 'leonard': 3331, 'wire': 3332, 'kennedi': 3333, 'voight': 3334, 'suspici': 3335, 'befriend': 3336, 'respond': 3337, 'madonna': 3338, 'lemmon': 3339, 'crocodil': 3340, 'fanat': 3341, 'synopsi': 3342, 'tip': 3343, 'uneven': 3344, 'await': 3345, 'moodi': 3346, 'lawrenc': 3347, 'jew': 3348, 'bust': 3349, 'roommat': 3350, 'reserv': 3351, 'ruthless': 3352, 'exhibit': 3353, 'atlanti': 3354, 'edi': 3355, 'bold': 3356, 'dimens': 3357, 'clint': 3358, 'ventur': 3359, 'incident': 3360, 'clumsi': 3361, 'audit': 3362, 'unsettl': 3363, 'bradi': 3364, 'carl': 3365, '2007': 3366, 'rural': 3367, 'chao': 3368, 'voyag': 3369, 'abysm': 3370, 'palma': 3371, 'bargain': 3372, 'garner': 3373, 'centr': 3374, 'holli': 3375, 'immigr': 3376, 'daddi': 3377, 'trail': 3378, '2nd': 3379, 'lit': 3380, 'ant': 3381, 'acknowledg': 3382, 'humili': 3383, 'elimin': 3384, 'cd': 3385, 'troop': 3386, 'echo': 3387, 'cuba': 3388, 'imperson': 3389, 'characterist': 3390, 'hart': 3391, 'neglect': 3392, 'versu': 3393, 'poetic': 3394, 'wealth': 3395, 'cari': 3396, 'nearbi': 3397, 'timon': 3398, 'mall': 3399, 'tiger': 3400, 'collaps': 3401, 'repuls': 3402, 'pun': 3403, 'domest': 3404, 'mistaken': 3405, 'marshal': 3406, 'paus': 3407, 'infect': 3408, 'celluloid': 3409, 'saga': 3410, 'solo': 3411, 'homer': 3412, 'jeffrey': 3413, 'mickey': 3414, 'prejudic': 3415, 'assembl': 3416, 'coat': 3417, 'sore': 3418, 'olivi': 3419, 'promin': 3420, 'hbo': 3421, 'gear': 3422, 'milk': 3423, 'inappropri': 3424, 'harvey': 3425, 'coffe': 3426, 'equip': 3427, 'cake': 3428, 'leon': 3429, 'undoubtedli': 3430, 'tribe': 3431, 'inan': 3432, 'apolog': 3433, '1996': 3434, 'interrupt': 3435, 'pant': 3436, 'chest': 3437, 'ginger': 3438, 'pen': 3439, 'pot': 3440, 'retain': 3441, 'exot': 3442, 'devast': 3443, 'embrac': 3444, 'maggi': 3445, 'furthermor': 3446, 'humbl': 3447, 'solut': 3448, 'vulgar': 3449, 'jenni': 3450, 'aveng': 3451, 'primari': 3452, 'brooklyn': 3453, 'highest': 3454, 'colonel': 3455, 'airplan': 3456, 'institut': 3457, 'colleagu': 3458, 'instant': 3459, 'polanski': 3460, 'florida': 3461, 'trace': 3462, 'consum': 3463, '3rd': 3464, '1999': 3465, 'seduct': 3466, 'poke': 3467, 'illog': 3468, 'linda': 3469, 'gender': 3470, 'disabl': 3471, 'principl': 3472, 'sale': 3473, 'ya': 3474, 'godzilla': 3475, 'rick': 3476, 'descend': 3477, 'wive': 3478, 'bowl': 3479, 'strain': 3480, 'dian': 3481, 'smaller': 3482, 'outer': 3483, 'cope': 3484, 'dutch': 3485, 'yard': 3486, 'inferior': 3487, 'dive': 3488, 'blatant': 3489, 'devoid': 3490, 'mixtur': 3491, 'beneath': 3492, 'dud': 3493, 'lol': 3494, 'rabbit': 3495, 'secondli': 3496, 'gloriou': 3497, 'predecessor': 3498, 'scope': 3499, 'glamor': 3500, 'primarili': 3501, 'bubbl': 3502, 'hal': 3503, 'vast': 3504, 'cue': 3505, 'gundam': 3506, 'disjoint': 3507, 'pearl': 3508, 'alert': 3509, 'et': 3510, 'senseless': 3511, 'april': 3512, 'z': 3513, 'casual': 3514, 'alfr': 3515, 'grinch': 3516, 'countrysid': 3517, 'aggress': 3518, 'shelf': 3519, 'streep': 3520, 'hideou': 3521, 'simplist': 3522, 'museum': 3523, 'breed': 3524, 'domino': 3525, 'shirley': 3526, 'myer': 3527, 'trademark': 3528, 'garbo': 3529, 'arab': 3530, 'invas': 3531, 'talki': 3532, 'acid': 3533, 'illeg': 3534, 'boom': 3535, 'stir': 3536, 'slide': 3537, 'applaud': 3538, 'stellar': 3539, 'unhappi': 3540, 'rendit': 3541, 'loyal': 3542, 'mail': 3543, 'robberi': 3544, 'mayor': 3545, 'hardcor': 3546, 'oz': 3547, 'uwe': 3548, 'robinson': 3549, 'experiment': 3550, 'maci': 3551, 'disgrac': 3552, 'obtain': 3553, 'hopeless': 3554, 'defens': 3555, 'khan': 3556, 'vanish': 3557, 'sh': 3558, 'stack': 3559, 'soccer': 3560, 'rifl': 3561, 'dismiss': 3562, 'counter': 3563, 'blew': 3564, 'spider': 3565, 'tempt': 3566, 'wont': 3567, 'span': 3568, 'amanda': 3569, 'incomprehens': 3570, 'dicken': 3571, 'scroog': 3572, 'berlin': 3573, 'declin': 3574, 'fri': 3575, 'emphasi': 3576, 'craze': 3577, 'grandfath': 3578, 'tenant': 3579, 'hartley': 3580, 'recruit': 3581, 'psychic': 3582, 'topless': 3583, 'diana': 3584, 'shed': 3585, 'ethnic': 3586, 'ration': 3587, 'sympath': 3588, 'trashi': 3589, 'shaw': 3590, 'justin': 3591, 'niro': 3592, 'riot': 3593, 'woo': 3594, 'porno': 3595, 'lumet': 3596, 'sibl': 3597, 'parad': 3598, 'goer': 3599, 'revolt': 3600, 'resurrect': 3601, 'wet': 3602, 'bitch': 3603, 'intim': 3604, 'faster': 3605, 'feminist': 3606, 'wheel': 3607, 'nephew': 3608, 'mario': 3609, 'choru': 3610, 'immort': 3611, '00': 3612, 'jonathan': 3613, 'biographi': 3614, 'commend': 3615, 'weakest': 3616, 'patriot': 3617, 'eager': 3618, 'farmer': 3619, 'dealer': 3620, 'lena': 3621, 'slick': 3622, 'steam': 3623, 'unreal': 3624, 'ensur': 3625, 'gap': 3626, 'honesti': 3627, 'ballet': 3628, 'andr': 3629, 'partial': 3630, 'region': 3631, 'wendi': 3632, 'enlighten': 3633, 'rider': 3634, 'hopper': 3635, 'hesit': 3636, 'worm': 3637, 'charlott': 3638, 'sappi': 3639, 'blunt': 3640, 'wore': 3641, 'macarthur': 3642, 'repress': 3643, 'leo': 3644, 'sandra': 3645, 'psychopath': 3646, 'similarli': 3647, 'mutant': 3648, 'confin': 3649, 'victori': 3650, 'composit': 3651, 'snap': 3652, 'properti': 3653, 'prequel': 3654, 'util': 3655, 'vice': 3656, 'morri': 3657, 'skull': 3658, 'owen': 3659, 'kingdom': 3660, 'nostalg': 3661, 'hung': 3662, 'safeti': 3663, 'franco': 3664, 'drum': 3665, 'pattern': 3666, 'latin': 3667, 'tad': 3668, 'acquir': 3669, 'despair': 3670, 'compass': 3671, 'miseri': 3672, 'dust': 3673, 'bow': 3674, 'whoopi': 3675, 'bergman': 3676, 'strand': 3677, 'hyde': 3678, 'bonu': 3679, 'heartbreak': 3680, 'valuabl': 3681, 'recycl': 3682, 'rope': 3683, '1972': 3684, 'emperor': 3685, 'tail': 3686, 'campbel': 3687, 'cg': 3688, 'rocki': 3689, 'farrel': 3690, 'deed': 3691, 'rambl': 3692, 'dalton': 3693, 'nervou': 3694, 'snl': 3695, 'del': 3696, 'exit': 3697, 'speci': 3698, 'thru': 3699, 'repli': 3700, 'drain': 3701, 'montana': 3702, 'compens': 3703, 'kyle': 3704, 'bumbl': 3705, 'tonight': 3706, 'wacki': 3707, 'gal': 3708, 'rapist': 3709, 'radic': 3710, 'downhil': 3711, 'pour': 3712, 'mistress': 3713, '35': 3714, 'rotten': 3715, 'percept': 3716, 'roth': 3717, 'contempl': 3718, 'da': 3719, 'bleed': 3720, 'romp': 3721, 'orson': 3722, 'slug': 3723, 'martian': 3724, 'olli': 3725, 'gimmick': 3726, 'airport': 3727, 'oppress': 3728, 'chess': 3729, 'carradin': 3730, 'attorney': 3731, 'taught': 3732, 'melodi': 3733, 'heal': 3734, 'preach': 3735, 'arc': 3736, 'edgar': 3737, 'unpredict': 3738, 'tackl': 3739, 'pursuit': 3740, 'arguabl': 3741, '1983': 3742, 'pervert': 3743, 'banal': 3744, 'slash': 3745, 'dazzl': 3746, 'belt': 3747, 'champion': 3748, 'programm': 3749, 'paltrow': 3750, 'pervers': 3751, 'mislead': 3752, 'shelley': 3753, 'tooth': 3754, 'stilt': 3755, 'mesmer': 3756, 'vocal': 3757, 'gambl': 3758, 'marti': 3759, 'employe': 3760, 'duval': 3761, 'chicken': 3762, 'tiresom': 3763, 'rubi': 3764, 'sensat': 3765, 'cleverli': 3766, 'maid': 3767, 'conneri': 3768, 'vengeanc': 3769, 'bela': 3770, 'plight': 3771, 'virginia': 3772, 'graham': 3773, 'poem': 3774, 'raymond': 3775, 'uplift': 3776, 'passeng': 3777, 'orang': 3778, 'closest': 3779, 'dixon': 3780, 'franki': 3781, 'swallow': 3782, 'secretli': 3783, 'suffic': 3784, 'abraham': 3785, 'giggl': 3786, 'extens': 3787, 'convincingli': 3788, 'habit': 3789, 'iran': 3790, 'volum': 3791, 'yawn': 3792, 'paranoia': 3793, 'outing': 3794, 'climact': 3795, 'clone': 3796, 'lundgren': 3797, 'quarter': 3798, 'mute': 3799, 'amitabh': 3800, 'inject': 3801, 'calm': 3802, 'monologu': 3803, '1968': 3804, 'profan': 3805, 'gerard': 3806, 'whine': 3807, 'tube': 3808, 'numb': 3809, 'crystal': 3810, 'bay': 3811, 'sirk': 3812, 'scottish': 3813, 'engross': 3814, 'pokemon': 3815, 'bend': 3816, 'abort': 3817, 'backward': 3818, 'plod': 3819, 'meander': 3820, 'linger': 3821, 'im': 3822, 'surpass': 3823, 'chicago': 3824, 'austen': 3825, 'grotesqu': 3826, 'septemb': 3827, 'dispos': 3828, 'lowest': 3829, 'underst': 3830, 'junior': 3831, 'earl': 3832, 'trend': 3833, 'ethan': 3834, 'taxi': 3835, 'franci': 3836, 'frankenstein': 3837, 'expand': 3838, 'poetri': 3839, 'nichola': 3840, 'richardson': 3841, 'profess': 3842, 'fed': 3843, 'spock': 3844, 'nostalgia': 3845, 'simplic': 3846, 'waitress': 3847, 'econom': 3848, 'der': 3849, 'spoke': 3850, 'compliment': 3851, 'cannon': 3852, 'stallon': 3853, 'lure': 3854, 'rant': 3855, 'rubber': 3856, 'muddl': 3857, 'mundan': 3858, 'descent': 3859, 'literatur': 3860, 'eugen': 3861, 'catchi': 3862, 'greedi': 3863, 'sue': 3864, 'tourist': 3865, 'household': 3866, 'myth': 3867, 'instrument': 3868, 'dysfunct': 3869, 'hum': 3870, 'hello': 3871, 'louis': 3872, 'cent': 3873, 'mortal': 3874, 'recognis': 3875, 'damon': 3876, 'mankind': 3877, 'carel': 3878, 'insur': 3879, 'furi': 3880, 'alongsid': 3881, 'stale': 3882, 'flee': 3883, 'june': 3884, 'firstli': 3885, 'duck': 3886, 'irrelev': 3887, 'randi': 3888, 'phoni': 3889, 'recognit': 3890, 'deaf': 3891, 'equival': 3892, 'coast': 3893, 'dement': 3894, 'crucial': 3895, 'lang': 3896, 'omen': 3897, 'molli': 3898, 'occupi': 3899, 'phantom': 3900, 'map': 3901, 'dictat': 3902, 'eaten': 3903, 'bacal': 3904, 'sissi': 3905, 'onlin': 3906, 'dreari': 3907, 'distinguish': 3908, 'bump': 3909, 'daisi': 3910, 'loyalti': 3911, 'lengthi': 3912, 'rude': 3913, 'bike': 3914, 'twilight': 3915, 'labor': 3916, 'biko': 3917, 'drake': 3918, 'newli': 3919, 'cyborg': 3920, 'ashley': 3921, 'likewis': 3922, 'freez': 3923, '1973': 3924, 'rooney': 3925, 'damm': 3926, 'heel': 3927, 'blackmail': 3928, 'buffalo': 3929, 'reign': 3930, 'wisdom': 3931, 'grayson': 3932, 'antwon': 3933, 'nineti': 3934, 'analysi': 3935, 'attribut': 3936, 'provoc': 3937, 'incorpor': 3938, 'approv': 3939, 'proce': 3940, 'unorigin': 3941, 'chronicl': 3942, 'ridden': 3943, 'exposur': 3944, 'emphas': 3945, 'tunnel': 3946, 'worn': 3947, 'baddi': 3948, 'prey': 3949, 'boxer': 3950, 'pink': 3951, 'inher': 3952, 'vein': 3953, 'interior': 3954, 'keith': 3955, 'butler': 3956, 'basketbal': 3957, 'startl': 3958, 'sailor': 3959, 'barrymor': 3960, 'er': 3961, 'drift': 3962, 'predat': 3963, 'barrel': 3964, 'julian': 3965, 'improvis': 3966, 'substitut': 3967, 'stalker': 3968, 'condemn': 3969, 'meg': 3970, 'indiffer': 3971, 'othello': 3972, 'undeni': 3973, 'unrel': 3974, 'nicol': 3975, 'robbin': 3976, 'meyer': 3977, 'carla': 3978, 'degrad': 3979, 'millionair': 3980, 'mormon': 3981, 'belushi': 3982, 'fleet': 3983, 'elm': 3984, 'underli': 3985, 'bunni': 3986, 'mighti': 3987, 'walsh': 3988, 'hypnot': 3989, 'simmon': 3990, 'shove': 3991, 'hay': 3992, 'disord': 3993, 'rukh': 3994, 'watson': 3995, 'edgi': 3996, 'novak': 3997, 'unawar': 3998, 'nyc': 3999, 'warmth': 4000, 'roof': 4001, 'enthusiasm': 4002, 'alison': 4003, 'palac': 4004, 'errol': 4005, 'dolph': 4006, 'exquisit': 4007, 'priceless': 4008, 'lampoon': 4009, 'mtv': 4010, 'alarm': 4011, 'greed': 4012, 'reid': 4013, '3d': 4014, 'vital': 4015, 'firm': 4016, 'agenda': 4017, 'marion': 4018, 'testament': 4019, 'peck': 4020, 'ponder': 4021, 'randomli': 4022, 'spain': 4023, 'simultan': 4024, 'campaign': 4025, 'crown': 4026, 'petti': 4027, 'unleash': 4028, 'valentin': 4029, '13th': 4030, 'israel': 4031, 'glanc': 4032, 'gestur': 4033, 'pamela': 4034, 'what': 4035, 'orlean': 4036, 'distort': 4037, 'showdown': 4038, 'thompson': 4039, 'preserv': 4040, 'iraq': 4041, 'angela': 4042, 'coup': 4043, '1933': 4044, 'championship': 4045, 'eastern': 4046, 'profit': 4047, 'nun': 4048, 'drip': 4049, 'peril': 4050, 'session': 4051, 'minimum': 4052, 'sergeant': 4053, 'cassidi': 4054, 'zizek': 4055, 'beatl': 4056, 'buster': 4057, 'quinn': 4058, 'realm': 4059, 'stroke': 4060, 'travesti': 4061, 'empathi': 4062, 'crow': 4063, 'reson': 4064, 'rout': 4065, 'regist': 4066, 'sabrina': 4067, 'wig': 4068, 'miyazaki': 4069, 'stake': 4070, 'calib': 4071, 'fido': 4072, 'brenda': 4073, 'valley': 4074, 'han': 4075, 'kurosawa': 4076, 'crawl': 4077, 'gentleman': 4078, 'bro': 4079, 'jan': 4080, 'perpetu': 4081, 'contradict': 4082, 'restrain': 4083, 'unimagin': 4084, 'represent': 4085, 'mon': 4086, 'exposit': 4087, 'scotland': 4088, 'cream': 4089, 'climat': 4090, 'shootout': 4091, '1984': 4092, 'cooki': 4093, 'din': 4094, 'delic': 4095, 'absent': 4096, 'abomin': 4097, 'josh': 4098, 'fuller': 4099, 'ustinov': 4100, 'geek': 4101, 'traumat': 4102, 'cloud': 4103, 'shaki': 4104, 'baldwin': 4105, 'shoddi': 4106, 'painter': 4107, 'tacki': 4108, 'sucker': 4109, 'femm': 4110, 'greg': 4111, 'pretens': 4112, '1987': 4113, 'wax': 4114, 'censor': 4115, 'businessman': 4116, 'crawford': 4117, 'distress': 4118, 'meryl': 4119, 'pole': 4120, 'spacey': 4121, 'warrant': 4122, '1997': 4123, 'stargat': 4124, 'monoton': 4125, 'compromis': 4126, 'passabl': 4127, 'derang': 4128, 'darren': 4129, 'mclaglen': 4130, 'demis': 4131, 'unsatisfi': 4132, 'unseen': 4133, 'dana': 4134, 'perceiv': 4135, 'sammi': 4136, 'soderbergh': 4137, 'ross': 4138, 'fog': 4139, 'tech': 4140, 'unravel': 4141, 'tarantino': 4142, 'kumar': 4143, 'reluct': 4144, 'norm': 4145, 'expedit': 4146, 'click': 4147, 'deniro': 4148, 'clash': 4149, 'judgment': 4150, 'fenc': 4151, '1993': 4152, 'valid': 4153, 'verbal': 4154, 'jewel': 4155, 'deceas': 4156, 'wholli': 4157, 'correctli': 4158, 'polici': 4159, 'primit': 4160, 'uncov': 4161, 'accuraci': 4162, 'exclus': 4163, 'anchor': 4164, 'sid': 4165, 'dee': 4166, 'nathan': 4167, 'seal': 4168, 'furiou': 4169, 'austin': 4170, 'antonioni': 4171, 'slam': 4172, 'crippl': 4173, 'malon': 4174, 'behold': 4175, 'murray': 4176, 'debt': 4177, 'joel': 4178, 'ritual': 4179, 'wang': 4180, 'sustain': 4181, 'conduct': 4182, '1995': 4183, 'tax': 4184, 'wretch': 4185, 'patienc': 4186, '2008': 4187, '1971': 4188, 'fart': 4189, 'sand': 4190, 'sunni': 4191, 'hallucin': 4192, 'seldom': 4193, 'mode': 4194, 'trait': 4195, 'enforc': 4196, 'unfair': 4197, 'clerk': 4198, 'logan': 4199, 'sheet': 4200, 'temper': 4201, 'vanc': 4202, 'pocket': 4203, 'shanghai': 4204, 'nicola': 4205, 'fabric': 4206, 'roller': 4207, 'fought': 4208, 'darn': 4209, 'alec': 4210, 'dreck': 4211, '3000': 4212, 'bake': 4213, 'tactic': 4214, 'runner': 4215, 'exhaust': 4216, 'phil': 4217, 'canyon': 4218, 'shell': 4219, 'guitar': 4220, 'technicolor': 4221, 'outlin': 4222, 'legaci': 4223, 'penni': 4224, 'grief': 4225, 'critiqu': 4226, 'stuart': 4227, 'scriptwrit': 4228, 'despis': 4229, 'squad': 4230, 'stark': 4231, 'pete': 4232, 'clau': 4233, 'fundament': 4234, 'rita': 4235, 'schedul': 4236, 'bridget': 4237, 'soup': 4238, 'preposter': 4239, 'helpless': 4240, 'bias': 4241, 'sweep': 4242, 'conscious': 4243, 'preston': 4244, 'robber': 4245, 'isabel': 4246, 'divid': 4247, 'newman': 4248, 'cigarett': 4249, 'inabl': 4250, 'connor': 4251, 'vomit': 4252, 'unexpectedli': 4253, 'passag': 4254, 'bloom': 4255, 'consciou': 4256, 'delv': 4257, 'alicia': 4258, 'sugar': 4259, 'rear': 4260, 'russia': 4261, 'lacklust': 4262, 'restrict': 4263, 'boyl': 4264, 'marc': 4265, 'drove': 4266, 'alley': 4267, 'gregori': 4268, 'flair': 4269, 'downey': 4270, 'liberti': 4271, 'sniper': 4272, 'palanc': 4273, 'rehash': 4274, 'implic': 4275, 'jodi': 4276, 'invad': 4277, 'jacket': 4278, 'agenc': 4279, 'culmin': 4280, 'kansa': 4281, 'propos': 4282, 'sentinel': 4283, 'horn': 4284, 'feat': 4285, 'behaviour': 4286, 'chainsaw': 4287, 'karl': 4288, 'pale': 4289, 'improb': 4290, 'arrow': 4291, '22': 4292, 'bacon': 4293, 'rod': 4294, 'rehears': 4295, 'wrench': 4296, 'awhil': 4297, 'tendenc': 4298, 'foxx': 4299, 'delet': 4300, '1936': 4301, 'lush': 4302, 'aesthet': 4303, 'rampag': 4304, 'tripe': 4305, 'ladder': 4306, 'sharon': 4307, 'asylum': 4308, 'vet': 4309, 'yeti': 4310, 'mccoy': 4311, 'kolchak': 4312, 'cap': 4313, 'underneath': 4314, 'minu': 4315, 'paramount': 4316, 'rhythm': 4317, 'suspicion': 4318, 'paradis': 4319, 'wildli': 4320, 'newcom': 4321, 'basing': 4322, 'rumor': 4323, 'wagner': 4324, 'weav': 4325, 'amazon': 4326, 'scoop': 4327, 'spice': 4328, 'prank': 4329, 'thunderbird': 4330, 'tasteless': 4331, 'visitor': 4332, 'filler': 4333, 'tomorrow': 4334, 'hulk': 4335, '1920': 4336, 'shortcom': 4337, 'suffici': 4338, '19th': 4339, 'lurk': 4340, 'sung': 4341, 'elit': 4342, 'aristocrat': 4343, 'fright': 4344, 'conscienc': 4345, 'stream': 4346, 'el': 4347, '1978': 4348, 'financ': 4349, 'globe': 4350, 'hungri': 4351, 'loneli': 4352, 'coaster': 4353, '1988': 4354, 'hackney': 4355, 'straightforward': 4356, 'atroc': 4357, 'grudg': 4358, 'heist': 4359, 'abrupt': 4360, 'paxton': 4361, 'rub': 4362, 'penn': 4363, 'beverli': 4364, 'hopkin': 4365, 'leigh': 4366, 'smell': 4367, 'chamberlain': 4368, 'immers': 4369, 'standout': 4370, 'bread': 4371, 'secondari': 4372, 'curli': 4373, 'posey': 4374, 'entranc': 4375, 'cancer': 4376, 'inmat': 4377, 'en': 4378, 'counterpart': 4379, 'choppi': 4380, 'impos': 4381, 'ingeni': 4382, 'teas': 4383, '75': 4384, 'dirt': 4385, 'naughti': 4386, 'chavez': 4387, 'brit': 4388, '1939': 4389, 'quietli': 4390, 'recogniz': 4391, 'ram': 4392, 'wwe': 4393, 'couch': 4394, 'tierney': 4395, 'worship': 4396, 'iv': 4397, 'lectur': 4398, 'literari': 4399, 'springer': 4400, '1989': 4401, 'minist': 4402, '1986': 4403, 'ratso': 4404, 'morbid': 4405, 'enthral': 4406, 'yearn': 4407, 'convert': 4408, 'sassi': 4409, 'attenborough': 4410, 'net': 4411, 'laurenc': 4412, 'entitl': 4413, 'watcher': 4414, 'quaid': 4415, 'variat': 4416, 'geni': 4417, 'esther': 4418, 'clan': 4419, 'heartfelt': 4420, 'missil': 4421, 'transcend': 4422, 'misguid': 4423, 'bernard': 4424, 'sublim': 4425, 'nemesi': 4426, 'skeptic': 4427, 'ace': 4428, 'policeman': 4429, 'lindsay': 4430, 'moreov': 4431, 'duel': 4432, 'nolan': 4433, 'cattl': 4434, 'injuri': 4435, 'uncut': 4436, 'rosemari': 4437, 'spiral': 4438, 'setup': 4439, 'cruelti': 4440, 'puppi': 4441, 'poe': 4442, 'enabl': 4443, 'graini': 4444, 'youngest': 4445, 'tyler': 4446, 'mytholog': 4447, 'unexplain': 4448, 'grin': 4449, 'egg': 4450, 'characteris': 4451, 'brood': 4452, 'vader': 4453, 'facil': 4454, 'bye': 4455, '1979': 4456, 'moder': 4457, 'artsi': 4458, 'steadi': 4459, 'hopelessli': 4460, 'kitti': 4461, 'kidman': 4462, 'out': 4463, 'diari': 4464, 'reliabl': 4465, 'buzz': 4466, 'dont': 4467, 'obstacl': 4468, 'carlito': 4469, 'bean': 4470, 'hk': 4471, 'brendan': 4472, 'weather': 4473, 'patricia': 4474, 'spontan': 4475, 'sweat': 4476, 'acquaint': 4477, 'christin': 4478, 'baffl': 4479, 'niec': 4480, 'bounc': 4481, 'heap': 4482, 'effici': 4483, 'hammi': 4484, 'bronson': 4485, 'kline': 4486, 'martha': 4487, 'underworld': 4488, 'clueless': 4489, 'despic': 4490, 'preming': 4491, 'exterior': 4492, 'narrow': 4493, 'bewar': 4494, 'decept': 4495, 'athlet': 4496, 'gina': 4497, '1969': 4498, 'oblig': 4499, 'hain': 4500, 'disastr': 4501, 'fuel': 4502, 'gillian': 4503, 'candl': 4504, 'enlist': 4505, 'harmless': 4506, 'tick': 4507, 'insipid': 4508, 'shatter': 4509, '19': 4510, 'viewpoint': 4511, 'loath': 4512, 'scar': 4513, 'sooner': 4514, 'mayhem': 4515, 'biker': 4516, 'taboo': 4517, 'dilemma': 4518, 'housewif': 4519, 'hepburn': 4520, 'uh': 4521, 'preachi': 4522, 'dandi': 4523, 'astound': 4524, 'goof': 4525, 'trigger': 4526, 'mermaid': 4527, 'loi': 4528, 'fontain': 4529, 'outlaw': 4530, 'circu': 4531, 'virtu': 4532, '73': 4533, 'analyz': 4534, 'sleepwalk': 4535, 'suprem': 4536, 'headach': 4537, 'injur': 4538, 'angst': 4539, 'rome': 4540, 'lester': 4541, 'renaiss': 4542, 'macho': 4543, 'amor': 4544, 'fluff': 4545, 'redund': 4546, 'cassavet': 4547, 'contempt': 4548, 'phenomenon': 4549, 'hokey': 4550, 'hostag': 4551, 'overlong': 4552, 'gere': 4553, 'oldest': 4554, 'zoom': 4555, 'filth': 4556, 'slimi': 4557, 'glorifi': 4558, 'spade': 4559, 'dish': 4560, 'claustrophob': 4561, 'ebert': 4562, 'whore': 4563, 'steer': 4564, 'camcord': 4565, 'intric': 4566, 'stair': 4567, 'dismal': 4568, 'immatur': 4569, 'boston': 4570, 'bent': 4571, 'salt': 4572, 'foolish': 4573, 'stimul': 4574, 'guin': 4575, 'hooker': 4576, 'sox': 4577, 'surgeri': 4578, 'tripl': 4579, 'scorses': 4580, 'idol': 4581, 'ariel': 4582, 'corbett': 4583, 'flirt': 4584, 'antagonist': 4585, 'widescreen': 4586, 'shred': 4587, 'proport': 4588, 'joker': 4589, 'gasp': 4590, 'fascist': 4591, 'remad': 4592, 'radiat': 4593, 'spinal': 4594, 'spree': 4595, 'rhyme': 4596, 'preced': 4597, 'obligatori': 4598, 'perman': 4599, 'corman': 4600, 'flashi': 4601, 'faint': 4602, '1981': 4603, 'gabl': 4604, '1976': 4605, 'keen': 4606, 'margin': 4607, 'beard': 4608, 'assert': 4609, 'trivia': 4610, 'messi': 4611, 'zane': 4612, 'harold': 4613, 'muscl': 4614, 'nolt': 4615, 'frantic': 4616, 'dwarf': 4617, 'mount': 4618, 'strongest': 4619, 'shield': 4620, 'astronaut': 4621, 'conquer': 4622, 'schlock': 4623, 'alvin': 4624, 'mutual': 4625, 'down': 4626, 'naschi': 4627, 'transplant': 4628, 'flag': 4629, 'cush': 4630, 'cow': 4631, 'cohen': 4632, 'triangl': 4633, 'instruct': 4634, 'off': 4635, 'vaniti': 4636, 'brush': 4637, 'deer': 4638, 'sensual': 4639, 'hara': 4640, 'neurot': 4641, 'strive': 4642, '95': 4643, 'persuad': 4644, 'wield': 4645, 'info': 4646, 'mobil': 4647, 'aborigin': 4648, 'bitten': 4649, 'repris': 4650, 'interestingli': 4651, 'discern': 4652, '1945': 4653, 'departur': 4654, 'www': 4655, 'danish': 4656, 'ritchi': 4657, '28': 4658, 'divin': 4659, 'barn': 4660, 'mol': 4661, 'someday': 4662, 'flock': 4663, 'fishburn': 4664, 'claud': 4665, 'bachelor': 4666, 'carey': 4667, 'archiv': 4668, 'resum': 4669, 'boob': 4670, 'scandal': 4671, 'raj': 4672, 'inflict': 4673, 'submit': 4674, 'fragil': 4675, 'frontier': 4676, 'axe': 4677, 'casino': 4678, 'recit': 4679, 'cb': 4680, 'clad': 4681, 'mobster': 4682, 'neill': 4683, 'proclaim': 4684, 'dylan': 4685, 'biblic': 4686, 'loretta': 4687, 'heartwarm': 4688, 'banter': 4689, 'senior': 4690, 'harrison': 4691, 'colin': 4692, 'carlo': 4693, 'anton': 4694, 'parson': 4695, 'vibrant': 4696, 'dim': 4697, 'pixar': 4698, 'cycl': 4699, 'earnest': 4700, 'ish': 4701, 'timberlak': 4702, 'jade': 4703, 'helm': 4704, 'miracul': 4705, 'dame': 4706, 'melissa': 4707, 'prophet': 4708, 'undermin': 4709, 'kathryn': 4710, 'pacif': 4711, 'cher': 4712, 'artwork': 4713, 'cliffhang': 4714, 'hug': 4715, 'hapless': 4716, 'pickford': 4717, 'traffic': 4718, 'bate': 4719, 'wendigo': 4720, 'hilar': 4721, 'rot': 4722, 'luka': 4723, 'europa': 4724, 'articl': 4725, 'seedi': 4726, 'illus': 4727, 'lucil': 4728, 'bikini': 4729, 'venom': 4730, 'estrang': 4731, 'token': 4732, 'orphan': 4733, 'redneck': 4734, 'isra': 4735, 'cerebr': 4736, 'rooki': 4737, 'flavor': 4738, 'blatantli': 4739, 'razor': 4740, 'lui': 4741, 'eli': 4742, 'misfortun': 4743, 'static': 4744, 'nope': 4745, 'sicken': 4746, 'akin': 4747, 'mason': 4748, 'breakfast': 4749, 'http': 4750, 'toronto': 4751, 'holocaust': 4752, 'pc': 4753, 'legitim': 4754, 'jordan': 4755, 'electron': 4756, 'bondag': 4757, 'wardrob': 4758, 'aris': 4759, 'feast': 4760, 'milo': 4761, 'jo': 4762, 'shepherd': 4763, 'antholog': 4764, 'marlon': 4765, 'alexandr': 4766, 'vile': 4767, 'choke': 4768, 'northern': 4769, 'winchest': 4770, 'foil': 4771, 'uma': 4772, 'trier': 4773, 'vanessa': 4774, 'mathieu': 4775, 'feminin': 4776, 'audrey': 4777, 'clinic': 4778, 'dudley': 4779, 'linear': 4780, 'boyer': 4781, 'affleck': 4782, 'magician': 4783, 'leather': 4784, 'tack': 4785, 'ideolog': 4786, 'huston': 4787, 'ceremoni': 4788, 'nightclub': 4789, 'psych': 4790, 'smack': 4791, 'cartoonish': 4792, 'styliz': 4793, 'glare': 4794, 'swept': 4795, 'retriev': 4796, 'frog': 4797, 'shorter': 4798, 'howl': 4799, 'highway': 4800, 'turd': 4801, 'outdat': 4802, 'deem': 4803, 'knightley': 4804, 'comprehend': 4805, 'peer': 4806, 'abund': 4807, 'disregard': 4808, 'fifth': 4809, 'gilbert': 4810, 'wrestler': 4811, 'charlton': 4812, 'oppon': 4813, 'gunga': 4814, 'energet': 4815, '1994': 4816, 'lighter': 4817, 'phenomen': 4818, 'chip': 4819, 'deliver': 4820, 'bastard': 4821, 'snatch': 4822, 'monument': 4823, 'uniformli': 4824, 'boo': 4825, 'senat': 4826, 'spawn': 4827, 'btw': 4828, 'moe': 4829, 'sleaz': 4830, 'potter': 4831, 'lifeless': 4832, 'client': 4833, 'corn': 4834, 'braveheart': 4835, 'lavish': 4836, 'summar': 4837, 'cuban': 4838, 'einstein': 4839, 'evolut': 4840, 'spine': 4841, 'conrad': 4842, 'newer': 4843, 'goldsworthi': 4844, 'plate': 4845, 'cemeteri': 4846, 'compris': 4847, '1991': 4848, 'greet': 4849, '4th': 4850, 'tara': 4851, 'salman': 4852, 'toe': 4853, 'breakdown': 4854, 'durat': 4855, 'whack': 4856, 'bogu': 4857, 'collector': 4858, 'mitch': 4859, 'belli': 4860, 'cecil': 4861, 'constitut': 4862, 'undertak': 4863, 'clara': 4864, 'trauma': 4865, 'mcqueen': 4866, 'nina': 4867, 'alleg': 4868, 'outright': 4869, 'armstrong': 4870, 'sorrow': 4871, 'eleven': 4872, 'ie': 4873, 'liu': 4874, 'replay': 4875, 'undead': 4876, 'luxuri': 4877, 'randolph': 4878, 'bulk': 4879, 'historian': 4880, 'embark': 4881, 'healthi': 4882, 'lex': 4883, 'jedi': 4884, 'appl': 4885, 'inaccuraci': 4886, 'wtf': 4887, 'signal': 4888, 'judd': 4889, '1977': 4890, 'fluid': 4891, 'evelyn': 4892, 'occup': 4893, 'pronounc': 4894, '1974': 4895, 'kazan': 4896, 'ol': 4897, 'creek': 4898, 'spectacl': 4899, 'gilliam': 4900, 'capot': 4901, 'jare': 4902, 'bori': 4903, 'neatli': 4904, 'kent': 4905, 'jam': 4906, 'firmli': 4907, 'jule': 4908, 'tokyo': 4909, 'propheci': 4910, 'antonio': 4911, 'curtain': 4912, 'sacrif': 4913, 'porter': 4914, 'rosario': 4915, 'ash': 4916, 'paula': 4917, 'subtli': 4918, 'truman': 4919, 'groan': 4920, 'kiddi': 4921, 'unattract': 4922, 'pepper': 4923, 'vain': 4924, 'vignett': 4925, 'bait': 4926, 'inclus': 4927, 'aussi': 4928, 'galaxi': 4929, 'miniseri': 4930, 'pioneer': 4931, 'comprehens': 4932, 'knee': 4933, 'abound': 4934, 'forgiven': 4935, 'cape': 4936, 'comb': 4937, 'decapit': 4938, 'genet': 4939, 'meal': 4940, 'conan': 4941, 'relentless': 4942, 'id': 4943, 'walt': 4944, 'poker': 4945, 'blur': 4946, '1985': 4947, 'sidewalk': 4948, 'fruit': 4949, 'mum': 4950, 'palm': 4951, 'basket': 4952, 'congratul': 4953, 'inaccur': 4954, 'spray': 4955, 'carmen': 4956, 'unsuspect': 4957, 'goldblum': 4958, 'roar': 4959, 'miami': 4960, 'bsg': 4961, 'lauren': 4962, 'lanc': 4963, 'frontal': 4964, 'verg': 4965, 'optimist': 4966, '21st': 4967, 'victorian': 4968, 'substanti': 4969, 'spill': 4970, 'detach': 4971, 'assort': 4972, 'turtl': 4973, 'reincarn': 4974, 'handicap': 4975, 'bach': 4976, 'epitom': 4977, 'monti': 4978, 'vastli': 4979, 'incorrect': 4980, 'dubiou': 4981, 'weaker': 4982, 'masterson': 4983, 'jill': 4984, 'bravo': 4985, 'playboy': 4986, 'drone': 4987, 'sparkl': 4988, 'hostil': 4989, 'evan': 4990, 'asset': 4991, 'orchestr': 4992, 'modest': 4993, 'ghetto': 4994, 'macabr': 4995, 'scarfac': 4996, 'ingrid': 4997, 'weari': 4998, 'rapidli': 4999}\n"
     ]
    }
   ],
   "source": [
    "print(str(word_dict))"
   ]
  },
  {
   "cell_type": "markdown",
   "metadata": {},
   "source": [
    "Once you have added the endpoint name to the Lambda function, click on **Save**. Your Lambda function is now up and running. Next we need to create a way for our web app to execute the Lambda function.\n",
    "\n",
    "### Setting up API Gateway\n",
    "\n",
    "Now that our Lambda function is set up, it is time to create a new API using API Gateway that will trigger the Lambda function we have just created.\n",
    "\n",
    "Using AWS Console, navigate to **Amazon API Gateway** and then click on **Get started**.\n",
    "\n",
    "On the next page, make sure that **New API** is selected and give the new api a name, for example, `sentiment_analysis_api`. Then, click on **Create API**.\n",
    "\n",
    "Now we have created an API, however it doesn't currently do anything. What we want it to do is to trigger the Lambda function that we created earlier.\n",
    "\n",
    "Select the **Actions** dropdown menu and click **Create Method**. A new blank method will be created, select its dropdown menu and select **POST**, then click on the check mark beside it.\n",
    "\n",
    "For the integration point, make sure that **Lambda Function** is selected and click on the **Use Lambda Proxy integration**. This option makes sure that the data that is sent to the API is then sent directly to the Lambda function with no processing. It also means that the return value must be a proper response object as it will also not be processed by API Gateway.\n",
    "\n",
    "Type the name of the Lambda function you created earlier into the **Lambda Function** text entry box and then click on **Save**. Click on **OK** in the pop-up box that then appears, giving permission to API Gateway to invoke the Lambda function you created.\n",
    "\n",
    "The last step in creating the API Gateway is to select the **Actions** dropdown and click on **Deploy API**. You will need to create a new Deployment stage and name it anything you like, for example `prod`.\n",
    "\n",
    "You have now successfully set up a public API to access your SageMaker model. Make sure to copy or write down the URL provided to invoke your newly created public API as this will be needed in the next step. This URL can be found at the top of the page, highlighted in blue next to the text **Invoke URL**."
   ]
  },
  {
   "cell_type": "markdown",
   "metadata": {},
   "source": [
    "## Step 4: Deploying our web app\n",
    "\n",
    "Now that we have a publicly available API, we can start using it in a web app. For our purposes, we have provided a simple static html file which can make use of the public api you created earlier.\n",
    "\n",
    "In the `website` folder there should be a file called `index.html`. Download the file to your computer and open that file up in a text editor of your choice. There should be a line which contains **\\*\\*REPLACE WITH PUBLIC API URL\\*\\***. Replace this string with the url that you wrote down in the last step and then save the file.\n",
    "\n",
    "Now, if you open `index.html` on your local computer, your browser will behave as a local web server and you can use the provided site to interact with your SageMaker model.\n",
    "\n",
    "If you'd like to go further, you can host this html file anywhere you'd like, for example using github or hosting a static site on Amazon's S3. Once you have done this you can share the link with anyone you'd like and have them play with it too!\n",
    "\n",
    "> **Important Note** In order for the web app to communicate with the SageMaker endpoint, the endpoint has to actually be deployed and running. This means that you are paying for it. Make sure that the endpoint is running when you want to use the web app but that you shut it down when you don't need it, otherwise you will end up with a surprisingly large AWS bill.\n",
    "\n",
    "**TODO:** Make sure that you include the edited `index.html` file in your project submission."
   ]
  },
  {
   "cell_type": "markdown",
   "metadata": {},
   "source": [
    "Now that your web app is working, trying playing around with it and see how well it works.\n",
    "\n",
    "**Question**: Give an example of a review that you entered into your web app. What was the predicted sentiment of your example review?"
   ]
  },
  {
   "cell_type": "markdown",
   "metadata": {},
   "source": [
    "**Answer:**\n",
    "\n",
    "- My review - \"This movie was a total waste of time, did not like it at all. The acting was horrible, and the direction was incompetant. There is a big gap in story telling, and camera movement is so jerky that it gives you headache\" \n",
    "\n",
    "- Rresult -  Your review was NEGATIVE"
   ]
  },
  {
   "cell_type": "markdown",
   "metadata": {},
   "source": [
    "### Delete the endpoint\n",
    "\n",
    "Remember to always shut down your endpoint if you are no longer using it. You are charged for the length of time that the endpoint is running so if you forget and leave it on you could end up with an unexpectedly large bill."
   ]
  },
  {
   "cell_type": "code",
   "execution_count": 89,
   "metadata": {},
   "outputs": [],
   "source": [
    "predictor.delete_endpoint()"
   ]
  },
  {
   "cell_type": "code",
   "execution_count": null,
   "metadata": {},
   "outputs": [],
   "source": []
  }
 ],
 "metadata": {
  "kernelspec": {
   "display_name": "Python 3",
   "language": "python",
   "name": "python3"
  },
  "language_info": {
   "codemirror_mode": {
    "name": "ipython",
    "version": 3
   },
   "file_extension": ".py",
   "mimetype": "text/x-python",
   "name": "python",
   "nbconvert_exporter": "python",
   "pygments_lexer": "ipython3",
   "version": "3.7.3"
  }
 },
 "nbformat": 4,
 "nbformat_minor": 2
}
